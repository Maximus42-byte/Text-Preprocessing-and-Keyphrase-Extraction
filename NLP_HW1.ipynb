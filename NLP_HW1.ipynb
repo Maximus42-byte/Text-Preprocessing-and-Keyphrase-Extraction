{
  "cells": [
    {
      "cell_type": "markdown",
      "metadata": {
        "id": "HROb43r8x-vX"
      },
      "source": [
        "**Home Work#1 for NLP Course SUT**"
      ]
    },
    {
      "cell_type": "markdown",
      "metadata": {
        "id": "TdAz4ggqpsEJ"
      },
      "source": [
        "**Installing Requierd Libs** "
      ]
    },
    {
      "cell_type": "code",
      "execution_count": 1,
      "metadata": {
        "colab": {
          "base_uri": "https://localhost:8080/"
        },
        "id": "FTQVrsHjwkzg",
        "outputId": "aaa9b457-d7cd-4620-f086-1e5865910713"
      },
      "outputs": [
        {
          "output_type": "stream",
          "name": "stdout",
          "text": [
            "\u001b[K     |████████████████████████████████| 316 kB 4.0 MB/s \n",
            "\u001b[K     |████████████████████████████████| 233 kB 44.9 MB/s \n",
            "\u001b[K     |████████████████████████████████| 1.4 MB 49.6 MB/s \n",
            "\u001b[?25h  Building wheel for nltk (setup.py) ... \u001b[?25l\u001b[?25hdone\n",
            "  Building wheel for libwapiti (setup.py) ... \u001b[?25l\u001b[?25hdone\n",
            "\u001b[K     |████████████████████████████████| 53 kB 1.2 MB/s \n",
            "\u001b[K     |████████████████████████████████| 175 kB 7.5 MB/s \n",
            "\u001b[K     |████████████████████████████████| 235 kB 47.7 MB/s \n",
            "\u001b[?25h  Building wheel for emoji (setup.py) ... \u001b[?25l\u001b[?25hdone\n",
            "\u001b[K     |████████████████████████████████| 36.2 MB 367 kB/s \n",
            "\u001b[K     |████████████████████████████████| 1.5 MB 35.7 MB/s \n",
            "\u001b[?25h  Building wheel for parsivar (setup.py) ... \u001b[?25l\u001b[?25hdone\n",
            "  Building wheel for nltk (setup.py) ... \u001b[?25l\u001b[?25hdone\n",
            "\u001b[31mERROR: pip's dependency resolver does not currently take into account all the packages that are installed. This behaviour is the source of the following dependency conflicts.\n",
            "hazm 0.7.0 requires nltk==3.3, but you have nltk 3.4.5 which is incompatible.\u001b[0m\n",
            "\u001b[K     |████████████████████████████████| 691 kB 4.1 MB/s \n",
            "\u001b[?25h"
          ]
        }
      ],
      "source": [
        "! pip install -q hazm\n",
        "! pip install -q gensim\n",
        "! pip -q install clean-text[gpl]\n",
        "! pip install -q pandas\n",
        "! pip install -q arabic_reshaper\n",
        "! pip install -q python-bidi\n",
        "! pip install -q seaborn\n",
        "! pip install -q parsivar\n",
        "! pip install -q stanza\n",
        "! pip install -q findspark"
      ]
    },
    {
      "cell_type": "markdown",
      "metadata": {
        "id": "WKtWq7srb1ob"
      },
      "source": [
        "**Install Open JDK for Spark and Hadoop**"
      ]
    },
    {
      "cell_type": "code",
      "execution_count": 2,
      "metadata": {
        "colab": {
          "base_uri": "https://localhost:8080/"
        },
        "id": "uraWEcHmbq1T",
        "outputId": "44e60a4b-166f-46a3-8566-16ab723ded25"
      },
      "outputs": [
        {
          "output_type": "stream",
          "name": "stdout",
          "text": [
            "--2022-11-08 15:00:26--  https://bin.equinox.io/c/4VmDzA7iaHb/ngrok-stable-linux-amd64.zip\n",
            "Resolving bin.equinox.io (bin.equinox.io)... 54.237.133.81, 18.205.222.128, 52.202.168.65, ...\n",
            "Connecting to bin.equinox.io (bin.equinox.io)|54.237.133.81|:443... connected.\n",
            "HTTP request sent, awaiting response... 200 OK\n",
            "Length: 13832437 (13M) [application/octet-stream]\n",
            "Saving to: ‘ngrok-stable-linux-amd64.zip’\n",
            "\n",
            "ngrok-stable-linux- 100%[===================>]  13.19M  4.21MB/s    in 3.1s    \n",
            "\n",
            "2022-11-08 15:00:30 (4.21 MB/s) - ‘ngrok-stable-linux-amd64.zip’ saved [13832437/13832437]\n",
            "\n",
            "Archive:  ngrok-stable-linux-amd64.zip\n",
            "  inflating: ngrok                   \n"
          ]
        }
      ],
      "source": [
        "!wget https://bin.equinox.io/c/4VmDzA7iaHb/ngrok-stable-linux-amd64.zip\n",
        "!unzip ngrok-stable-linux-amd64.zip\n",
        "get_ipython().system_raw('./ngrok http 4050 &')\n",
        "!apt-get install openjdk-8-jdk-headless -qq > /dev/null\n",
        "!wget -q https://dlcdn.apache.org/spark/spark-3.3.1/spark-3.3.1-bin-hadoop3.tgz\n"
      ]
    },
    {
      "cell_type": "code",
      "execution_count": 3,
      "metadata": {
        "colab": {
          "base_uri": "https://localhost:8080/"
        },
        "id": "JRkpzqLqG-wG",
        "outputId": "fd1660a2-7428-437e-a945-1f0d2edddc8d"
      },
      "outputs": [
        {
          "output_type": "stream",
          "name": "stdout",
          "text": [
            "Drive already mounted at /content/drive; to attempt to forcibly remount, call drive.mount(\"/content/drive\", force_remount=True).\n"
          ]
        }
      ],
      "source": [
        "from google.colab import drive\n",
        "drive.mount('/content/drive')"
      ]
    },
    {
      "cell_type": "code",
      "execution_count": 4,
      "metadata": {
        "id": "HhsqQK7IJpww"
      },
      "outputs": [],
      "source": [
        "from glob import glob"
      ]
    },
    {
      "cell_type": "code",
      "execution_count": 5,
      "metadata": {
        "id": "2hbv_W9kKjCz"
      },
      "outputs": [],
      "source": [
        "files = glob('/content/drive/MyDrive/akhbar/9*')"
      ]
    },
    {
      "cell_type": "code",
      "execution_count": 6,
      "metadata": {
        "id": "fGtuJnBSKsRu",
        "colab": {
          "base_uri": "https://localhost:8080/"
        },
        "outputId": "8343dcb8-7217-47b5-b824-0d813dc3ff33"
      },
      "outputs": [
        {
          "output_type": "execute_result",
          "data": {
            "text/plain": [
              "['/content/drive/MyDrive/akhbar/92798.txt',\n",
              " '/content/drive/MyDrive/akhbar/92801.txt',\n",
              " '/content/drive/MyDrive/akhbar/92804.txt',\n",
              " '/content/drive/MyDrive/akhbar/92805.txt',\n",
              " '/content/drive/MyDrive/akhbar/92808.txt',\n",
              " '/content/drive/MyDrive/akhbar/92809.txt',\n",
              " '/content/drive/MyDrive/akhbar/92810.txt',\n",
              " '/content/drive/MyDrive/akhbar/92811.txt',\n",
              " '/content/drive/MyDrive/akhbar/92813.txt',\n",
              " '/content/drive/MyDrive/akhbar/92814.txt',\n",
              " '/content/drive/MyDrive/akhbar/92815.txt',\n",
              " '/content/drive/MyDrive/akhbar/92816.txt',\n",
              " '/content/drive/MyDrive/akhbar/92818.txt',\n",
              " '/content/drive/MyDrive/akhbar/92822.txt',\n",
              " '/content/drive/MyDrive/akhbar/92823.txt',\n",
              " '/content/drive/MyDrive/akhbar/92824.txt',\n",
              " '/content/drive/MyDrive/akhbar/92826.txt',\n",
              " '/content/drive/MyDrive/akhbar/92828.txt',\n",
              " '/content/drive/MyDrive/akhbar/92833.txt',\n",
              " '/content/drive/MyDrive/akhbar/92834.txt',\n",
              " '/content/drive/MyDrive/akhbar/92835.txt',\n",
              " '/content/drive/MyDrive/akhbar/92838.txt',\n",
              " '/content/drive/MyDrive/akhbar/92839.txt',\n",
              " '/content/drive/MyDrive/akhbar/92840.txt',\n",
              " '/content/drive/MyDrive/akhbar/92841.txt',\n",
              " '/content/drive/MyDrive/akhbar/92842.txt',\n",
              " '/content/drive/MyDrive/akhbar/92843.txt',\n",
              " '/content/drive/MyDrive/akhbar/92846.txt',\n",
              " '/content/drive/MyDrive/akhbar/92849.txt',\n",
              " '/content/drive/MyDrive/akhbar/92850.txt',\n",
              " '/content/drive/MyDrive/akhbar/92852.txt',\n",
              " '/content/drive/MyDrive/akhbar/92854.txt',\n",
              " '/content/drive/MyDrive/akhbar/92856.txt',\n",
              " '/content/drive/MyDrive/akhbar/92857.txt',\n",
              " '/content/drive/MyDrive/akhbar/92859.txt',\n",
              " '/content/drive/MyDrive/akhbar/92864.txt',\n",
              " '/content/drive/MyDrive/akhbar/92865.txt',\n",
              " '/content/drive/MyDrive/akhbar/92866.txt',\n",
              " '/content/drive/MyDrive/akhbar/92868.txt',\n",
              " '/content/drive/MyDrive/akhbar/92870.txt',\n",
              " '/content/drive/MyDrive/akhbar/92872.txt',\n",
              " '/content/drive/MyDrive/akhbar/92873.txt',\n",
              " '/content/drive/MyDrive/akhbar/92874.txt',\n",
              " '/content/drive/MyDrive/akhbar/92879.txt',\n",
              " '/content/drive/MyDrive/akhbar/92881.txt',\n",
              " '/content/drive/MyDrive/akhbar/92882.txt',\n",
              " '/content/drive/MyDrive/akhbar/92886.txt',\n",
              " '/content/drive/MyDrive/akhbar/92889.txt',\n",
              " '/content/drive/MyDrive/akhbar/92892.txt',\n",
              " '/content/drive/MyDrive/akhbar/92893.txt',\n",
              " '/content/drive/MyDrive/akhbar/92894.txt',\n",
              " '/content/drive/MyDrive/akhbar/92896.txt',\n",
              " '/content/drive/MyDrive/akhbar/92897.txt',\n",
              " '/content/drive/MyDrive/akhbar/92899.txt',\n",
              " '/content/drive/MyDrive/akhbar/92901.txt',\n",
              " '/content/drive/MyDrive/akhbar/92904.txt',\n",
              " '/content/drive/MyDrive/akhbar/92905.txt',\n",
              " '/content/drive/MyDrive/akhbar/92908.txt',\n",
              " '/content/drive/MyDrive/akhbar/92909.txt',\n",
              " '/content/drive/MyDrive/akhbar/92911.txt',\n",
              " '/content/drive/MyDrive/akhbar/92913.txt',\n",
              " '/content/drive/MyDrive/akhbar/92914.txt',\n",
              " '/content/drive/MyDrive/akhbar/92916.txt',\n",
              " '/content/drive/MyDrive/akhbar/92918.txt',\n",
              " '/content/drive/MyDrive/akhbar/92920.txt',\n",
              " '/content/drive/MyDrive/akhbar/92926.txt',\n",
              " '/content/drive/MyDrive/akhbar/92928.txt',\n",
              " '/content/drive/MyDrive/akhbar/92929.txt',\n",
              " '/content/drive/MyDrive/akhbar/92932.txt',\n",
              " '/content/drive/MyDrive/akhbar/92933.txt',\n",
              " '/content/drive/MyDrive/akhbar/92935.txt',\n",
              " '/content/drive/MyDrive/akhbar/92937.txt',\n",
              " '/content/drive/MyDrive/akhbar/92943.txt',\n",
              " '/content/drive/MyDrive/akhbar/92946.txt',\n",
              " '/content/drive/MyDrive/akhbar/92949.txt',\n",
              " '/content/drive/MyDrive/akhbar/92950.txt',\n",
              " '/content/drive/MyDrive/akhbar/92951.txt',\n",
              " '/content/drive/MyDrive/akhbar/92952.txt',\n",
              " '/content/drive/MyDrive/akhbar/92953.txt',\n",
              " '/content/drive/MyDrive/akhbar/92954.txt',\n",
              " '/content/drive/MyDrive/akhbar/92955.txt',\n",
              " '/content/drive/MyDrive/akhbar/92956.txt',\n",
              " '/content/drive/MyDrive/akhbar/92957.txt',\n",
              " '/content/drive/MyDrive/akhbar/92958.txt',\n",
              " '/content/drive/MyDrive/akhbar/92959.txt',\n",
              " '/content/drive/MyDrive/akhbar/92962.txt',\n",
              " '/content/drive/MyDrive/akhbar/92963.txt',\n",
              " '/content/drive/MyDrive/akhbar/92965.txt',\n",
              " '/content/drive/MyDrive/akhbar/92967.txt',\n",
              " '/content/drive/MyDrive/akhbar/92969.txt',\n",
              " '/content/drive/MyDrive/akhbar/92973.txt',\n",
              " '/content/drive/MyDrive/akhbar/92975.txt',\n",
              " '/content/drive/MyDrive/akhbar/92977.txt',\n",
              " '/content/drive/MyDrive/akhbar/92978.txt',\n",
              " '/content/drive/MyDrive/akhbar/92979.txt',\n",
              " '/content/drive/MyDrive/akhbar/92981.txt',\n",
              " '/content/drive/MyDrive/akhbar/92982.txt',\n",
              " '/content/drive/MyDrive/akhbar/92984.txt',\n",
              " '/content/drive/MyDrive/akhbar/92985.txt',\n",
              " '/content/drive/MyDrive/akhbar/92987.txt',\n",
              " '/content/drive/MyDrive/akhbar/92988.txt',\n",
              " '/content/drive/MyDrive/akhbar/92990.txt',\n",
              " '/content/drive/MyDrive/akhbar/92994.txt',\n",
              " '/content/drive/MyDrive/akhbar/92995.txt',\n",
              " '/content/drive/MyDrive/akhbar/92996.txt',\n",
              " '/content/drive/MyDrive/akhbar/92997.txt',\n",
              " '/content/drive/MyDrive/akhbar/92999.txt',\n",
              " '/content/drive/MyDrive/akhbar/93003.txt',\n",
              " '/content/drive/MyDrive/akhbar/93004.txt',\n",
              " '/content/drive/MyDrive/akhbar/93009.txt',\n",
              " '/content/drive/MyDrive/akhbar/93010.txt',\n",
              " '/content/drive/MyDrive/akhbar/93011.txt',\n",
              " '/content/drive/MyDrive/akhbar/93022.txt',\n",
              " '/content/drive/MyDrive/akhbar/93023.txt',\n",
              " '/content/drive/MyDrive/akhbar/93024.txt',\n",
              " '/content/drive/MyDrive/akhbar/93026.txt',\n",
              " '/content/drive/MyDrive/akhbar/93027.txt',\n",
              " '/content/drive/MyDrive/akhbar/93028.txt',\n",
              " '/content/drive/MyDrive/akhbar/93031.txt',\n",
              " '/content/drive/MyDrive/akhbar/93036.txt',\n",
              " '/content/drive/MyDrive/akhbar/93037.txt',\n",
              " '/content/drive/MyDrive/akhbar/93038.txt',\n",
              " '/content/drive/MyDrive/akhbar/93041.txt',\n",
              " '/content/drive/MyDrive/akhbar/93042.txt',\n",
              " '/content/drive/MyDrive/akhbar/93043.txt',\n",
              " '/content/drive/MyDrive/akhbar/93045.txt',\n",
              " '/content/drive/MyDrive/akhbar/93046.txt',\n",
              " '/content/drive/MyDrive/akhbar/93047.txt',\n",
              " '/content/drive/MyDrive/akhbar/93048.txt',\n",
              " '/content/drive/MyDrive/akhbar/93049.txt',\n",
              " '/content/drive/MyDrive/akhbar/93053.txt',\n",
              " '/content/drive/MyDrive/akhbar/93054.txt',\n",
              " '/content/drive/MyDrive/akhbar/93055.txt',\n",
              " '/content/drive/MyDrive/akhbar/93056.txt',\n",
              " '/content/drive/MyDrive/akhbar/93057.txt',\n",
              " '/content/drive/MyDrive/akhbar/93058.txt',\n",
              " '/content/drive/MyDrive/akhbar/93059.txt',\n",
              " '/content/drive/MyDrive/akhbar/93060.txt',\n",
              " '/content/drive/MyDrive/akhbar/93061.txt',\n",
              " '/content/drive/MyDrive/akhbar/93062.txt',\n",
              " '/content/drive/MyDrive/akhbar/93066.txt',\n",
              " '/content/drive/MyDrive/akhbar/93067.txt',\n",
              " '/content/drive/MyDrive/akhbar/93068.txt',\n",
              " '/content/drive/MyDrive/akhbar/93069.txt',\n",
              " '/content/drive/MyDrive/akhbar/93072.txt',\n",
              " '/content/drive/MyDrive/akhbar/93073.txt',\n",
              " '/content/drive/MyDrive/akhbar/93078.txt',\n",
              " '/content/drive/MyDrive/akhbar/93079.txt',\n",
              " '/content/drive/MyDrive/akhbar/93080.txt',\n",
              " '/content/drive/MyDrive/akhbar/93082.txt',\n",
              " '/content/drive/MyDrive/akhbar/93083.txt',\n",
              " '/content/drive/MyDrive/akhbar/93086.txt',\n",
              " '/content/drive/MyDrive/akhbar/93087.txt',\n",
              " '/content/drive/MyDrive/akhbar/93091.txt',\n",
              " '/content/drive/MyDrive/akhbar/93093.txt',\n",
              " '/content/drive/MyDrive/akhbar/93094.txt',\n",
              " '/content/drive/MyDrive/akhbar/93096.txt',\n",
              " '/content/drive/MyDrive/akhbar/93101.txt',\n",
              " '/content/drive/MyDrive/akhbar/93102.txt',\n",
              " '/content/drive/MyDrive/akhbar/93107.txt',\n",
              " '/content/drive/MyDrive/akhbar/93109.txt',\n",
              " '/content/drive/MyDrive/akhbar/93110.txt',\n",
              " '/content/drive/MyDrive/akhbar/93111.txt',\n",
              " '/content/drive/MyDrive/akhbar/93112.txt',\n",
              " '/content/drive/MyDrive/akhbar/93114.txt',\n",
              " '/content/drive/MyDrive/akhbar/93115.txt',\n",
              " '/content/drive/MyDrive/akhbar/93116.txt',\n",
              " '/content/drive/MyDrive/akhbar/93117.txt',\n",
              " '/content/drive/MyDrive/akhbar/93118.txt',\n",
              " '/content/drive/MyDrive/akhbar/93121.txt',\n",
              " '/content/drive/MyDrive/akhbar/93122.txt',\n",
              " '/content/drive/MyDrive/akhbar/93123.txt',\n",
              " '/content/drive/MyDrive/akhbar/93125.txt',\n",
              " '/content/drive/MyDrive/akhbar/93126.txt',\n",
              " '/content/drive/MyDrive/akhbar/93129.txt',\n",
              " '/content/drive/MyDrive/akhbar/93134.txt',\n",
              " '/content/drive/MyDrive/akhbar/93138.txt',\n",
              " '/content/drive/MyDrive/akhbar/93139.txt',\n",
              " '/content/drive/MyDrive/akhbar/93142.txt',\n",
              " '/content/drive/MyDrive/akhbar/93143.txt',\n",
              " '/content/drive/MyDrive/akhbar/93144.txt',\n",
              " '/content/drive/MyDrive/akhbar/93145.txt',\n",
              " '/content/drive/MyDrive/akhbar/93146.txt',\n",
              " '/content/drive/MyDrive/akhbar/93148.txt',\n",
              " '/content/drive/MyDrive/akhbar/93149.txt',\n",
              " '/content/drive/MyDrive/akhbar/93152.txt',\n",
              " '/content/drive/MyDrive/akhbar/93153.txt',\n",
              " '/content/drive/MyDrive/akhbar/93159.txt',\n",
              " '/content/drive/MyDrive/akhbar/93161.txt',\n",
              " '/content/drive/MyDrive/akhbar/93164.txt',\n",
              " '/content/drive/MyDrive/akhbar/93165.txt',\n",
              " '/content/drive/MyDrive/akhbar/93166.txt',\n",
              " '/content/drive/MyDrive/akhbar/93171.txt',\n",
              " '/content/drive/MyDrive/akhbar/93172.txt',\n",
              " '/content/drive/MyDrive/akhbar/93173.txt',\n",
              " '/content/drive/MyDrive/akhbar/93174.txt',\n",
              " '/content/drive/MyDrive/akhbar/93175.txt',\n",
              " '/content/drive/MyDrive/akhbar/93176.txt',\n",
              " '/content/drive/MyDrive/akhbar/93177.txt',\n",
              " '/content/drive/MyDrive/akhbar/93183.txt',\n",
              " '/content/drive/MyDrive/akhbar/93184.txt',\n",
              " '/content/drive/MyDrive/akhbar/93185.txt',\n",
              " '/content/drive/MyDrive/akhbar/93188.txt',\n",
              " '/content/drive/MyDrive/akhbar/93189.txt',\n",
              " '/content/drive/MyDrive/akhbar/93190.txt',\n",
              " '/content/drive/MyDrive/akhbar/93192.txt',\n",
              " '/content/drive/MyDrive/akhbar/93193.txt',\n",
              " '/content/drive/MyDrive/akhbar/93198.txt',\n",
              " '/content/drive/MyDrive/akhbar/93200.txt',\n",
              " '/content/drive/MyDrive/akhbar/93205.txt',\n",
              " '/content/drive/MyDrive/akhbar/93208.txt',\n",
              " '/content/drive/MyDrive/akhbar/93210.txt',\n",
              " '/content/drive/MyDrive/akhbar/93212.txt',\n",
              " '/content/drive/MyDrive/akhbar/93214.txt',\n",
              " '/content/drive/MyDrive/akhbar/93215.txt',\n",
              " '/content/drive/MyDrive/akhbar/93216.txt',\n",
              " '/content/drive/MyDrive/akhbar/93217.txt',\n",
              " '/content/drive/MyDrive/akhbar/93219.txt',\n",
              " '/content/drive/MyDrive/akhbar/93220.txt',\n",
              " '/content/drive/MyDrive/akhbar/93221.txt',\n",
              " '/content/drive/MyDrive/akhbar/93222.txt',\n",
              " '/content/drive/MyDrive/akhbar/93223.txt',\n",
              " '/content/drive/MyDrive/akhbar/93224.txt',\n",
              " '/content/drive/MyDrive/akhbar/93225.txt',\n",
              " '/content/drive/MyDrive/akhbar/93227.txt',\n",
              " '/content/drive/MyDrive/akhbar/93228.txt',\n",
              " '/content/drive/MyDrive/akhbar/93229.txt',\n",
              " '/content/drive/MyDrive/akhbar/93230.txt',\n",
              " '/content/drive/MyDrive/akhbar/93231.txt',\n",
              " '/content/drive/MyDrive/akhbar/93233.txt',\n",
              " '/content/drive/MyDrive/akhbar/93239.txt',\n",
              " '/content/drive/MyDrive/akhbar/93240.txt',\n",
              " '/content/drive/MyDrive/akhbar/93241.txt',\n",
              " '/content/drive/MyDrive/akhbar/93242.txt',\n",
              " '/content/drive/MyDrive/akhbar/93243.txt',\n",
              " '/content/drive/MyDrive/akhbar/93244.txt',\n",
              " '/content/drive/MyDrive/akhbar/93245.txt',\n",
              " '/content/drive/MyDrive/akhbar/93247.txt',\n",
              " '/content/drive/MyDrive/akhbar/93249.txt',\n",
              " '/content/drive/MyDrive/akhbar/93251.txt',\n",
              " '/content/drive/MyDrive/akhbar/93252.txt',\n",
              " '/content/drive/MyDrive/akhbar/93253.txt',\n",
              " '/content/drive/MyDrive/akhbar/93254.txt',\n",
              " '/content/drive/MyDrive/akhbar/93257.txt',\n",
              " '/content/drive/MyDrive/akhbar/93259.txt',\n",
              " '/content/drive/MyDrive/akhbar/93261.txt',\n",
              " '/content/drive/MyDrive/akhbar/93262.txt',\n",
              " '/content/drive/MyDrive/akhbar/93264.txt',\n",
              " '/content/drive/MyDrive/akhbar/93267.txt',\n",
              " '/content/drive/MyDrive/akhbar/93269.txt',\n",
              " '/content/drive/MyDrive/akhbar/93270.txt',\n",
              " '/content/drive/MyDrive/akhbar/93271.txt',\n",
              " '/content/drive/MyDrive/akhbar/93273.txt',\n",
              " '/content/drive/MyDrive/akhbar/93274.txt',\n",
              " '/content/drive/MyDrive/akhbar/93275.txt',\n",
              " '/content/drive/MyDrive/akhbar/93278.txt',\n",
              " '/content/drive/MyDrive/akhbar/93282.txt',\n",
              " '/content/drive/MyDrive/akhbar/93284.txt',\n",
              " '/content/drive/MyDrive/akhbar/93285.txt',\n",
              " '/content/drive/MyDrive/akhbar/93288.txt',\n",
              " '/content/drive/MyDrive/akhbar/93290.txt',\n",
              " '/content/drive/MyDrive/akhbar/93291.txt',\n",
              " '/content/drive/MyDrive/akhbar/93293.txt',\n",
              " '/content/drive/MyDrive/akhbar/93294.txt',\n",
              " '/content/drive/MyDrive/akhbar/93295.txt',\n",
              " '/content/drive/MyDrive/akhbar/93296.txt',\n",
              " '/content/drive/MyDrive/akhbar/93297.txt',\n",
              " '/content/drive/MyDrive/akhbar/93298.txt',\n",
              " '/content/drive/MyDrive/akhbar/93301.txt',\n",
              " '/content/drive/MyDrive/akhbar/93302.txt',\n",
              " '/content/drive/MyDrive/akhbar/93303.txt',\n",
              " '/content/drive/MyDrive/akhbar/93307.txt',\n",
              " '/content/drive/MyDrive/akhbar/93313.txt',\n",
              " '/content/drive/MyDrive/akhbar/93314.txt',\n",
              " '/content/drive/MyDrive/akhbar/93315.txt',\n",
              " '/content/drive/MyDrive/akhbar/93319.txt',\n",
              " '/content/drive/MyDrive/akhbar/93320.txt',\n",
              " '/content/drive/MyDrive/akhbar/93322.txt',\n",
              " '/content/drive/MyDrive/akhbar/93323.txt',\n",
              " '/content/drive/MyDrive/akhbar/93325.txt',\n",
              " '/content/drive/MyDrive/akhbar/93327.txt',\n",
              " '/content/drive/MyDrive/akhbar/93328.txt',\n",
              " '/content/drive/MyDrive/akhbar/93329.txt',\n",
              " '/content/drive/MyDrive/akhbar/93331.txt',\n",
              " '/content/drive/MyDrive/akhbar/93333.txt',\n",
              " '/content/drive/MyDrive/akhbar/93336.txt',\n",
              " '/content/drive/MyDrive/akhbar/93337.txt',\n",
              " '/content/drive/MyDrive/akhbar/93338.txt',\n",
              " '/content/drive/MyDrive/akhbar/93339.txt',\n",
              " '/content/drive/MyDrive/akhbar/93344.txt',\n",
              " '/content/drive/MyDrive/akhbar/93345.txt',\n",
              " '/content/drive/MyDrive/akhbar/93346.txt',\n",
              " '/content/drive/MyDrive/akhbar/93349.txt',\n",
              " '/content/drive/MyDrive/akhbar/93350.txt',\n",
              " '/content/drive/MyDrive/akhbar/93352.txt',\n",
              " '/content/drive/MyDrive/akhbar/93353.txt',\n",
              " '/content/drive/MyDrive/akhbar/93355.txt',\n",
              " '/content/drive/MyDrive/akhbar/93356.txt',\n",
              " '/content/drive/MyDrive/akhbar/93358.txt',\n",
              " '/content/drive/MyDrive/akhbar/93359.txt',\n",
              " '/content/drive/MyDrive/akhbar/93361.txt',\n",
              " '/content/drive/MyDrive/akhbar/93362.txt',\n",
              " '/content/drive/MyDrive/akhbar/93363.txt',\n",
              " '/content/drive/MyDrive/akhbar/93368.txt',\n",
              " '/content/drive/MyDrive/akhbar/93370.txt',\n",
              " '/content/drive/MyDrive/akhbar/93371.txt',\n",
              " '/content/drive/MyDrive/akhbar/93372.txt',\n",
              " '/content/drive/MyDrive/akhbar/93373.txt',\n",
              " '/content/drive/MyDrive/akhbar/93374.txt',\n",
              " '/content/drive/MyDrive/akhbar/93377.txt',\n",
              " '/content/drive/MyDrive/akhbar/93378.txt',\n",
              " '/content/drive/MyDrive/akhbar/93379.txt',\n",
              " '/content/drive/MyDrive/akhbar/93381.txt',\n",
              " '/content/drive/MyDrive/akhbar/93382.txt',\n",
              " '/content/drive/MyDrive/akhbar/93385.txt',\n",
              " '/content/drive/MyDrive/akhbar/93386.txt',\n",
              " '/content/drive/MyDrive/akhbar/93387.txt',\n",
              " '/content/drive/MyDrive/akhbar/93389.txt',\n",
              " '/content/drive/MyDrive/akhbar/93390.txt',\n",
              " '/content/drive/MyDrive/akhbar/93391.txt',\n",
              " '/content/drive/MyDrive/akhbar/93392.txt',\n",
              " '/content/drive/MyDrive/akhbar/93393.txt',\n",
              " '/content/drive/MyDrive/akhbar/93394.txt',\n",
              " '/content/drive/MyDrive/akhbar/93395.txt',\n",
              " '/content/drive/MyDrive/akhbar/93397.txt',\n",
              " '/content/drive/MyDrive/akhbar/93398.txt',\n",
              " '/content/drive/MyDrive/akhbar/93401.txt',\n",
              " '/content/drive/MyDrive/akhbar/93402.txt',\n",
              " '/content/drive/MyDrive/akhbar/93403.txt',\n",
              " '/content/drive/MyDrive/akhbar/93407.txt',\n",
              " '/content/drive/MyDrive/akhbar/93415.txt',\n",
              " '/content/drive/MyDrive/akhbar/93416.txt',\n",
              " '/content/drive/MyDrive/akhbar/93417.txt',\n",
              " '/content/drive/MyDrive/akhbar/93419.txt',\n",
              " '/content/drive/MyDrive/akhbar/93421.txt',\n",
              " '/content/drive/MyDrive/akhbar/93422.txt',\n",
              " '/content/drive/MyDrive/akhbar/93427.txt',\n",
              " '/content/drive/MyDrive/akhbar/93428.txt',\n",
              " '/content/drive/MyDrive/akhbar/93430.txt',\n",
              " '/content/drive/MyDrive/akhbar/93432.txt',\n",
              " '/content/drive/MyDrive/akhbar/93433.txt',\n",
              " '/content/drive/MyDrive/akhbar/93434.txt',\n",
              " '/content/drive/MyDrive/akhbar/93436.txt',\n",
              " '/content/drive/MyDrive/akhbar/93454.txt',\n",
              " '/content/drive/MyDrive/akhbar/93475.txt',\n",
              " '/content/drive/MyDrive/akhbar/93512.txt',\n",
              " '/content/drive/MyDrive/akhbar/93578.txt',\n",
              " '/content/drive/MyDrive/akhbar/93621.txt',\n",
              " '/content/drive/MyDrive/akhbar/93662.txt',\n",
              " '/content/drive/MyDrive/akhbar/93697.txt',\n",
              " '/content/drive/MyDrive/akhbar/93712.txt',\n",
              " '/content/drive/MyDrive/akhbar/93715.txt',\n",
              " '/content/drive/MyDrive/akhbar/93716.txt',\n",
              " '/content/drive/MyDrive/akhbar/93723.txt',\n",
              " '/content/drive/MyDrive/akhbar/93751.txt',\n",
              " '/content/drive/MyDrive/akhbar/93759.txt',\n",
              " '/content/drive/MyDrive/akhbar/93808.txt',\n",
              " '/content/drive/MyDrive/akhbar/93812.txt',\n",
              " '/content/drive/MyDrive/akhbar/93814.txt',\n",
              " '/content/drive/MyDrive/akhbar/93825.txt',\n",
              " '/content/drive/MyDrive/akhbar/93858.txt',\n",
              " '/content/drive/MyDrive/akhbar/93884.txt',\n",
              " '/content/drive/MyDrive/akhbar/93905.txt',\n",
              " '/content/drive/MyDrive/akhbar/93929.txt',\n",
              " '/content/drive/MyDrive/akhbar/93946.txt',\n",
              " '/content/drive/MyDrive/akhbar/93947.txt',\n",
              " '/content/drive/MyDrive/akhbar/93955.txt',\n",
              " '/content/drive/MyDrive/akhbar/93970.txt',\n",
              " '/content/drive/MyDrive/akhbar/93980.txt',\n",
              " '/content/drive/MyDrive/akhbar/93982.txt',\n",
              " '/content/drive/MyDrive/akhbar/93983.txt',\n",
              " '/content/drive/MyDrive/akhbar/93986.txt',\n",
              " '/content/drive/MyDrive/akhbar/93991.txt',\n",
              " '/content/drive/MyDrive/akhbar/93994.txt',\n",
              " '/content/drive/MyDrive/akhbar/93997.txt',\n",
              " '/content/drive/MyDrive/akhbar/94000.txt',\n",
              " '/content/drive/MyDrive/akhbar/94001.txt',\n",
              " '/content/drive/MyDrive/akhbar/94007.txt',\n",
              " '/content/drive/MyDrive/akhbar/94008.txt',\n",
              " '/content/drive/MyDrive/akhbar/94009.txt',\n",
              " '/content/drive/MyDrive/akhbar/94010.txt',\n",
              " '/content/drive/MyDrive/akhbar/94011.txt',\n",
              " '/content/drive/MyDrive/akhbar/94012.txt',\n",
              " '/content/drive/MyDrive/akhbar/94017.txt',\n",
              " '/content/drive/MyDrive/akhbar/94018.txt',\n",
              " '/content/drive/MyDrive/akhbar/94019.txt',\n",
              " '/content/drive/MyDrive/akhbar/94020.txt',\n",
              " '/content/drive/MyDrive/akhbar/94024.txt',\n",
              " '/content/drive/MyDrive/akhbar/94026.txt',\n",
              " '/content/drive/MyDrive/akhbar/94028.txt',\n",
              " '/content/drive/MyDrive/akhbar/94031.txt',\n",
              " '/content/drive/MyDrive/akhbar/94032.txt',\n",
              " '/content/drive/MyDrive/akhbar/94036.txt',\n",
              " '/content/drive/MyDrive/akhbar/94037.txt',\n",
              " '/content/drive/MyDrive/akhbar/94040.txt',\n",
              " '/content/drive/MyDrive/akhbar/94044.txt',\n",
              " '/content/drive/MyDrive/akhbar/94046.txt',\n",
              " '/content/drive/MyDrive/akhbar/94048.txt',\n",
              " '/content/drive/MyDrive/akhbar/94049.txt',\n",
              " '/content/drive/MyDrive/akhbar/94050.txt',\n",
              " '/content/drive/MyDrive/akhbar/94054.txt',\n",
              " '/content/drive/MyDrive/akhbar/94055.txt',\n",
              " '/content/drive/MyDrive/akhbar/94057.txt',\n",
              " '/content/drive/MyDrive/akhbar/94060.txt',\n",
              " '/content/drive/MyDrive/akhbar/94062.txt',\n",
              " '/content/drive/MyDrive/akhbar/94063.txt',\n",
              " '/content/drive/MyDrive/akhbar/94067.txt',\n",
              " '/content/drive/MyDrive/akhbar/94071.txt',\n",
              " '/content/drive/MyDrive/akhbar/94072.txt',\n",
              " '/content/drive/MyDrive/akhbar/94073.txt',\n",
              " '/content/drive/MyDrive/akhbar/94075.txt',\n",
              " '/content/drive/MyDrive/akhbar/94081.txt',\n",
              " '/content/drive/MyDrive/akhbar/94084.txt',\n",
              " '/content/drive/MyDrive/akhbar/94090.txt',\n",
              " '/content/drive/MyDrive/akhbar/94093.txt',\n",
              " '/content/drive/MyDrive/akhbar/94094.txt',\n",
              " '/content/drive/MyDrive/akhbar/94097.txt',\n",
              " '/content/drive/MyDrive/akhbar/94103.txt',\n",
              " '/content/drive/MyDrive/akhbar/94105.txt',\n",
              " '/content/drive/MyDrive/akhbar/94111.txt',\n",
              " '/content/drive/MyDrive/akhbar/94114.txt',\n",
              " '/content/drive/MyDrive/akhbar/94115.txt',\n",
              " '/content/drive/MyDrive/akhbar/94117.txt',\n",
              " '/content/drive/MyDrive/akhbar/94118.txt',\n",
              " '/content/drive/MyDrive/akhbar/94121.txt',\n",
              " '/content/drive/MyDrive/akhbar/94122.txt',\n",
              " '/content/drive/MyDrive/akhbar/94127.txt',\n",
              " '/content/drive/MyDrive/akhbar/94128.txt',\n",
              " '/content/drive/MyDrive/akhbar/94133.txt',\n",
              " '/content/drive/MyDrive/akhbar/94134.txt',\n",
              " '/content/drive/MyDrive/akhbar/94135.txt',\n",
              " '/content/drive/MyDrive/akhbar/94136.txt',\n",
              " '/content/drive/MyDrive/akhbar/94139.txt',\n",
              " '/content/drive/MyDrive/akhbar/94141.txt',\n",
              " '/content/drive/MyDrive/akhbar/94142.txt',\n",
              " '/content/drive/MyDrive/akhbar/94146.txt',\n",
              " '/content/drive/MyDrive/akhbar/94147.txt',\n",
              " '/content/drive/MyDrive/akhbar/94148.txt',\n",
              " '/content/drive/MyDrive/akhbar/94150.txt',\n",
              " '/content/drive/MyDrive/akhbar/94153.txt',\n",
              " '/content/drive/MyDrive/akhbar/94154.txt',\n",
              " '/content/drive/MyDrive/akhbar/94157.txt',\n",
              " '/content/drive/MyDrive/akhbar/94158.txt',\n",
              " '/content/drive/MyDrive/akhbar/94160.txt',\n",
              " '/content/drive/MyDrive/akhbar/94161.txt',\n",
              " '/content/drive/MyDrive/akhbar/94163.txt',\n",
              " '/content/drive/MyDrive/akhbar/94167.txt',\n",
              " '/content/drive/MyDrive/akhbar/94170.txt',\n",
              " '/content/drive/MyDrive/akhbar/94173.txt',\n",
              " '/content/drive/MyDrive/akhbar/94175.txt',\n",
              " '/content/drive/MyDrive/akhbar/94178.txt',\n",
              " '/content/drive/MyDrive/akhbar/94180.txt',\n",
              " '/content/drive/MyDrive/akhbar/94182.txt',\n",
              " '/content/drive/MyDrive/akhbar/94184.txt',\n",
              " '/content/drive/MyDrive/akhbar/94185.txt',\n",
              " '/content/drive/MyDrive/akhbar/94186.txt',\n",
              " '/content/drive/MyDrive/akhbar/94188.txt',\n",
              " '/content/drive/MyDrive/akhbar/94189.txt',\n",
              " '/content/drive/MyDrive/akhbar/94193.txt',\n",
              " '/content/drive/MyDrive/akhbar/94196.txt',\n",
              " '/content/drive/MyDrive/akhbar/94197.txt',\n",
              " '/content/drive/MyDrive/akhbar/94198.txt',\n",
              " '/content/drive/MyDrive/akhbar/94206.txt',\n",
              " '/content/drive/MyDrive/akhbar/94207.txt',\n",
              " '/content/drive/MyDrive/akhbar/94208.txt',\n",
              " '/content/drive/MyDrive/akhbar/94211.txt',\n",
              " '/content/drive/MyDrive/akhbar/94219.txt',\n",
              " '/content/drive/MyDrive/akhbar/94221.txt',\n",
              " '/content/drive/MyDrive/akhbar/94222.txt',\n",
              " '/content/drive/MyDrive/akhbar/94230.txt',\n",
              " '/content/drive/MyDrive/akhbar/94232.txt',\n",
              " '/content/drive/MyDrive/akhbar/94233.txt',\n",
              " '/content/drive/MyDrive/akhbar/94234.txt',\n",
              " '/content/drive/MyDrive/akhbar/94235.txt',\n",
              " '/content/drive/MyDrive/akhbar/94237.txt',\n",
              " '/content/drive/MyDrive/akhbar/94240.txt',\n",
              " '/content/drive/MyDrive/akhbar/94242.txt',\n",
              " '/content/drive/MyDrive/akhbar/94243.txt',\n",
              " '/content/drive/MyDrive/akhbar/94245.txt',\n",
              " '/content/drive/MyDrive/akhbar/94247.txt',\n",
              " '/content/drive/MyDrive/akhbar/94248.txt',\n",
              " '/content/drive/MyDrive/akhbar/94250.txt',\n",
              " '/content/drive/MyDrive/akhbar/94251.txt',\n",
              " '/content/drive/MyDrive/akhbar/94252.txt',\n",
              " '/content/drive/MyDrive/akhbar/94253.txt',\n",
              " '/content/drive/MyDrive/akhbar/94261.txt',\n",
              " '/content/drive/MyDrive/akhbar/94262.txt',\n",
              " '/content/drive/MyDrive/akhbar/94264.txt',\n",
              " '/content/drive/MyDrive/akhbar/94266.txt',\n",
              " '/content/drive/MyDrive/akhbar/94267.txt',\n",
              " '/content/drive/MyDrive/akhbar/94268.txt',\n",
              " '/content/drive/MyDrive/akhbar/94269.txt',\n",
              " '/content/drive/MyDrive/akhbar/94276.txt',\n",
              " '/content/drive/MyDrive/akhbar/94279.txt',\n",
              " '/content/drive/MyDrive/akhbar/94283.txt',\n",
              " '/content/drive/MyDrive/akhbar/94285.txt',\n",
              " '/content/drive/MyDrive/akhbar/94288.txt',\n",
              " '/content/drive/MyDrive/akhbar/94289.txt',\n",
              " '/content/drive/MyDrive/akhbar/94291.txt',\n",
              " '/content/drive/MyDrive/akhbar/94292.txt',\n",
              " '/content/drive/MyDrive/akhbar/94294.txt',\n",
              " '/content/drive/MyDrive/akhbar/94295.txt',\n",
              " '/content/drive/MyDrive/akhbar/94297.txt',\n",
              " '/content/drive/MyDrive/akhbar/94301.txt',\n",
              " '/content/drive/MyDrive/akhbar/94302.txt',\n",
              " '/content/drive/MyDrive/akhbar/94303.txt',\n",
              " '/content/drive/MyDrive/akhbar/94305.txt',\n",
              " '/content/drive/MyDrive/akhbar/94307.txt',\n",
              " '/content/drive/MyDrive/akhbar/94313.txt',\n",
              " '/content/drive/MyDrive/akhbar/94314.txt',\n",
              " '/content/drive/MyDrive/akhbar/94318.txt',\n",
              " '/content/drive/MyDrive/akhbar/94327.txt',\n",
              " '/content/drive/MyDrive/akhbar/94332.txt',\n",
              " '/content/drive/MyDrive/akhbar/94334.txt',\n",
              " '/content/drive/MyDrive/akhbar/94336.txt',\n",
              " '/content/drive/MyDrive/akhbar/94338.txt',\n",
              " '/content/drive/MyDrive/akhbar/94342.txt',\n",
              " '/content/drive/MyDrive/akhbar/94343.txt',\n",
              " '/content/drive/MyDrive/akhbar/94346.txt',\n",
              " '/content/drive/MyDrive/akhbar/94350.txt',\n",
              " '/content/drive/MyDrive/akhbar/94353.txt',\n",
              " '/content/drive/MyDrive/akhbar/94358.txt',\n",
              " '/content/drive/MyDrive/akhbar/94359.txt',\n",
              " '/content/drive/MyDrive/akhbar/94361.txt',\n",
              " '/content/drive/MyDrive/akhbar/94362.txt',\n",
              " '/content/drive/MyDrive/akhbar/94363.txt',\n",
              " '/content/drive/MyDrive/akhbar/94365.txt',\n",
              " '/content/drive/MyDrive/akhbar/94366.txt',\n",
              " '/content/drive/MyDrive/akhbar/94368.txt',\n",
              " '/content/drive/MyDrive/akhbar/94374.txt',\n",
              " '/content/drive/MyDrive/akhbar/94376.txt',\n",
              " '/content/drive/MyDrive/akhbar/94383.txt',\n",
              " '/content/drive/MyDrive/akhbar/94384.txt',\n",
              " '/content/drive/MyDrive/akhbar/94387.txt',\n",
              " '/content/drive/MyDrive/akhbar/94389.txt',\n",
              " '/content/drive/MyDrive/akhbar/94390.txt',\n",
              " '/content/drive/MyDrive/akhbar/94393.txt',\n",
              " '/content/drive/MyDrive/akhbar/94395.txt',\n",
              " '/content/drive/MyDrive/akhbar/94396.txt',\n",
              " '/content/drive/MyDrive/akhbar/94399.txt',\n",
              " '/content/drive/MyDrive/akhbar/94400.txt',\n",
              " '/content/drive/MyDrive/akhbar/94401.txt',\n",
              " '/content/drive/MyDrive/akhbar/94402.txt',\n",
              " '/content/drive/MyDrive/akhbar/94403.txt',\n",
              " '/content/drive/MyDrive/akhbar/94404.txt',\n",
              " '/content/drive/MyDrive/akhbar/94407.txt',\n",
              " '/content/drive/MyDrive/akhbar/94411.txt',\n",
              " '/content/drive/MyDrive/akhbar/94413.txt',\n",
              " '/content/drive/MyDrive/akhbar/94414.txt',\n",
              " '/content/drive/MyDrive/akhbar/94416.txt',\n",
              " '/content/drive/MyDrive/akhbar/94418.txt',\n",
              " '/content/drive/MyDrive/akhbar/94426.txt',\n",
              " '/content/drive/MyDrive/akhbar/94432.txt',\n",
              " '/content/drive/MyDrive/akhbar/94434.txt',\n",
              " '/content/drive/MyDrive/akhbar/94435.txt',\n",
              " '/content/drive/MyDrive/akhbar/94437.txt',\n",
              " '/content/drive/MyDrive/akhbar/94438.txt',\n",
              " '/content/drive/MyDrive/akhbar/94441.txt',\n",
              " '/content/drive/MyDrive/akhbar/94443.txt',\n",
              " '/content/drive/MyDrive/akhbar/94449.txt',\n",
              " '/content/drive/MyDrive/akhbar/94450.txt',\n",
              " '/content/drive/MyDrive/akhbar/94451.txt',\n",
              " '/content/drive/MyDrive/akhbar/94452.txt',\n",
              " '/content/drive/MyDrive/akhbar/94456.txt',\n",
              " '/content/drive/MyDrive/akhbar/94457.txt',\n",
              " '/content/drive/MyDrive/akhbar/94465.txt',\n",
              " '/content/drive/MyDrive/akhbar/94466.txt',\n",
              " '/content/drive/MyDrive/akhbar/94468.txt',\n",
              " '/content/drive/MyDrive/akhbar/94477.txt',\n",
              " '/content/drive/MyDrive/akhbar/94478.txt',\n",
              " '/content/drive/MyDrive/akhbar/94482.txt',\n",
              " '/content/drive/MyDrive/akhbar/94491.txt',\n",
              " '/content/drive/MyDrive/akhbar/94495.txt',\n",
              " '/content/drive/MyDrive/akhbar/94502.txt',\n",
              " '/content/drive/MyDrive/akhbar/94504.txt',\n",
              " '/content/drive/MyDrive/akhbar/94505.txt',\n",
              " '/content/drive/MyDrive/akhbar/94506.txt',\n",
              " '/content/drive/MyDrive/akhbar/94521.txt',\n",
              " '/content/drive/MyDrive/akhbar/94523.txt',\n",
              " '/content/drive/MyDrive/akhbar/94524.txt',\n",
              " '/content/drive/MyDrive/akhbar/94526.txt',\n",
              " '/content/drive/MyDrive/akhbar/94527.txt',\n",
              " '/content/drive/MyDrive/akhbar/94532.txt',\n",
              " '/content/drive/MyDrive/akhbar/94536.txt',\n",
              " '/content/drive/MyDrive/akhbar/94540.txt',\n",
              " '/content/drive/MyDrive/akhbar/94542.txt',\n",
              " '/content/drive/MyDrive/akhbar/94543.txt',\n",
              " '/content/drive/MyDrive/akhbar/94544.txt',\n",
              " '/content/drive/MyDrive/akhbar/94545.txt',\n",
              " '/content/drive/MyDrive/akhbar/94546.txt',\n",
              " '/content/drive/MyDrive/akhbar/94547.txt',\n",
              " '/content/drive/MyDrive/akhbar/94549.txt',\n",
              " '/content/drive/MyDrive/akhbar/94553.txt',\n",
              " '/content/drive/MyDrive/akhbar/94554.txt',\n",
              " '/content/drive/MyDrive/akhbar/94555.txt',\n",
              " '/content/drive/MyDrive/akhbar/94558.txt',\n",
              " '/content/drive/MyDrive/akhbar/94561.txt',\n",
              " '/content/drive/MyDrive/akhbar/94570.txt',\n",
              " '/content/drive/MyDrive/akhbar/94574.txt',\n",
              " '/content/drive/MyDrive/akhbar/94576.txt',\n",
              " '/content/drive/MyDrive/akhbar/94581.txt',\n",
              " '/content/drive/MyDrive/akhbar/94584.txt',\n",
              " '/content/drive/MyDrive/akhbar/94591.txt',\n",
              " '/content/drive/MyDrive/akhbar/94593.txt',\n",
              " '/content/drive/MyDrive/akhbar/94598.txt',\n",
              " '/content/drive/MyDrive/akhbar/94600.txt',\n",
              " '/content/drive/MyDrive/akhbar/94602.txt',\n",
              " '/content/drive/MyDrive/akhbar/94605.txt',\n",
              " '/content/drive/MyDrive/akhbar/94609.txt',\n",
              " '/content/drive/MyDrive/akhbar/94610.txt',\n",
              " '/content/drive/MyDrive/akhbar/94612.txt',\n",
              " '/content/drive/MyDrive/akhbar/94617.txt',\n",
              " '/content/drive/MyDrive/akhbar/94618.txt',\n",
              " '/content/drive/MyDrive/akhbar/94621.txt',\n",
              " '/content/drive/MyDrive/akhbar/94629.txt',\n",
              " '/content/drive/MyDrive/akhbar/94630.txt',\n",
              " '/content/drive/MyDrive/akhbar/94634.txt',\n",
              " '/content/drive/MyDrive/akhbar/94637.txt',\n",
              " '/content/drive/MyDrive/akhbar/94644.txt',\n",
              " '/content/drive/MyDrive/akhbar/94652.txt',\n",
              " '/content/drive/MyDrive/akhbar/94655.txt',\n",
              " '/content/drive/MyDrive/akhbar/94656.txt',\n",
              " '/content/drive/MyDrive/akhbar/94657.txt',\n",
              " '/content/drive/MyDrive/akhbar/94664.txt',\n",
              " '/content/drive/MyDrive/akhbar/94666.txt',\n",
              " '/content/drive/MyDrive/akhbar/94668.txt',\n",
              " '/content/drive/MyDrive/akhbar/94671.txt',\n",
              " '/content/drive/MyDrive/akhbar/94672.txt',\n",
              " '/content/drive/MyDrive/akhbar/94673.txt',\n",
              " '/content/drive/MyDrive/akhbar/94680.txt',\n",
              " '/content/drive/MyDrive/akhbar/94681.txt',\n",
              " '/content/drive/MyDrive/akhbar/94687.txt',\n",
              " '/content/drive/MyDrive/akhbar/94691.txt',\n",
              " '/content/drive/MyDrive/akhbar/94692.txt',\n",
              " '/content/drive/MyDrive/akhbar/94697.txt',\n",
              " '/content/drive/MyDrive/akhbar/94699.txt',\n",
              " '/content/drive/MyDrive/akhbar/94701.txt',\n",
              " '/content/drive/MyDrive/akhbar/94706.txt',\n",
              " '/content/drive/MyDrive/akhbar/94708.txt',\n",
              " '/content/drive/MyDrive/akhbar/94709.txt',\n",
              " '/content/drive/MyDrive/akhbar/94712.txt',\n",
              " '/content/drive/MyDrive/akhbar/94713.txt',\n",
              " '/content/drive/MyDrive/akhbar/94724.txt',\n",
              " '/content/drive/MyDrive/akhbar/94725.txt',\n",
              " '/content/drive/MyDrive/akhbar/94732.txt',\n",
              " '/content/drive/MyDrive/akhbar/94742.txt',\n",
              " '/content/drive/MyDrive/akhbar/94745.txt',\n",
              " '/content/drive/MyDrive/akhbar/94750.txt',\n",
              " '/content/drive/MyDrive/akhbar/94754.txt',\n",
              " '/content/drive/MyDrive/akhbar/94759.txt',\n",
              " '/content/drive/MyDrive/akhbar/94761.txt',\n",
              " '/content/drive/MyDrive/akhbar/94765.txt',\n",
              " '/content/drive/MyDrive/akhbar/94766.txt',\n",
              " '/content/drive/MyDrive/akhbar/94770.txt',\n",
              " '/content/drive/MyDrive/akhbar/94777.txt',\n",
              " '/content/drive/MyDrive/akhbar/94784.txt',\n",
              " '/content/drive/MyDrive/akhbar/94785.txt',\n",
              " '/content/drive/MyDrive/akhbar/94786.txt',\n",
              " '/content/drive/MyDrive/akhbar/94789.txt',\n",
              " '/content/drive/MyDrive/akhbar/94791.txt',\n",
              " '/content/drive/MyDrive/akhbar/94792.txt',\n",
              " '/content/drive/MyDrive/akhbar/94798.txt',\n",
              " '/content/drive/MyDrive/akhbar/94802.txt',\n",
              " '/content/drive/MyDrive/akhbar/94807.txt',\n",
              " '/content/drive/MyDrive/akhbar/94810.txt',\n",
              " '/content/drive/MyDrive/akhbar/94811.txt',\n",
              " '/content/drive/MyDrive/akhbar/94812.txt',\n",
              " '/content/drive/MyDrive/akhbar/94813.txt',\n",
              " '/content/drive/MyDrive/akhbar/94819.txt',\n",
              " '/content/drive/MyDrive/akhbar/94821.txt',\n",
              " '/content/drive/MyDrive/akhbar/94822.txt',\n",
              " '/content/drive/MyDrive/akhbar/94824.txt',\n",
              " '/content/drive/MyDrive/akhbar/94830.txt',\n",
              " '/content/drive/MyDrive/akhbar/94831.txt',\n",
              " '/content/drive/MyDrive/akhbar/94834.txt',\n",
              " '/content/drive/MyDrive/akhbar/94835.txt',\n",
              " '/content/drive/MyDrive/akhbar/94838.txt',\n",
              " '/content/drive/MyDrive/akhbar/94842.txt',\n",
              " '/content/drive/MyDrive/akhbar/94845.txt',\n",
              " '/content/drive/MyDrive/akhbar/94846.txt',\n",
              " '/content/drive/MyDrive/akhbar/94848.txt',\n",
              " '/content/drive/MyDrive/akhbar/94850.txt',\n",
              " '/content/drive/MyDrive/akhbar/94851.txt',\n",
              " '/content/drive/MyDrive/akhbar/94853.txt',\n",
              " '/content/drive/MyDrive/akhbar/94856.txt',\n",
              " '/content/drive/MyDrive/akhbar/94859.txt',\n",
              " '/content/drive/MyDrive/akhbar/94860.txt',\n",
              " '/content/drive/MyDrive/akhbar/94862.txt',\n",
              " '/content/drive/MyDrive/akhbar/94863.txt',\n",
              " '/content/drive/MyDrive/akhbar/94864.txt',\n",
              " '/content/drive/MyDrive/akhbar/94868.txt',\n",
              " '/content/drive/MyDrive/akhbar/94869.txt',\n",
              " '/content/drive/MyDrive/akhbar/94870.txt',\n",
              " '/content/drive/MyDrive/akhbar/94875.txt',\n",
              " '/content/drive/MyDrive/akhbar/94877.txt',\n",
              " '/content/drive/MyDrive/akhbar/94889.txt',\n",
              " '/content/drive/MyDrive/akhbar/94891.txt',\n",
              " '/content/drive/MyDrive/akhbar/94892.txt',\n",
              " '/content/drive/MyDrive/akhbar/94895.txt',\n",
              " '/content/drive/MyDrive/akhbar/94897.txt',\n",
              " '/content/drive/MyDrive/akhbar/94901.txt',\n",
              " '/content/drive/MyDrive/akhbar/94903.txt',\n",
              " '/content/drive/MyDrive/akhbar/94907.txt',\n",
              " '/content/drive/MyDrive/akhbar/94909.txt',\n",
              " '/content/drive/MyDrive/akhbar/94917.txt',\n",
              " '/content/drive/MyDrive/akhbar/94923.txt',\n",
              " '/content/drive/MyDrive/akhbar/94926.txt',\n",
              " '/content/drive/MyDrive/akhbar/94927.txt',\n",
              " '/content/drive/MyDrive/akhbar/94935.txt',\n",
              " '/content/drive/MyDrive/akhbar/94940.txt',\n",
              " '/content/drive/MyDrive/akhbar/94941.txt',\n",
              " '/content/drive/MyDrive/akhbar/94942.txt',\n",
              " '/content/drive/MyDrive/akhbar/94945.txt',\n",
              " '/content/drive/MyDrive/akhbar/94947.txt',\n",
              " '/content/drive/MyDrive/akhbar/94950.txt',\n",
              " '/content/drive/MyDrive/akhbar/94951.txt',\n",
              " '/content/drive/MyDrive/akhbar/94956.txt',\n",
              " '/content/drive/MyDrive/akhbar/94962.txt',\n",
              " '/content/drive/MyDrive/akhbar/94969.txt',\n",
              " '/content/drive/MyDrive/akhbar/94972.txt',\n",
              " '/content/drive/MyDrive/akhbar/94977.txt',\n",
              " '/content/drive/MyDrive/akhbar/94980.txt',\n",
              " '/content/drive/MyDrive/akhbar/94990.txt',\n",
              " '/content/drive/MyDrive/akhbar/94993.txt',\n",
              " '/content/drive/MyDrive/akhbar/94995.txt',\n",
              " '/content/drive/MyDrive/akhbar/95001.txt',\n",
              " '/content/drive/MyDrive/akhbar/95002.txt',\n",
              " '/content/drive/MyDrive/akhbar/95010.txt',\n",
              " '/content/drive/MyDrive/akhbar/95011.txt',\n",
              " '/content/drive/MyDrive/akhbar/95014.txt',\n",
              " '/content/drive/MyDrive/akhbar/95015.txt',\n",
              " '/content/drive/MyDrive/akhbar/95018.txt',\n",
              " '/content/drive/MyDrive/akhbar/95023.txt',\n",
              " '/content/drive/MyDrive/akhbar/95025.txt',\n",
              " '/content/drive/MyDrive/akhbar/95026.txt',\n",
              " '/content/drive/MyDrive/akhbar/95027.txt',\n",
              " '/content/drive/MyDrive/akhbar/95028.txt',\n",
              " '/content/drive/MyDrive/akhbar/95029.txt',\n",
              " '/content/drive/MyDrive/akhbar/95030.txt',\n",
              " '/content/drive/MyDrive/akhbar/95031.txt',\n",
              " '/content/drive/MyDrive/akhbar/95032.txt',\n",
              " '/content/drive/MyDrive/akhbar/95037.txt',\n",
              " '/content/drive/MyDrive/akhbar/95039.txt',\n",
              " '/content/drive/MyDrive/akhbar/95041.txt',\n",
              " '/content/drive/MyDrive/akhbar/95049.txt',\n",
              " '/content/drive/MyDrive/akhbar/95053.txt',\n",
              " '/content/drive/MyDrive/akhbar/95058.txt',\n",
              " '/content/drive/MyDrive/akhbar/95059.txt',\n",
              " '/content/drive/MyDrive/akhbar/95060.txt',\n",
              " '/content/drive/MyDrive/akhbar/95062.txt',\n",
              " '/content/drive/MyDrive/akhbar/95074.txt',\n",
              " '/content/drive/MyDrive/akhbar/95075.txt',\n",
              " '/content/drive/MyDrive/akhbar/95082.txt',\n",
              " '/content/drive/MyDrive/akhbar/95087.txt',\n",
              " '/content/drive/MyDrive/akhbar/95088.txt',\n",
              " '/content/drive/MyDrive/akhbar/95092.txt',\n",
              " '/content/drive/MyDrive/akhbar/95093.txt',\n",
              " '/content/drive/MyDrive/akhbar/95094.txt',\n",
              " '/content/drive/MyDrive/akhbar/95099.txt',\n",
              " '/content/drive/MyDrive/akhbar/95101.txt',\n",
              " '/content/drive/MyDrive/akhbar/95105.txt',\n",
              " '/content/drive/MyDrive/akhbar/95107.txt',\n",
              " '/content/drive/MyDrive/akhbar/95115.txt',\n",
              " '/content/drive/MyDrive/akhbar/95129.txt',\n",
              " '/content/drive/MyDrive/akhbar/95131.txt',\n",
              " '/content/drive/MyDrive/akhbar/95136.txt',\n",
              " '/content/drive/MyDrive/akhbar/95142.txt',\n",
              " '/content/drive/MyDrive/akhbar/95144.txt',\n",
              " '/content/drive/MyDrive/akhbar/95157.txt',\n",
              " '/content/drive/MyDrive/akhbar/95158.txt',\n",
              " '/content/drive/MyDrive/akhbar/95168.txt',\n",
              " '/content/drive/MyDrive/akhbar/95175.txt',\n",
              " '/content/drive/MyDrive/akhbar/95176.txt',\n",
              " '/content/drive/MyDrive/akhbar/95181.txt',\n",
              " '/content/drive/MyDrive/akhbar/95186.txt',\n",
              " '/content/drive/MyDrive/akhbar/95187.txt',\n",
              " '/content/drive/MyDrive/akhbar/95193.txt',\n",
              " '/content/drive/MyDrive/akhbar/95194.txt',\n",
              " '/content/drive/MyDrive/akhbar/95195.txt',\n",
              " '/content/drive/MyDrive/akhbar/95206.txt',\n",
              " '/content/drive/MyDrive/akhbar/95209.txt',\n",
              " '/content/drive/MyDrive/akhbar/95211.txt',\n",
              " '/content/drive/MyDrive/akhbar/95212.txt',\n",
              " '/content/drive/MyDrive/akhbar/95215.txt',\n",
              " '/content/drive/MyDrive/akhbar/95217.txt',\n",
              " '/content/drive/MyDrive/akhbar/95220.txt',\n",
              " '/content/drive/MyDrive/akhbar/95231.txt',\n",
              " '/content/drive/MyDrive/akhbar/95238.txt',\n",
              " '/content/drive/MyDrive/akhbar/95239.txt',\n",
              " '/content/drive/MyDrive/akhbar/95245.txt',\n",
              " '/content/drive/MyDrive/akhbar/95261.txt',\n",
              " '/content/drive/MyDrive/akhbar/95272.txt',\n",
              " '/content/drive/MyDrive/akhbar/95277.txt',\n",
              " '/content/drive/MyDrive/akhbar/95279.txt',\n",
              " '/content/drive/MyDrive/akhbar/95280.txt',\n",
              " '/content/drive/MyDrive/akhbar/95281.txt',\n",
              " '/content/drive/MyDrive/akhbar/95294.txt',\n",
              " '/content/drive/MyDrive/akhbar/95304.txt',\n",
              " '/content/drive/MyDrive/akhbar/95309.txt',\n",
              " '/content/drive/MyDrive/akhbar/95349.txt',\n",
              " '/content/drive/MyDrive/akhbar/95385.txt',\n",
              " '/content/drive/MyDrive/akhbar/95387.txt',\n",
              " '/content/drive/MyDrive/akhbar/95400.txt',\n",
              " '/content/drive/MyDrive/akhbar/95403.txt',\n",
              " '/content/drive/MyDrive/akhbar/95407.txt',\n",
              " '/content/drive/MyDrive/akhbar/95424.txt',\n",
              " '/content/drive/MyDrive/akhbar/95428.txt',\n",
              " '/content/drive/MyDrive/akhbar/95439.txt',\n",
              " '/content/drive/MyDrive/akhbar/95446.txt',\n",
              " '/content/drive/MyDrive/akhbar/95449.txt',\n",
              " '/content/drive/MyDrive/akhbar/95461.txt',\n",
              " '/content/drive/MyDrive/akhbar/95462.txt',\n",
              " '/content/drive/MyDrive/akhbar/95481.txt',\n",
              " '/content/drive/MyDrive/akhbar/95485.txt',\n",
              " '/content/drive/MyDrive/akhbar/95498.txt',\n",
              " '/content/drive/MyDrive/akhbar/95500.txt',\n",
              " '/content/drive/MyDrive/akhbar/95523.txt',\n",
              " '/content/drive/MyDrive/akhbar/95525.txt',\n",
              " '/content/drive/MyDrive/akhbar/95527.txt',\n",
              " '/content/drive/MyDrive/akhbar/95543.txt',\n",
              " '/content/drive/MyDrive/akhbar/95547.txt',\n",
              " '/content/drive/MyDrive/akhbar/95567.txt',\n",
              " '/content/drive/MyDrive/akhbar/95574.txt',\n",
              " '/content/drive/MyDrive/akhbar/95581.txt',\n",
              " '/content/drive/MyDrive/akhbar/95604.txt',\n",
              " '/content/drive/MyDrive/akhbar/95628.txt',\n",
              " '/content/drive/MyDrive/akhbar/95629.txt',\n",
              " '/content/drive/MyDrive/akhbar/95691.txt',\n",
              " '/content/drive/MyDrive/akhbar/95736.txt',\n",
              " '/content/drive/MyDrive/akhbar/95763.txt',\n",
              " '/content/drive/MyDrive/akhbar/95826.txt',\n",
              " '/content/drive/MyDrive/akhbar/95827.txt',\n",
              " '/content/drive/MyDrive/akhbar/95856.txt',\n",
              " '/content/drive/MyDrive/akhbar/95898.txt',\n",
              " '/content/drive/MyDrive/akhbar/95912.txt',\n",
              " '/content/drive/MyDrive/akhbar/95930.txt',\n",
              " '/content/drive/MyDrive/akhbar/95972.txt',\n",
              " '/content/drive/MyDrive/akhbar/96027.txt',\n",
              " '/content/drive/MyDrive/akhbar/96053.txt',\n",
              " '/content/drive/MyDrive/akhbar/96067.txt',\n",
              " '/content/drive/MyDrive/akhbar/96133.txt',\n",
              " '/content/drive/MyDrive/akhbar/96146.txt',\n",
              " '/content/drive/MyDrive/akhbar/96170.txt',\n",
              " '/content/drive/MyDrive/akhbar/96214.txt',\n",
              " '/content/drive/MyDrive/akhbar/96216.txt',\n",
              " '/content/drive/MyDrive/akhbar/96256.txt',\n",
              " '/content/drive/MyDrive/akhbar/96281.txt',\n",
              " '/content/drive/MyDrive/akhbar/96335.txt',\n",
              " '/content/drive/MyDrive/akhbar/96368.txt',\n",
              " '/content/drive/MyDrive/akhbar/96371.txt',\n",
              " '/content/drive/MyDrive/akhbar/96377.txt',\n",
              " '/content/drive/MyDrive/akhbar/96405.txt',\n",
              " '/content/drive/MyDrive/akhbar/96470.txt',\n",
              " '/content/drive/MyDrive/akhbar/96502.txt',\n",
              " '/content/drive/MyDrive/akhbar/96511.txt',\n",
              " '/content/drive/MyDrive/akhbar/96521.txt',\n",
              " '/content/drive/MyDrive/akhbar/96542.txt',\n",
              " '/content/drive/MyDrive/akhbar/96544.txt',\n",
              " '/content/drive/MyDrive/akhbar/96574.txt',\n",
              " '/content/drive/MyDrive/akhbar/96599.txt',\n",
              " '/content/drive/MyDrive/akhbar/96602.txt',\n",
              " '/content/drive/MyDrive/akhbar/96619.txt',\n",
              " '/content/drive/MyDrive/akhbar/96634.txt',\n",
              " '/content/drive/MyDrive/akhbar/96707.txt',\n",
              " '/content/drive/MyDrive/akhbar/96720.txt',\n",
              " '/content/drive/MyDrive/akhbar/96770.txt',\n",
              " '/content/drive/MyDrive/akhbar/96772.txt',\n",
              " '/content/drive/MyDrive/akhbar/96778.txt',\n",
              " '/content/drive/MyDrive/akhbar/96805.txt',\n",
              " '/content/drive/MyDrive/akhbar/96837.txt',\n",
              " '/content/drive/MyDrive/akhbar/96847.txt',\n",
              " '/content/drive/MyDrive/akhbar/96919.txt',\n",
              " '/content/drive/MyDrive/akhbar/96973.txt',\n",
              " '/content/drive/MyDrive/akhbar/96982.txt',\n",
              " '/content/drive/MyDrive/akhbar/96995.txt',\n",
              " '/content/drive/MyDrive/akhbar/97020.txt',\n",
              " '/content/drive/MyDrive/akhbar/97109.txt',\n",
              " '/content/drive/MyDrive/akhbar/97115.txt',\n",
              " '/content/drive/MyDrive/akhbar/97153.txt',\n",
              " '/content/drive/MyDrive/akhbar/97159.txt',\n",
              " '/content/drive/MyDrive/akhbar/97177.txt',\n",
              " '/content/drive/MyDrive/akhbar/97181.txt',\n",
              " '/content/drive/MyDrive/akhbar/97184.txt',\n",
              " '/content/drive/MyDrive/akhbar/97225.txt',\n",
              " '/content/drive/MyDrive/akhbar/97266.txt',\n",
              " '/content/drive/MyDrive/akhbar/97269.txt',\n",
              " '/content/drive/MyDrive/akhbar/97292.txt',\n",
              " '/content/drive/MyDrive/akhbar/97396.txt',\n",
              " '/content/drive/MyDrive/akhbar/97399.txt',\n",
              " '/content/drive/MyDrive/akhbar/97407.txt',\n",
              " '/content/drive/MyDrive/akhbar/97410.txt',\n",
              " '/content/drive/MyDrive/akhbar/97428.txt',\n",
              " '/content/drive/MyDrive/akhbar/97434.txt']"
            ]
          },
          "metadata": {},
          "execution_count": 6
        }
      ],
      "source": [
        "files.sort()\n",
        "files"
      ]
    },
    {
      "cell_type": "code",
      "execution_count": 7,
      "metadata": {
        "id": "7nWy-EFpK5br"
      },
      "outputs": [],
      "source": [
        "import pandas as pd\n",
        "import numpy as np\n",
        "import re\n",
        "import hazm\n",
        "import nltk\n",
        "import codecs\n",
        "import tqdm\n",
        "import gensim\n",
        "from cleantext import clean\n",
        "import matplotlib.pyplot as plt"
      ]
    },
    {
      "cell_type": "markdown",
      "source": [],
      "metadata": {
        "id": "UdwcUUIKSrxn"
      }
    },
    {
      "cell_type": "code",
      "execution_count": 8,
      "metadata": {
        "colab": {
          "base_uri": "https://localhost:8080/"
        },
        "id": "1-2MlavtMgzM",
        "outputId": "b317ff3b-72b7-4dd8-f2c5-7d887b7f4abe"
      },
      "outputs": [
        {
          "output_type": "stream",
          "name": "stdout",
          "text": [
            "/content/drive/MyDrive/akhbar/92798.txt\n",
            "/content/drive/MyDrive/akhbar/92801.txt\n",
            "/content/drive/MyDrive/akhbar/92804.txt\n",
            "/content/drive/MyDrive/akhbar/92805.txt\n",
            "/content/drive/MyDrive/akhbar/92808.txt\n",
            "/content/drive/MyDrive/akhbar/92809.txt\n",
            "/content/drive/MyDrive/akhbar/92810.txt\n",
            "/content/drive/MyDrive/akhbar/92811.txt\n",
            "/content/drive/MyDrive/akhbar/92813.txt\n",
            "/content/drive/MyDrive/akhbar/92814.txt\n"
          ]
        }
      ],
      "source": [
        "i=0\n",
        "for file in files:\n",
        "  i=i+1\n",
        "  print(file)\n",
        "  if(i == 10):\n",
        "    break"
      ]
    },
    {
      "cell_type": "code",
      "execution_count": 9,
      "metadata": {
        "id": "NnwVaQK7hjRQ"
      },
      "outputs": [],
      "source": [
        "dataset = []\n",
        "for file in files:\n",
        "    with open(file) as f:\n",
        "        data = f.read()\n",
        "        dataset.append(data)"
      ]
    },
    {
      "cell_type": "code",
      "execution_count": 10,
      "metadata": {
        "id": "NqeKry7ot8Mp"
      },
      "outputs": [],
      "source": [
        "dataset_pd = pd.DataFrame(columns=[\"text\"])"
      ]
    },
    {
      "cell_type": "code",
      "execution_count": 11,
      "metadata": {
        "id": "BuLPlYZhuDmU"
      },
      "outputs": [],
      "source": [
        "dataset_pd[\"text\"] = dataset"
      ]
    },
    {
      "cell_type": "code",
      "execution_count": 12,
      "metadata": {
        "colab": {
          "base_uri": "https://localhost:8080/",
          "height": 206
        },
        "id": "Vvm-S8ftuJuy",
        "outputId": "508ea753-e9ba-4d1a-8628-4dbbd230895c"
      },
      "outputs": [
        {
          "output_type": "execute_result",
          "data": {
            "text/plain": [
              "                                                text\n",
              "0  پنتاگون در آستانه تعطیل دولت، ۵ میلیارد دلار ت...\n",
              "1  هشدار رئیس‌جمهور چین نسبت به تهدید‌های فزاینده...\n",
              "2  در گفت و گو با راديو فردا:شيمون پرز: مردم ايرا...\n",
              "3  آمریکا برای حمله به سوریه آماده می‌شود\\nوزیر د...\n",
              "4  مشاور اوباما: تجمع حوثی‌ها در صنعا را محکوم می..."
            ],
            "text/html": [
              "\n",
              "  <div id=\"df-6b6a3ffc-e9fb-421a-9c5f-7abd9e31bae8\">\n",
              "    <div class=\"colab-df-container\">\n",
              "      <div>\n",
              "<style scoped>\n",
              "    .dataframe tbody tr th:only-of-type {\n",
              "        vertical-align: middle;\n",
              "    }\n",
              "\n",
              "    .dataframe tbody tr th {\n",
              "        vertical-align: top;\n",
              "    }\n",
              "\n",
              "    .dataframe thead th {\n",
              "        text-align: right;\n",
              "    }\n",
              "</style>\n",
              "<table border=\"1\" class=\"dataframe\">\n",
              "  <thead>\n",
              "    <tr style=\"text-align: right;\">\n",
              "      <th></th>\n",
              "      <th>text</th>\n",
              "    </tr>\n",
              "  </thead>\n",
              "  <tbody>\n",
              "    <tr>\n",
              "      <th>0</th>\n",
              "      <td>پنتاگون در آستانه تعطیل دولت، ۵ میلیارد دلار ت...</td>\n",
              "    </tr>\n",
              "    <tr>\n",
              "      <th>1</th>\n",
              "      <td>هشدار رئیس‌جمهور چین نسبت به تهدید‌های فزاینده...</td>\n",
              "    </tr>\n",
              "    <tr>\n",
              "      <th>2</th>\n",
              "      <td>در گفت و گو با راديو فردا:شيمون پرز: مردم ايرا...</td>\n",
              "    </tr>\n",
              "    <tr>\n",
              "      <th>3</th>\n",
              "      <td>آمریکا برای حمله به سوریه آماده می‌شود\\nوزیر د...</td>\n",
              "    </tr>\n",
              "    <tr>\n",
              "      <th>4</th>\n",
              "      <td>مشاور اوباما: تجمع حوثی‌ها در صنعا را محکوم می...</td>\n",
              "    </tr>\n",
              "  </tbody>\n",
              "</table>\n",
              "</div>\n",
              "      <button class=\"colab-df-convert\" onclick=\"convertToInteractive('df-6b6a3ffc-e9fb-421a-9c5f-7abd9e31bae8')\"\n",
              "              title=\"Convert this dataframe to an interactive table.\"\n",
              "              style=\"display:none;\">\n",
              "        \n",
              "  <svg xmlns=\"http://www.w3.org/2000/svg\" height=\"24px\"viewBox=\"0 0 24 24\"\n",
              "       width=\"24px\">\n",
              "    <path d=\"M0 0h24v24H0V0z\" fill=\"none\"/>\n",
              "    <path d=\"M18.56 5.44l.94 2.06.94-2.06 2.06-.94-2.06-.94-.94-2.06-.94 2.06-2.06.94zm-11 1L8.5 8.5l.94-2.06 2.06-.94-2.06-.94L8.5 2.5l-.94 2.06-2.06.94zm10 10l.94 2.06.94-2.06 2.06-.94-2.06-.94-.94-2.06-.94 2.06-2.06.94z\"/><path d=\"M17.41 7.96l-1.37-1.37c-.4-.4-.92-.59-1.43-.59-.52 0-1.04.2-1.43.59L10.3 9.45l-7.72 7.72c-.78.78-.78 2.05 0 2.83L4 21.41c.39.39.9.59 1.41.59.51 0 1.02-.2 1.41-.59l7.78-7.78 2.81-2.81c.8-.78.8-2.07 0-2.86zM5.41 20L4 18.59l7.72-7.72 1.47 1.35L5.41 20z\"/>\n",
              "  </svg>\n",
              "      </button>\n",
              "      \n",
              "  <style>\n",
              "    .colab-df-container {\n",
              "      display:flex;\n",
              "      flex-wrap:wrap;\n",
              "      gap: 12px;\n",
              "    }\n",
              "\n",
              "    .colab-df-convert {\n",
              "      background-color: #E8F0FE;\n",
              "      border: none;\n",
              "      border-radius: 50%;\n",
              "      cursor: pointer;\n",
              "      display: none;\n",
              "      fill: #1967D2;\n",
              "      height: 32px;\n",
              "      padding: 0 0 0 0;\n",
              "      width: 32px;\n",
              "    }\n",
              "\n",
              "    .colab-df-convert:hover {\n",
              "      background-color: #E2EBFA;\n",
              "      box-shadow: 0px 1px 2px rgba(60, 64, 67, 0.3), 0px 1px 3px 1px rgba(60, 64, 67, 0.15);\n",
              "      fill: #174EA6;\n",
              "    }\n",
              "\n",
              "    [theme=dark] .colab-df-convert {\n",
              "      background-color: #3B4455;\n",
              "      fill: #D2E3FC;\n",
              "    }\n",
              "\n",
              "    [theme=dark] .colab-df-convert:hover {\n",
              "      background-color: #434B5C;\n",
              "      box-shadow: 0px 1px 3px 1px rgba(0, 0, 0, 0.15);\n",
              "      filter: drop-shadow(0px 1px 2px rgba(0, 0, 0, 0.3));\n",
              "      fill: #FFFFFF;\n",
              "    }\n",
              "  </style>\n",
              "\n",
              "      <script>\n",
              "        const buttonEl =\n",
              "          document.querySelector('#df-6b6a3ffc-e9fb-421a-9c5f-7abd9e31bae8 button.colab-df-convert');\n",
              "        buttonEl.style.display =\n",
              "          google.colab.kernel.accessAllowed ? 'block' : 'none';\n",
              "\n",
              "        async function convertToInteractive(key) {\n",
              "          const element = document.querySelector('#df-6b6a3ffc-e9fb-421a-9c5f-7abd9e31bae8');\n",
              "          const dataTable =\n",
              "            await google.colab.kernel.invokeFunction('convertToInteractive',\n",
              "                                                     [key], {});\n",
              "          if (!dataTable) return;\n",
              "\n",
              "          const docLinkHtml = 'Like what you see? Visit the ' +\n",
              "            '<a target=\"_blank\" href=https://colab.research.google.com/notebooks/data_table.ipynb>data table notebook</a>'\n",
              "            + ' to learn more about interactive tables.';\n",
              "          element.innerHTML = '';\n",
              "          dataTable['output_type'] = 'display_data';\n",
              "          await google.colab.output.renderOutput(dataTable, element);\n",
              "          const docLink = document.createElement('div');\n",
              "          docLink.innerHTML = docLinkHtml;\n",
              "          element.appendChild(docLink);\n",
              "        }\n",
              "      </script>\n",
              "    </div>\n",
              "  </div>\n",
              "  "
            ]
          },
          "metadata": {},
          "execution_count": 12
        }
      ],
      "source": [
        "dataset_pd.head()"
      ]
    },
    {
      "cell_type": "code",
      "execution_count": 13,
      "metadata": {
        "id": "PVbGRX15uMZD"
      },
      "outputs": [],
      "source": [
        "from parsivar import Tokenizer"
      ]
    },
    {
      "cell_type": "code",
      "execution_count": 14,
      "metadata": {
        "id": "j5L2qwYwGoWl"
      },
      "outputs": [],
      "source": [
        "tokenizer = Tokenizer()"
      ]
    },
    {
      "cell_type": "code",
      "execution_count": 15,
      "metadata": {
        "id": "tiQ-Fs-3GsUt"
      },
      "outputs": [],
      "source": [
        "dataset_pd[\"tokens\"] = dataset_pd[\"text\"].apply(tokenizer.tokenize_words)"
      ]
    },
    {
      "cell_type": "code",
      "execution_count": 16,
      "metadata": {
        "colab": {
          "base_uri": "https://localhost:8080/",
          "height": 206
        },
        "id": "amnAxMEMG8Kr",
        "outputId": "98794c29-414c-4d80-ee85-1dc66b212acc"
      },
      "outputs": [
        {
          "output_type": "execute_result",
          "data": {
            "text/plain": [
              "                                                text  \\\n",
              "0  پنتاگون در آستانه تعطیل دولت، ۵ میلیارد دلار ت...   \n",
              "1  هشدار رئیس‌جمهور چین نسبت به تهدید‌های فزاینده...   \n",
              "2  در گفت و گو با راديو فردا:شيمون پرز: مردم ايرا...   \n",
              "3  آمریکا برای حمله به سوریه آماده می‌شود\\nوزیر د...   \n",
              "4  مشاور اوباما: تجمع حوثی‌ها در صنعا را محکوم می...   \n",
              "\n",
              "                                              tokens  \n",
              "0  [پنتاگون, در, آستانه, تعطیل, دولت،, ۵, میلیارد...  \n",
              "1  [هشدار, رئیس‌جمهور, چین, نسبت, به, تهدید‌های, ...  \n",
              "2  [در, گفت, و, گو, با, راديو, فردا:شيمون, پرز:, ...  \n",
              "3  [آمریکا, برای, حمله, به, سوریه, آماده, می‌شود,...  \n",
              "4  [مشاور, اوباما:, تجمع, حوثی‌ها, در, صنعا, را, ...  "
            ],
            "text/html": [
              "\n",
              "  <div id=\"df-7989987f-58e5-472f-aeb4-256e39ccb24f\">\n",
              "    <div class=\"colab-df-container\">\n",
              "      <div>\n",
              "<style scoped>\n",
              "    .dataframe tbody tr th:only-of-type {\n",
              "        vertical-align: middle;\n",
              "    }\n",
              "\n",
              "    .dataframe tbody tr th {\n",
              "        vertical-align: top;\n",
              "    }\n",
              "\n",
              "    .dataframe thead th {\n",
              "        text-align: right;\n",
              "    }\n",
              "</style>\n",
              "<table border=\"1\" class=\"dataframe\">\n",
              "  <thead>\n",
              "    <tr style=\"text-align: right;\">\n",
              "      <th></th>\n",
              "      <th>text</th>\n",
              "      <th>tokens</th>\n",
              "    </tr>\n",
              "  </thead>\n",
              "  <tbody>\n",
              "    <tr>\n",
              "      <th>0</th>\n",
              "      <td>پنتاگون در آستانه تعطیل دولت، ۵ میلیارد دلار ت...</td>\n",
              "      <td>[پنتاگون, در, آستانه, تعطیل, دولت،, ۵, میلیارد...</td>\n",
              "    </tr>\n",
              "    <tr>\n",
              "      <th>1</th>\n",
              "      <td>هشدار رئیس‌جمهور چین نسبت به تهدید‌های فزاینده...</td>\n",
              "      <td>[هشدار, رئیس‌جمهور, چین, نسبت, به, تهدید‌های, ...</td>\n",
              "    </tr>\n",
              "    <tr>\n",
              "      <th>2</th>\n",
              "      <td>در گفت و گو با راديو فردا:شيمون پرز: مردم ايرا...</td>\n",
              "      <td>[در, گفت, و, گو, با, راديو, فردا:شيمون, پرز:, ...</td>\n",
              "    </tr>\n",
              "    <tr>\n",
              "      <th>3</th>\n",
              "      <td>آمریکا برای حمله به سوریه آماده می‌شود\\nوزیر د...</td>\n",
              "      <td>[آمریکا, برای, حمله, به, سوریه, آماده, می‌شود,...</td>\n",
              "    </tr>\n",
              "    <tr>\n",
              "      <th>4</th>\n",
              "      <td>مشاور اوباما: تجمع حوثی‌ها در صنعا را محکوم می...</td>\n",
              "      <td>[مشاور, اوباما:, تجمع, حوثی‌ها, در, صنعا, را, ...</td>\n",
              "    </tr>\n",
              "  </tbody>\n",
              "</table>\n",
              "</div>\n",
              "      <button class=\"colab-df-convert\" onclick=\"convertToInteractive('df-7989987f-58e5-472f-aeb4-256e39ccb24f')\"\n",
              "              title=\"Convert this dataframe to an interactive table.\"\n",
              "              style=\"display:none;\">\n",
              "        \n",
              "  <svg xmlns=\"http://www.w3.org/2000/svg\" height=\"24px\"viewBox=\"0 0 24 24\"\n",
              "       width=\"24px\">\n",
              "    <path d=\"M0 0h24v24H0V0z\" fill=\"none\"/>\n",
              "    <path d=\"M18.56 5.44l.94 2.06.94-2.06 2.06-.94-2.06-.94-.94-2.06-.94 2.06-2.06.94zm-11 1L8.5 8.5l.94-2.06 2.06-.94-2.06-.94L8.5 2.5l-.94 2.06-2.06.94zm10 10l.94 2.06.94-2.06 2.06-.94-2.06-.94-.94-2.06-.94 2.06-2.06.94z\"/><path d=\"M17.41 7.96l-1.37-1.37c-.4-.4-.92-.59-1.43-.59-.52 0-1.04.2-1.43.59L10.3 9.45l-7.72 7.72c-.78.78-.78 2.05 0 2.83L4 21.41c.39.39.9.59 1.41.59.51 0 1.02-.2 1.41-.59l7.78-7.78 2.81-2.81c.8-.78.8-2.07 0-2.86zM5.41 20L4 18.59l7.72-7.72 1.47 1.35L5.41 20z\"/>\n",
              "  </svg>\n",
              "      </button>\n",
              "      \n",
              "  <style>\n",
              "    .colab-df-container {\n",
              "      display:flex;\n",
              "      flex-wrap:wrap;\n",
              "      gap: 12px;\n",
              "    }\n",
              "\n",
              "    .colab-df-convert {\n",
              "      background-color: #E8F0FE;\n",
              "      border: none;\n",
              "      border-radius: 50%;\n",
              "      cursor: pointer;\n",
              "      display: none;\n",
              "      fill: #1967D2;\n",
              "      height: 32px;\n",
              "      padding: 0 0 0 0;\n",
              "      width: 32px;\n",
              "    }\n",
              "\n",
              "    .colab-df-convert:hover {\n",
              "      background-color: #E2EBFA;\n",
              "      box-shadow: 0px 1px 2px rgba(60, 64, 67, 0.3), 0px 1px 3px 1px rgba(60, 64, 67, 0.15);\n",
              "      fill: #174EA6;\n",
              "    }\n",
              "\n",
              "    [theme=dark] .colab-df-convert {\n",
              "      background-color: #3B4455;\n",
              "      fill: #D2E3FC;\n",
              "    }\n",
              "\n",
              "    [theme=dark] .colab-df-convert:hover {\n",
              "      background-color: #434B5C;\n",
              "      box-shadow: 0px 1px 3px 1px rgba(0, 0, 0, 0.15);\n",
              "      filter: drop-shadow(0px 1px 2px rgba(0, 0, 0, 0.3));\n",
              "      fill: #FFFFFF;\n",
              "    }\n",
              "  </style>\n",
              "\n",
              "      <script>\n",
              "        const buttonEl =\n",
              "          document.querySelector('#df-7989987f-58e5-472f-aeb4-256e39ccb24f button.colab-df-convert');\n",
              "        buttonEl.style.display =\n",
              "          google.colab.kernel.accessAllowed ? 'block' : 'none';\n",
              "\n",
              "        async function convertToInteractive(key) {\n",
              "          const element = document.querySelector('#df-7989987f-58e5-472f-aeb4-256e39ccb24f');\n",
              "          const dataTable =\n",
              "            await google.colab.kernel.invokeFunction('convertToInteractive',\n",
              "                                                     [key], {});\n",
              "          if (!dataTable) return;\n",
              "\n",
              "          const docLinkHtml = 'Like what you see? Visit the ' +\n",
              "            '<a target=\"_blank\" href=https://colab.research.google.com/notebooks/data_table.ipynb>data table notebook</a>'\n",
              "            + ' to learn more about interactive tables.';\n",
              "          element.innerHTML = '';\n",
              "          dataTable['output_type'] = 'display_data';\n",
              "          await google.colab.output.renderOutput(dataTable, element);\n",
              "          const docLink = document.createElement('div');\n",
              "          docLink.innerHTML = docLinkHtml;\n",
              "          element.appendChild(docLink);\n",
              "        }\n",
              "      </script>\n",
              "    </div>\n",
              "  </div>\n",
              "  "
            ]
          },
          "metadata": {},
          "execution_count": 16
        }
      ],
      "source": [
        "dataset_pd.head()"
      ]
    },
    {
      "cell_type": "markdown",
      "source": [
        "**Plot Utils**\n",
        "following function is responsible for plotting top 8 common categories resulting from LDA and NMF algorithms\n",
        "\n"
      ],
      "metadata": {
        "id": "WkyQP6DpEeHL"
      }
    },
    {
      "cell_type": "code",
      "source": [
        "def plot_top_words(model, feature_names, n_top_words, title):\n",
        "    fig, axes = plt.subplots(2, 5, figsize=(30, 15), sharex=True)\n",
        "    axes = axes.flatten()\n",
        "    for topic_idx, topic in enumerate(model.components_):\n",
        "        top_features_ind = topic.argsort()[: -n_top_words - 1 : -1]\n",
        "        top_features = [feature_names[i] for i in top_features_ind]\n",
        "        weights = topic[top_features_ind]\n",
        "\n",
        "        ax = axes[topic_idx]\n",
        "        ax.barh(top_features, weights, height=0.7)\n",
        "        ax.set_title(f\"Topic {topic_idx +1}\", fontdict={\"fontsize\": 30})\n",
        "        ax.invert_yaxis()\n",
        "        ax.tick_params(axis=\"both\", which=\"major\", labelsize=20)\n",
        "        for i in \"top right left\".split():\n",
        "            ax.spines[i].set_visible(False)\n",
        "        fig.suptitle(title, fontsize=40)\n",
        "\n",
        "    plt.subplots_adjust(top=0.90, bottom=0.05, wspace=0.90, hspace=0.3)\n",
        "    plt.show()"
      ],
      "metadata": {
        "id": "uDxTXJtcEmRO"
      },
      "execution_count": 20,
      "outputs": []
    },
    {
      "cell_type": "markdown",
      "source": [
        "**Label Persian Compatibility**\n",
        "following functions are needed to print persian labels on plot in right to left direction\n",
        "\n"
      ],
      "metadata": {
        "id": "VnZLc9msErHO"
      }
    },
    {
      "cell_type": "code",
      "source": [
        "from arabic_reshaper import reshape\n",
        "from bidi.algorithm import get_display\n",
        "import seaborn as sns\n",
        "def make_farsi_text(x):\n",
        "    if x == 'الله':\n",
        "        return 'هللا'\n",
        "    reshaped_text = reshape(x)\n",
        "    farsi_text = get_display(reshaped_text)\n",
        "    return farsi_text"
      ],
      "metadata": {
        "id": "4tD-4Xj8EvJj"
      },
      "execution_count": 21,
      "outputs": []
    },
    {
      "cell_type": "markdown",
      "source": [
        "**Load Stopwords from stopwords.txt**"
      ],
      "metadata": {
        "id": "cTyGFHepPRbI"
      }
    },
    {
      "cell_type": "code",
      "source": [
        "stopwords = [x.strip() for x in codecs.open('stopwords.txt','r','utf-8').readlines()]\n"
      ],
      "metadata": {
        "id": "nDngi7gHWVCh"
      },
      "execution_count": 22,
      "outputs": []
    },
    {
      "cell_type": "markdown",
      "source": [
        "**Instantiate Hazm Normalizer into normalizer variable**"
      ],
      "metadata": {
        "id": "uHG1eGLgWjrl"
      }
    },
    {
      "cell_type": "code",
      "source": [
        "dataset_pd['text'][0]"
      ],
      "metadata": {
        "colab": {
          "base_uri": "https://localhost:8080/",
          "height": 123
        },
        "id": "nV5ndpR1Wu1f",
        "outputId": "ab2dd592-ca47-42e6-dc0a-b2c98c05e07d"
      },
      "execution_count": 23,
      "outputs": [
        {
          "output_type": "execute_result",
          "data": {
            "text/plain": [
              "'پنتاگون در آستانه تعطیل دولت، ۵ میلیارد دلار تجهیزات نظامی خرید\\nب پیش از فرستاده شدن ۸۰۰ هزار کارمند دولت آمریکا به مرخصی بدون حقوق، پنتاگون قرارداد خرید ۵ میلیارد دلار تجهیزات نظامی را امضا کرد.\\nبه گزارش خبرگزاری دانشجویان ایران (ایسنا)، برپایه گزارش مجله \"سیاست خارجی\" (Foreign Policy) فهرست تجهیزات نظامی که پنتاگون در شب قبل از شکست مذاکرات کنگره بر سر بودجه دولت قرارداد خرید آن\\u200cها را امضا کرده، بسیار طولانی است.\\nدر چارچوب این توافق ۶۵ میلیون دلار برای کلاهخود، ۱۹ میلیون دلار برای تخت\\u200cهای صحرایی و ۴۰ میلیون دلار برای نارنجک\\u200cهای فنلاندی باید پرداخت شود. اما بزرگترین رقم را هزینه خرید قطعات یدکی تشکیل می\\u200cدهد که ۲ میلیارد و ۵۰۰ میلیون دلار است.\\nدلیل شتابزدگی پنتاگون در عقد قراردادها\\nعلاوه بر این ارقام، بیش از دو میلیارد دلار نیز به خرید ماهواره\\u200cهای جاسوسی، ربات\\u200cهای زیردریائی و آینه\\u200cهای تلسکوپی اختصاص داده شده است. به نوشته مجله فارین پالسی، پنتاگون به\\u200cاین دلیل ۹۴ قرارداد جدید را با حجم نزدیک به ۵ میلیارد دلار شبانه امضا کرده که نمی\\u200cخواسته برنامه\\u200c خریدش تحت تاثیر اجبار دولت به صرفه\\u200cجویی قرار بگیرد.\\nهمین مجله می\\u200cنویسد که یک\\u200cروز پس از امضای این قراردادها، ۴۰۰ هزار نفر از کارمندان غیرنظامی ارتش آمریکا به مرخصی فرستاده شدند.\\nروز ۲۷ سپتامبر \"روبرت هاله\" رئیس امورمالی وزارت دفاع آمریکا هشدار داده بود که در صورت عدم توافق بر سر بودجه دولت، دیگر امکان عقد بیشتر قراردادها وجود نخواهد داشت. اکنون پنتاگون توانسته است با سرعت بخشیدن به عقد قراردادها این محدودیت را دور بزند.\\nاقدام پنتاگون تاثیر نامطلوبی بر روحیه نظامیان و کارکنان غیرنظامی ارتش آمریکا داشته است.\\nفارین پالسی می\\u200cنویسد: ارتش تنها در مورد پرسنل غیرنظامی صرفه\\u200cجوئی نمی\\u200cکند، بلکه حتی اعلام شده حقوق کسانی که در ماموریت به\\u200cسر می\\u200cبرند نیز به صورت \"فیش طلب\" پرداخت خواهد شد.\\nهمچنین به\\u200cگفته کارل لوین، رئیس کمیسیون امور نظامی کنگره، اگر سربازان آمریکائی در دوره تعطیل دولت در جنگ کشته شوند، پرداخت به بازماندگان آ\\u200cن\\u200cها نیز به تعویق خواهد افتاد. البته در وضعیت ناوگان جنگی مستقر در مدیریترانه و نیروهائی که برای حمله احتمالی به سوریه آماده شده\\u200cاند تغییری ایجاد نخواهد شد. رئیس امورمالی پنتاگون تصریح کرده است: اغلب کشتی\\u200cهای جنگی ما در اقیانوس خواهند ماند.\\nچاک هاگل، وزیر دفاع آمریکا چند روز پیش از تعطیلی دولت در سفر به کره جنوبی نسبت به تاثیری که این اقدام بر وجهه بین\\u200cالمللی آمریکا خواهد گذاشت ابراز نگرانی کرده بود. او گفته بود تعطیلی دولت، این پرسش آشکار را پیش خواهد کشید که آیا متحدان آمریکا می\\u200cتوانند اطمینان داشته باشند که واشنگتن به تعهدانش نسبت به آن\\u200cها عمل خواهد کرد؟\\nفارین پالسی در گزارش خود نتیجه می\\u200cگیرد: حتی اگر دولت مجبور به صرفه\\u200cجویی شدید باشد و ارتش ناگزیر شود نیمی از کارکنان غیرنظامی خود را برای مدتی نامعلوم به مرخصی اجباری بفرستد، هیچ\\u200cکس نمی\\u200cتواند به\\u200cاندازه پنتاگون به دلخواه خود پول خرج کند.\\nبه دلیل عدم توافق احزاب دموکرات و جمهوری\\u200cخواه بر سر تصویب بودجه دولت، از سحرگاه سه\\u200cشنبه ( اول سپتامبر) ۸۰۰ هزار کارمند دولت آمریکا به مرخصی اجباری فرستاده شدند. مراکز توریستی، پارک\\u200cها و گردشگاه\\u200cها، موزه\\u200cها، بناهای تاریخی و حتی توالت\\u200cهای عمومی به روی توریست\\u200cها بسته شد. این که این وضعیت تا کی ادامه یابد روشن نیست.\\nفعالیت\\u200cها و خدمات دولت آمریکا در نتیجه عدم توافق کنگره بر سر بودجه، اولین\\u200cبار نیست که متوقف می\\u200cشود. آخرین\\u200cبار نیز اواسط دهه ۱۹۹۰ میلادی دولت به\\u200cمدت ۲۱ روز بخش مهمی از کارهای خود را تعطیل کرد و کارمندان را به دلیل عدم توانایی پرداخت حقوق آنان به مرخصی اجباری فرستاد. اکنون شهروندان آمریکایی امیدوارند که این\\u200cوضعیت این\\u200cبار زیاد به درازا نکشد.\\nپایتخت آمریکا از این شرایط استثنایی بیش از همه شهرها زیان می\\u200cبیند. واشنگتن\\u200cپست به\\u200cنقل از یک کارشناس اقتصادی میزان کاهش درآمد کلان\\u200cشهر واشنگتن را روزانه ۲۰۰ میلیون دلار برآورد کرده است. این روزنامه در یک\\u200cجمله تلخ می\\u200cنویسد: پایتخت جهان آزاد تا اطلاع ثانوی تعطیل است.\\nبراساس گزارش اشپیگل\\u200cآنلاین، بیشتر شهروندان آمریکایی حزب جمهوری\\u200cخواه و به\\u200cویژه حزب دست\\u200cراستی تی\\u200cپارتی را مسئول این وضعیت می\\u200cدانند. جمهوری\\u200cخواهان تصویب بودجه را مشروط به آن کرده بودند که باراک اوباما اجرای طرح بیمه\\u200c همگانی را دست کم یک\\u200cسال عقب بیاندازد، اما اوباما راضی به این\\u200cکار نشد و آن\\u200cها هم بودجه را تصویب نکردند.\\nبراساس طرح اوباما، هر شهروند آمریکائی، فارق از این که چه موقعیت اجتماعی و اقتصادی داشته باشد، باید از حق بیمه\\u200cدرمانی برخوردار شود. در حال حاضر در آمریکا تنها کسانی بیمه هستند که کار رسمی می\\u200cکنند و یا خود قادر به\\u200cپرداخت حق\\u200cبیمه سنگین هستند.\\nتازه\\u200cترین نظرسنجی نشان می\\u200cدهد که ۷۲ درصد شهروندان آمریکا مخالف پیوند زدن تصویب بودجه با طرح خدمات درمانی اوباما هستند. بنابراین بعید نیست که در روزهای آینده جمهوری\\u200cخواهان برای حفظ آبروی خود عقب\\u200cنشینی کنند و به تصویب بودجه تن بدهند. لایحه بودجه در سنای آمریکا با توجه به اکثریت دموکرات\\u200cها تصویب شده است، اما در مجلس\\u200c نمایندگان جمهوری\\u200cخواهان اکثریت دارند و مانع این کار شده\\u200cاند.\\nباراک اوباما پس از اعلام تعطیل دولت در یک کنفرانس خبری کاخ سفید واشنگتن جمهوری\\u200cخواهان را متهم کرد که در یک \"جنگ\\u200c صلیبی علیه طرح بیمه\\u200c درمانی\" دولت را فلج کرده\\u200cاند.\\nرئیس\\u200cجمهور آمریکا در مبارزات انتخاباتی دوره نخست ریاست\\u200cجمهوری خود \"برخورداری همه شهروندان آمریکا از بیمه\\u200c درمانی\" را در صورت پیروزی\\u200c خود تضمین کرده بود. او در کنفرانس خبری واشنگتن گفت: تعطیلی دولت به\\u200cخاطر کسری بودجه یا پرداخت\\u200cهای دولت نیست، محافظه\\u200cکاران تی\\u200cپارتی تنها می\\u200cخواهند مانع از آن شوند که شهروندان عادی آمریکا هم بتوانند یک بیمه درمانی قابل پرداخت داشته باشند.\\nاوباما تاکید کرد که قانون بیمه\\u200cهای درمانی پس گرفتنی نیست. این قانون تصویب شده و محفوظ خواهند ماند. وی با عصبانیت از کنگره خواست که فعالیت\\u200cهای دولت را، با تصویب بودجه آزاد کند. \\n'"
            ],
            "application/vnd.google.colaboratory.intrinsic+json": {
              "type": "string"
            }
          },
          "metadata": {},
          "execution_count": 23
        }
      ]
    },
    {
      "cell_type": "code",
      "source": [
        "normalizer = hazm.Normalizer()\n",
        "normalizer.normalize(dataset_pd['text'][0])"
      ],
      "metadata": {
        "colab": {
          "base_uri": "https://localhost:8080/",
          "height": 123
        },
        "id": "vet6ZPSmWmYT",
        "outputId": "a557da26-cf20-4f82-a165-fd2d9c6ab8d4"
      },
      "execution_count": 24,
      "outputs": [
        {
          "output_type": "execute_result",
          "data": {
            "text/plain": [
              "'پنتاگون در آستانه تعطیل دولت، ۵ میلیارد دلار تجهیزات نظامی خرید\\nب پیش از فرستاده شدن ۸۰۰ هزار کارمند دولت آمریکا به مرخصی بدون حقوق، پنتاگون قرارداد خرید ۵ میلیارد دلار تجهیزات نظامی را امضا کرد. \\nبه گزارش خبرگزاری دانشجویان ایران (ایسنا)، برپایه گزارش مجله «سیاست خارجی» (Foreign Policy) فهرست تجهیزات نظامی که پنتاگون در شب قبل از شکست مذاکرات کنگره بر سر بودجه دولت قرارداد خرید آن\\u200cها را امضا کرده، بسیار طولانی است. \\nدر چارچوب این توافق ۶۵ میلیون دلار برای کلاهخود، ۱۹ میلیون دلار برای تخت\\u200cهای صحرایی و ۴۰ میلیون دلار برای نارنجک\\u200cهای فنلاندی باید پرداخت شود. اما بزرگترین رقم را هزینه خرید قطعات یدکی تشکیل می\\u200cدهد که ۲ میلیارد و ۵۰۰ میلیون دلار است. \\nدلیل شتابزدگی پنتاگون در عقد قراردادها\\nعلاوه بر این ارقام، بیش از دو میلیارد دلار نیز به خرید ماهواره\\u200cهای جاسوسی، ربات\\u200cهای زیردریائی و آینه\\u200cهای تلسکوپی اختصاص داده شده است. به نوشته مجله فارین پالسی، پنتاگون به\\u200cاین دلیل ۹۴ قرارداد جدید را با حجم نزدیک به ۵ میلیارد دلار شبانه امضا کرده که نمی\\u200cخواسته برنامه\\u200c خریدش تحت تاثیر اجبار دولت به صرفه\\u200cجویی قرار بگیرد. \\nهمین مجله می\\u200cنویسد که یک\\u200cروز پس از امضای این قراردادها، ۴۰۰ هزار نفر از کارمندان غیرنظامی ارتش آمریکا به مرخصی فرستاده شدند. \\nروز ۲۷ سپتامبر «روبرت هاله» رئیس امورمالی وزارت دفاع آمریکا هشدار داده بود که در صورت عدم توافق بر سر بودجه دولت، دیگر امکان عقد بیشتر قراردادها وجود نخواهد داشت. اکنون پنتاگون توانسته است با سرعت بخشیدن به عقد قراردادها این محدودیت را دور بزند. \\nاقدام پنتاگون تاثیر نامطلوبی بر روحیه نظامیان و کارکنان غیرنظامی ارتش آمریکا داشته است. \\nفارین پالسی می\\u200cنویسد: ارتش تنها در مورد پرسنل غیرنظامی صرفه\\u200cجوئی نمی\\u200cکند، بلکه حتی اعلام شده حقوق کسانی که در ماموریت به\\u200cسر می\\u200cبرند نیز به صورت «فیش طلب» پرداخت خواهد شد. \\nهمچنین به\\u200cگفته کارل لوین، رئیس کمیسیون امور نظامی کنگره، اگر سربازان آمریکائی در دوره تعطیل دولت در جنگ کشته شوند، پرداخت به بازماندگان آ\\u200cن\\u200cها نیز به تعویق خواهد افتاد. البته در وضعیت ناوگان جنگی مستقر در مدیریترانه و نیروهائی که برای حمله احتمالی به سوریه آماده شده\\u200cاند تغییری ایجاد نخواهد شد. رئیس امورمالی پنتاگون تصریح کرده است: اغلب کشتی\\u200cهای جنگی ما در اقیانوس خواهند ماند. \\nچاک هاگل، وزیر دفاع آمریکا چند روز پیش از تعطیلی دولت در سفر به کره جنوبی نسبت به تاثیری که این اقدام بر وجهه بین\\u200cالمللی آمریکا خواهد گذاشت ابراز نگرانی کرده بود. او گفته بود تعطیلی دولت، این پرسش آشکار را پیش خواهد کشید که آیا متحدان آمریکا می\\u200cتوانند اطمینان داشته باشند که واشنگتن به تعهدانش نسبت به آن\\u200cها عمل خواهد کرد؟ \\nفارین پالسی در گزارش خود نتیجه می\\u200cگیرد: حتی اگر دولت مجبور به صرفه\\u200cجویی شدید باشد و ارتش ناگزیر شود نیمی از کارکنان غیرنظامی خود را برای مدتی نامعلوم به مرخصی اجباری بفرستد، هیچ\\u200cکس نمی\\u200cتواند به\\u200cاندازه پنتاگون به دلخواه خود پول خرج کند. \\nبه دلیل عدم توافق احزاب دموکرات و جمهوری\\u200cخواه بر سر تصویب بودجه دولت، از سحرگاه سه\\u200cشنبه (اول سپتامبر) ۸۰۰ هزار کارمند دولت آمریکا به مرخصی اجباری فرستاده شدند. مراکز توریستی، پارک\\u200cها و گردشگاه\\u200cها، موزه\\u200cها، بناهای تاریخی و حتی توالت\\u200cهای عمومی به روی توریست\\u200cها بسته شد. این که این وضعیت تا کی ادامه یابد روشن نیست. \\nفعالیت\\u200cها و خدمات دولت آمریکا در نتیجه عدم توافق کنگره بر سر بودجه، اولین\\u200cبار نیست که متوقف می\\u200cشود. آخرین\\u200cبار نیز اواسط دهه ۱۹۹۰ میلادی دولت به\\u200cمدت ۲۱ روز بخش مهمی از کارهای خود را تعطیل کرد و کارمندان را به دلیل عدم توانایی پرداخت حقوق آنان به مرخصی اجباری فرستاد. اکنون شهروندان آمریکایی امیدوارند که این\\u200cوضعیت این\\u200cبار زیاد به درازا نکشد. \\nپایتخت آمریکا از این شرایط استثنایی بیش از همه شهرها زیان می\\u200cبیند. واشنگتن\\u200cپست به\\u200cنقل از یک کارشناس اقتصادی میزان کاهش درآمد کلان\\u200cشهر واشنگتن را روزانه ۲۰۰ میلیون دلار برآورد کرده است. این روزنامه در یک\\u200cجمله تلخ می\\u200cنویسد: پایتخت جهان آزاد تا اطلاع ثانوی تعطیل است. \\nبراساس گزارش اشپیگل\\u200cآنلاین، بیشتر شهروندان آمریکایی حزب جمهوری\\u200cخواه و به\\u200cویژه حزب دست\\u200cراستی تی\\u200cپارتی را مسئول این وضعیت می\\u200cدانند. جمهوری\\u200cخواهان تصویب بودجه را مشروط به آن کرده بودند که باراک اوباما اجرای طرح بیمه\\u200c همگانی را دست کم یک\\u200cسال عقب بیاندازد، اما اوباما راضی به این\\u200cکار نشد و آن\\u200cها هم بودجه را تصویب نکردند. \\nبراساس طرح اوباما، هر شهروند آمریکائی، فارق از این که چه موقعیت اجتماعی و اقتصادی داشته باشد، باید از حق بیمه\\u200cدرمانی برخوردار شود. در حال حاضر در آمریکا تنها کسانی بیمه هستند که کار رسمی می\\u200cکنند و یا خود قادر به\\u200cپرداخت حق\\u200cبیمه سنگین هستند. \\nتازه\\u200cترین نظرسنجی نشان می\\u200cدهد که ۷۲ درصد شهروندان آمریکا مخالف پیوند زدن تصویب بودجه با طرح خدمات درمانی اوباما هستند. بنابراین بعید نیست که در روزهای آینده جمهوری\\u200cخواهان برای حفظ آبروی خود عقب\\u200cنشینی کنند و به تصویب بودجه تن بدهند. لایحه بودجه در سنای آمریکا با توجه به اکثریت دموکرات\\u200cها تصویب شده است، اما در مجلس\\u200c نمایندگان جمهوری\\u200cخواهان اکثریت دارند و مانع این کار شده\\u200cاند. \\nباراک اوباما پس از اعلام تعطیل دولت در یک کنفرانس خبری کاخ سفید واشنگتن جمهوری\\u200cخواهان را متهم کرد که در یک «جنگ\\u200c صلیبی علیه طرح بیمه\\u200c درمانی» دولت را فلج کرده\\u200cاند. \\nرئیس\\u200cجمهور آمریکا در مبارزات انتخاباتی دوره نخست ریاست\\u200cجمهوری خود «برخورداری همه شهروندان آمریکا از بیمه\\u200c درمانی» را در صورت پیروزی\\u200c خود تضمین کرده بود. او در کنفرانس خبری واشنگتن گفت: تعطیلی دولت به\\u200cخاطر کسری بودجه یا پرداخت\\u200cهای دولت نیست، محافظه\\u200cکاران تی\\u200cپارتی تنها می\\u200cخواهند مانع از آن شوند که شهروندان عادی آمریکا هم بتوانند یک بیمه درمانی قابل پرداخت داشته باشند. \\nاوباما تاکید کرد که قانون بیمه\\u200cهای درمانی پس گرفتنی نیست. این قانون تصویب شده و محفوظ خواهند ماند. وی با عصبانیت از کنگره خواست که فعالیت\\u200cهای دولت را، با تصویب بودجه آزاد کند. \\n'"
            ],
            "application/vnd.google.colaboratory.intrinsic+json": {
              "type": "string"
            }
          },
          "metadata": {},
          "execution_count": 24
        }
      ]
    },
    {
      "cell_type": "markdown",
      "source": [
        "**Instantiate Hazm Lemmatizer into lemmatizer variable**"
      ],
      "metadata": {
        "id": "OeAAEjXKXwt6"
      }
    },
    {
      "cell_type": "code",
      "source": [
        "lemmatizer = hazm.Lemmatizer()\n",
        "lemmatizer.lemmatize(dataset_pd['text'][1])"
      ],
      "metadata": {
        "colab": {
          "base_uri": "https://localhost:8080/",
          "height": 123
        },
        "id": "B0CJSXIQXyoT",
        "outputId": "a8c8156a-08d5-4311-a1fb-c4f682eb2b72"
      },
      "execution_count": 25,
      "outputs": [
        {
          "output_type": "execute_result",
          "data": {
            "text/plain": [
              "'هشدار رئیس\\u200cجمهور چین نسبت به تهدید\\u200cهای فزاینده علیه امنیت ملی\\nرییس\\u200cجمهوری چین با تاکید بر اینکه چین با تهدیدهای فزاینده علیه امنیت ملی خود مواجه است نسبت به خطر تروریسم هشدار دادو متعهد شد، برای حفظ امنیت ملی کشورش با تروریسم و تجزیه\\u200cطلبی مبارزه کند.\\n\\nبه گزارش خبرگزاری دانشجویان ایران (ایسنا)، شی جینپینگ، رییس\\u200cجمهوری چین در نشست امنیت ملی و ثبات اجتماعی، تروریسم را دشمن ملت چین توصیف کرد و از مقامات امنیتی کشورش خواست تمامی تلاش خود را برای مبارزه با تروریسم در چین به کار بگیرند.\\n\\nوی همچنین در این نشست با تأکید بر این که ��رای مبارزه با تروریسم، باید تدابیر قاطعی اتخاذ شود، از مردم چین خواست برای مبارزه با این پدیده، تمامی تلاش خود را به کار بگیرند.\\n\\nبه گزارش خبرگزاری شینهوا، رییس\\u200cجمهوری چین در ادامه با تأکید بر این که تروریست\\u200cها حقوق اساسی بشر را نادیده می\\u200cگیرند، پدیده تروریسم و تروریست\\u200cها را نه تنها دشمن ملت چین بلکه دشمن تمامی ملت\\u200cهای جهان توصیف کرد.\\n\\nشی جینپینگ همچنین بر مبارزه علیه تجزیه\\u200cطلبی تأکید کرد و خواستار ترویج وحدت ملی در چین شد.\\n\\nوی تاکید کرد که پکن کنترل شدیدتری بر اقلیت\\u200cها اعمال خواهد کرد.\\n\\nرئیس جمهور چین گفت: ما باید کاملا هشیار و آگاه باشیم که در شرایط جدید اق��صاد ما با تهدید روبروست و امنیت ملی ما دچار چالش شده است. ملت چین باید دیواری فولادین برای مبارزه با تروریسم بسازد و تروریست\\u200cها را همچون موش در تمامی خیابان\\u200cها دنبال کنند.\\n\\nشی جینپینگ از مقام\\u200cهای کشوری خواست مناقشاتی را که بر وحدت ملی تاثیر می\\u200cگذارند حل و فصل کنند و با دشمنان متخاصم خارجی و داخلی که با استفاده از مسائل قومیتی در صدد ایجاد احساسات جدایی\\u200cطلبی هستند، مقابله کنند.\\n\\nوی در سخنان خود اشاره\\u200cای به اقلیت\\u200cهای اویغور و یا تبتی نکرد اما سخنان وی از لفاظی\\u200cهایی حکایت داشت که اغلب توسط رهبران چین علیه این افراد بکار گرفته می شود.\\n\\n'"
            ],
            "application/vnd.google.colaboratory.intrinsic+json": {
              "type": "string"
            }
          },
          "metadata": {},
          "execution_count": 25
        }
      ]
    },
    {
      "cell_type": "markdown",
      "source": [
        "**Remove Space patterns regex**\n",
        "\n",
        "The following function returns regex appropriate to omit unwanted spaces in text."
      ],
      "metadata": {
        "id": "hkH7cVOXYFxe"
      }
    },
    {
      "cell_type": "code",
      "source": [
        "def remove_spaces_reg():\n",
        "    # return space patterns\n",
        "    space_pattern = r\"[\\xad\\ufeff\\u200e\\u200d\\u200b\\x7f\\u202a\\u2003\\xa0\\u206e\\u200c\\x9d]\"\n",
        "    return re.compile(space_pattern)"
      ],
      "metadata": {
        "id": "vipFHh05YOKx"
      },
      "execution_count": 26,
      "outputs": []
    },
    {
      "cell_type": "markdown",
      "source": [
        "**Remove Symbols and Punctuation patterns regex**\n",
        "\n",
        "The following function returns regex appropriate to omit unwanted symbols and punctuations in text.\n",
        "\n"
      ],
      "metadata": {
        "id": "nPv94B4DYU5I"
      }
    },
    {
      "cell_type": "code",
      "source": [
        "def remove_symbols_reg():\n",
        "    # return symbol patterns\n",
        "    symbol_patterns = r\"(\\d|\\\"|'ٍ|¬|[؛“،,”‘۔’’‘–]|[|\\.÷+\\:\\-\\?»\\=\\{}\\*«»_…\\؟!/ـ]|[۰'ٓ۫'ٔ]|[ٓٔ]|[ًٌٍْﹼ،َُِّ«ٰ»ٖء])\"\n",
        "    return re.compile(symbol_patterns)"
      ],
      "metadata": {
        "id": "3oBvE7cWYdIR"
      },
      "execution_count": 27,
      "outputs": []
    },
    {
      "cell_type": "markdown",
      "source": [
        "**Convert Arabic alphabet to persian alphabet**\n",
        "\n",
        "The following function converts the Arabic alphabet in text into the corresponding Persian one.\n",
        "\n"
      ],
      "metadata": {
        "id": "baVc1jsXYia-"
      }
    },
    {
      "cell_type": "code",
      "source": [
        "def remeove_arabic(text):\n",
        "    # remove arabic alphabet\n",
        "    mapping = {\n",
        "        u\"ۀ\" : u\"ه\",\n",
        "        u\"ة\" : u\"ت\",\n",
        "        u\"ي\" : u\"ی\",\n",
        "        u\"ؤ\" : u\"و\",\n",
        "        u\"إ\" : u\"ا\",\n",
        "        u\"ٹ\" : u\"ت\",\n",
        "        u\"ڈ\" : u\"د\",\n",
        "        u\"ئ\" : u\"ی\",\n",
        "        u\"ﻨ\" : u\"ن\",\n",
        "        u\"ﺠ\" : u\"ج\",\n",
        "        u\"ﻣ\" : u\"م\",\n",
        "        u\"ﷲ\" : u\"\",\n",
        "        u\"ﻳ\" : u\"ی\",\n",
        "        u\"ٻ\" : u\"ب\",\n",
        "        u\"ٱ\" : u\"ا\",\n",
        "        u\"ڵ\" : u\"ل\",\n",
        "        u\"ﭘ\" : u\"پ\",\n",
        "        u\"ﻪ\" : u\"ه\",\n",
        "        u\"ﻳ\" : u\"ی\",\n",
        "        u\"ٻ\" : u\"ب\",\n",
        "        u\"ں\" : u\"ن\",\n",
        "        u\"ٶ\" : u\"و\",\n",
        "        u\"ٲ\" : u\"ا\",\n",
        "        u\"ہ\" : u\"ه\",\n",
        "        u\"ﻩ\" : u\"ه\",\n",
        "        u\"ﻩ\" : u\"ه\",\n",
        "        u\"ك\" : u\"ک\",\n",
        "        u\"ﺆ\" : u\"و\",\n",
        "        u\"أ\" : u\"ا\",\n",
        "        u\"ﺪ\" : u\"د\"\n",
        "    }\n",
        "\n",
        "    arabic_keys =  re.compile(r\"(\" + \"|\".join(mapping.keys()) + r\")\")\n",
        "    return arabic_keys.sub(lambda x: mapping[x.group()], text)"
      ],
      "metadata": {
        "id": "dbj9ie7zYrVG"
      },
      "execution_count": 28,
      "outputs": []
    },
    {
      "cell_type": "markdown",
      "source": [
        "**Create needed regexes**\n"
      ],
      "metadata": {
        "id": "eGbMFxQ_YwxU"
      }
    },
    {
      "cell_type": "code",
      "source": [
        "spaces_reg = remove_spaces_reg() \n",
        "symbols_reg = remove_symbols_reg()"
      ],
      "metadata": {
        "id": "-3aALefFY60Z"
      },
      "execution_count": 29,
      "outputs": []
    },
    {
      "cell_type": "markdown",
      "source": [
        "**clean_text function**\n",
        "\n",
        "the following method cleans input text from extra spaces, stop words, punctuations, unwanted symbols and arabic alphabet.\n",
        "\n"
      ],
      "metadata": {
        "id": "f7IiXDOTZZuS"
      }
    },
    {
      "cell_type": "code",
      "source": [
        "def clean_text(text):\n",
        "    text = re.sub(spaces_reg, \" \", text)\n",
        "    text = re.sub(symbols_reg, \"\", text)\n",
        "    text = remeove_arabic(text)\n",
        "    text = normalizer.normalize(text)\n",
        "    regex = r\"\\b(?:\" + \"|\".join(map(re.escape, stopwords)) + r\")\\b\"\n",
        "    text = re.sub(regex, \" \", text)\n",
        "    text = re.sub(spaces_reg, \" \", text)\n",
        "    text = re.sub(\"(\\s)+\", \" \", text)\n",
        "    text = text.strip()\n",
        "    return text"
      ],
      "metadata": {
        "id": "5ckqhCnEZeTn"
      },
      "execution_count": 30,
      "outputs": []
    },
    {
      "cell_type": "markdown",
      "source": [
        "**Welcome to Spark**\n",
        "\n",
        "I saw the process of post tagging is too time-consuming and the python wrapper implemented by Parsivar is not appropriate to feed into user-defined function because it uses pointers that cannot be pickled at spark runtime process.\n",
        "\n",
        "\n",
        "**First We need to fix environment variables**\n",
        "\n"
      ],
      "metadata": {
        "id": "wGbkSeolwu6P"
      }
    },
    {
      "cell_type": "code",
      "source": [
        "import os\n",
        "os.environ[\"JAVA_HOME\"] = \"/usr/lib/jvm/java-8-openjdk-amd64\"\n",
        "os.environ[\"SPARK_HOME\"] = \"/content/spark-3.3.1-bin-hadoop3\""
      ],
      "metadata": {
        "id": "F4fKNb66w3Dl"
      },
      "execution_count": 31,
      "outputs": []
    },
    {
      "cell_type": "markdown",
      "source": [
        "**Then we use Findspark to find spark executable**"
      ],
      "metadata": {
        "id": "ecn9rEEow9oK"
      }
    },
    {
      "cell_type": "code",
      "source": [
        "import findspark\n"
      ],
      "metadata": {
        "id": "POoc3BjNxN_B"
      },
      "execution_count": 32,
      "outputs": []
    },
    {
      "cell_type": "code",
      "source": [
        "!tar xf /content/spark-3.3.1-bin-hadoop3.tgz"
      ],
      "metadata": {
        "id": "gzdIe4C3_QrI"
      },
      "execution_count": 33,
      "outputs": []
    },
    {
      "cell_type": "code",
      "source": [
        "findspark.init()\n",
        "findspark.find()\n"
      ],
      "metadata": {
        "colab": {
          "base_uri": "https://localhost:8080/",
          "height": 36
        },
        "id": "34KDjZSuxAxg",
        "outputId": "bd5cf06e-4762-4477-d106-89f4d6af4052"
      },
      "execution_count": 34,
      "outputs": [
        {
          "output_type": "execute_result",
          "data": {
            "text/plain": [
              "'/content/spark-3.3.1-bin-hadoop3'"
            ],
            "application/vnd.google.colaboratory.intrinsic+json": {
              "type": "string"
            }
          },
          "metadata": {},
          "execution_count": 34
        }
      ]
    },
    {
      "cell_type": "markdown",
      "source": [
        "**Create Spark Session**"
      ],
      "metadata": {
        "id": "yD52Y2T-_zlc"
      }
    },
    {
      "cell_type": "code",
      "source": [
        "from pyspark.sql import SparkSession\n",
        "\n",
        "spark = SparkSession.builder\\\n",
        "        .master(\"local\")\\\n",
        "        .appName(\"Colab\")\\\n",
        "        .config('spark.ui.port', '4050')\\\n",
        "        .getOrCreate()"
      ],
      "metadata": {
        "id": "vc61H7vf_vnw"
      },
      "execution_count": 35,
      "outputs": []
    },
    {
      "cell_type": "markdown",
      "source": [
        "**Import Spark Context and import other necessary utils**"
      ],
      "metadata": {
        "id": "2z2XvYs6_4i9"
      }
    },
    {
      "cell_type": "code",
      "source": [
        "from pyspark.sql import SQLContext\n",
        "from pyspark import SparkContext\n",
        "from pyspark.sql.functions import udf, col"
      ],
      "metadata": {
        "id": "1npaxOoh_-yO"
      },
      "execution_count": 36,
      "outputs": []
    },
    {
      "cell_type": "markdown",
      "source": [
        "**Instanciate sqlContext and create spark dataframe from our news-data pandas dataframe**"
      ],
      "metadata": {
        "id": "OqWaNAihAE3y"
      }
    },
    {
      "cell_type": "code",
      "source": [
        "sqlContext = SQLContext(spark)\n",
        "dataset_pdf = sqlContext.createDataFrame(dataset_pd)"
      ],
      "metadata": {
        "colab": {
          "base_uri": "https://localhost:8080/"
        },
        "id": "8OaD_hFpAOnA",
        "outputId": "1c1eb305-2314-4618-dd3c-9d31f947a441"
      },
      "execution_count": 37,
      "outputs": [
        {
          "output_type": "stream",
          "name": "stderr",
          "text": [
            "/content/spark-3.3.1-bin-hadoop3/python/pyspark/sql/context.py:114: FutureWarning: Deprecated in 3.0.0. Use SparkSession.builder.getOrCreate() instead.\n",
            "  FutureWarning,\n"
          ]
        }
      ]
    },
    {
      "cell_type": "markdown",
      "source": [
        "**Print Spark Dataframe Schema**"
      ],
      "metadata": {
        "id": "bh7ViuOUAhsz"
      }
    },
    {
      "cell_type": "code",
      "source": [
        "dataset_pdf.printSchema()"
      ],
      "metadata": {
        "colab": {
          "base_uri": "https://localhost:8080/"
        },
        "id": "x5cqu8Q7Ai9_",
        "outputId": "6e5982ba-6a69-4063-935d-94c62948b957"
      },
      "execution_count": 38,
      "outputs": [
        {
          "output_type": "stream",
          "name": "stdout",
          "text": [
            "root\n",
            " |-- text: string (nullable = true)\n",
            " |-- tokens: array (nullable = true)\n",
            " |    |-- element: string (containsNull = true)\n",
            "\n"
          ]
        }
      ]
    },
    {
      "cell_type": "markdown",
      "source": [
        "**Tokenization Using Parsivar and Spark**"
      ],
      "metadata": {
        "id": "u8k9RQTZAtqo"
      }
    },
    {
      "cell_type": "code",
      "source": [
        "from parsivar import Tokenizer, FindStems, FindChunks, POSTagger\n",
        "pars_tokenizer = Tokenizer()"
      ],
      "metadata": {
        "id": "Kf0E-11vEMy5"
      },
      "execution_count": 39,
      "outputs": []
    },
    {
      "cell_type": "code",
      "source": [
        "from pyspark.sql.types import ArrayType, StringType"
      ],
      "metadata": {
        "id": "sh5wxybDAvNs"
      },
      "execution_count": 40,
      "outputs": []
    },
    {
      "cell_type": "code",
      "source": [
        "token_udf = udf(\n",
        "    lambda x: pars_tokenizer.tokenize_words(x),\n",
        "    StringType()) "
      ],
      "metadata": {
        "id": "AKxWQiQYB13M"
      },
      "execution_count": 41,
      "outputs": []
    },
    {
      "cell_type": "code",
      "source": [
        "dataset_pdf = dataset_pdf.withColumn(\"ParsTokens\", token_udf(dataset_pdf.text))"
      ],
      "metadata": {
        "id": "FyYtm0W1ChRA"
      },
      "execution_count": 42,
      "outputs": []
    },
    {
      "cell_type": "markdown",
      "source": [
        "**Convert pyspark dataframe to pandas dataframe**"
      ],
      "metadata": {
        "id": "REl59hKcDBuZ"
      }
    },
    {
      "cell_type": "code",
      "source": [
        "dataset_pd = dataset_pdf.toPandas()"
      ],
      "metadata": {
        "id": "qLHRdy9oC9zr"
      },
      "execution_count": 43,
      "outputs": []
    },
    {
      "cell_type": "markdown",
      "source": [
        "**store result into masnavi_df.csv file**"
      ],
      "metadata": {
        "id": "8AjWMCD1EkSN"
      }
    },
    {
      "cell_type": "code",
      "source": [
        "dataset_pd.to_csv('dataset_pd.csv',encoding='utf-8')"
      ],
      "metadata": {
        "id": "xUIl_G25EXi8"
      },
      "execution_count": 44,
      "outputs": []
    },
    {
      "cell_type": "markdown",
      "source": [
        "\n",
        "\n",
        "**Stanza Library and Spark**\n"
      ],
      "metadata": {
        "id": "V56fShjPFOk1"
      }
    },
    {
      "cell_type": "code",
      "source": [
        "import stanza\n",
        "stanza.download('fa')"
      ],
      "metadata": {
        "colab": {
          "base_uri": "https://localhost:8080/",
          "height": 116,
          "referenced_widgets": [
            "87bcc5155c53467a85abfcaee5c2fc16",
            "00f27a3339c5488ab822382e3a17586f",
            "8af30c16d02541f98f2c83774f81f9bc",
            "8f31fd308832463f894e54ab436621a0",
            "0ac1b8d1f5e14ab09cf22493508de022",
            "b6bbf4ec8ffb471aac4577dcc4d7beac",
            "1dd6000adcfd4dd593517f7806bb5688",
            "e070a28e4ddb47c6926684d84eb3ac69",
            "cc73f369d5974689bbde64b03595bcae",
            "9498f336dc1945758d3ee0af4345c1e1",
            "607ca507e7014648bc7070d849cc92fc",
            "18871cc6f2e6479a90b5b77b627a7b59",
            "63f83956510145ae95fba357e1628d88",
            "37c9de9521424288bea31e462a51a590",
            "efe8593d4a474950aec80c613b960d59",
            "f780614f068e49f9bbed56ddee101311",
            "71f579a59cda46dbad2e712f253de31b",
            "91777cada497441783263897b0713824",
            "9e558c831da84446a9e1d5fd5e3345bf",
            "abdbca11624f46d7bffcc0d854e65fcc",
            "80c8d343e7dc494e8252bc675ea4783b",
            "e7011e648d7a46bd8e5532a78c96242d"
          ]
        },
        "id": "3SIxD5sqICIo",
        "outputId": "5bacdcfd-e30c-4ee7-b7ed-0772cd735cfc"
      },
      "execution_count": 45,
      "outputs": [
        {
          "output_type": "display_data",
          "data": {
            "text/plain": [
              "Downloading https://raw.githubusercontent.com/stanfordnlp/stanza-resources/main/resources_1.4.1.json:   0%|   …"
            ],
            "application/vnd.jupyter.widget-view+json": {
              "version_major": 2,
              "version_minor": 0,
              "model_id": "87bcc5155c53467a85abfcaee5c2fc16"
            }
          },
          "metadata": {}
        },
        {
          "output_type": "stream",
          "name": "stderr",
          "text": [
            "INFO:stanza:Downloading default packages for language: fa (Persian) ...\n"
          ]
        },
        {
          "output_type": "display_data",
          "data": {
            "text/plain": [
              "Downloading https://huggingface.co/stanfordnlp/stanza-fa/resolve/v1.4.1/models/default.zip:   0%|          | 0…"
            ],
            "application/vnd.jupyter.widget-view+json": {
              "version_major": 2,
              "version_minor": 0,
              "model_id": "18871cc6f2e6479a90b5b77b627a7b59"
            }
          },
          "metadata": {}
        },
        {
          "output_type": "stream",
          "name": "stderr",
          "text": [
            "INFO:stanza:Finished downloading models and saved to /root/stanza_resources.\n"
          ]
        }
      ]
    },
    {
      "cell_type": "markdown",
      "source": [
        "**Create Processing Pipline**"
      ],
      "metadata": {
        "id": "Cn8hBXZEIL-Z"
      }
    },
    {
      "cell_type": "code",
      "source": [
        "nlp = stanza.Pipeline(lang='fa', processors='tokenize,mwt,pos')"
      ],
      "metadata": {
        "colab": {
          "base_uri": "https://localhost:8080/",
          "height": 329,
          "referenced_widgets": [
            "bc40d6ec06d643cc9c2d2bad0742db0c",
            "b4302b1e6ea3467bbd3de5c846a4a615",
            "6188fdb47cc942c0bca8b0c2969b99a2",
            "9f497f01370140b4b7e7ac83f5f531e6",
            "fc7374a1afbe4058864ec5efe51d39f4",
            "caf13ad172364f1abd8dc24ffaa75e41",
            "431c783d60874d2db898aab0ad43b172",
            "538468e647404a2fa2afcb8c819c92c0",
            "4d79e008c618470d8a8719fa91c0a773",
            "5c26ead50ca24b17b0befe5bfca97cb6",
            "c6c8201a713c4bc08fda75841f1fa8b8"
          ]
        },
        "id": "VoROwbD1IOIq",
        "outputId": "04149346-6002-4be2-9dff-dfb96de64800"
      },
      "execution_count": 46,
      "outputs": [
        {
          "output_type": "stream",
          "name": "stderr",
          "text": [
            "INFO:stanza:Checking for updates to resources.json in case models have been updated.  Note: this behavior can be turned off with download_method=None or download_method=DownloadMethod.REUSE_RESOURCES\n"
          ]
        },
        {
          "output_type": "display_data",
          "data": {
            "text/plain": [
              "Downloading https://raw.githubusercontent.com/stanfordnlp/stanza-resources/main/resources_1.4.1.json:   0%|   …"
            ],
            "application/vnd.jupyter.widget-view+json": {
              "version_major": 2,
              "version_minor": 0,
              "model_id": "bc40d6ec06d643cc9c2d2bad0742db0c"
            }
          },
          "metadata": {}
        },
        {
          "output_type": "stream",
          "name": "stderr",
          "text": [
            "INFO:stanza:Loading these models for language: fa (Persian):\n",
            "=======================\n",
            "| Processor | Package |\n",
            "-----------------------\n",
            "| tokenize  | perdt   |\n",
            "| mwt       | perdt   |\n",
            "| pos       | perdt   |\n",
            "=======================\n",
            "\n",
            "INFO:stanza:Use device: cpu\n",
            "INFO:stanza:Loading: tokenize\n",
            "INFO:stanza:Loading: mwt\n",
            "INFO:stanza:Loading: pos\n",
            "INFO:stanza:Done loading processors!\n"
          ]
        }
      ]
    },
    {
      "cell_type": "markdown",
      "source": [
        "**Execute Stanford model on our new_Data using Pyspark**\n",
        "hopefully to reduce it\n",
        "\n"
      ],
      "metadata": {
        "id": "USh_RQgXIS_K"
      }
    },
    {
      "cell_type": "markdown",
      "source": [
        "**Extract Pos tags without cleaning**"
      ],
      "metadata": {
        "id": "MAmmi4lAIkuh"
      }
    },
    {
      "cell_type": "code",
      "source": [
        "dataset_pdf.show()"
      ],
      "metadata": {
        "colab": {
          "base_uri": "https://localhost:8080/"
        },
        "id": "LHOxtRfqxOdI",
        "outputId": "13ca7602-59bd-4df4-dcc8-f20c6ea4e939"
      },
      "execution_count": 47,
      "outputs": [
        {
          "output_type": "stream",
          "name": "stdout",
          "text": [
            "+--------------------+--------------------+--------------------+\n",
            "|                text|              tokens|          ParsTokens|\n",
            "+--------------------+--------------------+--------------------+\n",
            "|پنتاگون در آستانه...|[پنتاگون, در, آست...|[پنتاگون, در, آست...|\n",
            "|هشدار رئیس‌جمهور ...|[هشدار, رئیس‌جمهو...|[هشدار, رئیس‌جمهو...|\n",
            "|در گفت و گو با را...|[در, گفت, و, گو, ...|[در, گفت, و, گو, ...|\n",
            "|آمریکا برای حمله ...|[آمریکا, برای, حم...|[آمریکا, برای, حم...|\n",
            "|مشاور اوباما: تجم...|[مشاور, اوباما:, ...|[مشاور, اوباما:, ...|\n",
            "| 'داعش' از سلیمان...|['داعش', از, سلیم...|['داعش', از, سلیم...|\n",
            "| دیدار اشتون با ر...|[دیدار, اشتون, با...|[دیدار, اشتون, با...|\n",
            "|ظرفیت اکولوژیکی ت...|[ظرفیت, اکولوژیکی...|[ظرفیت, اکولوژیکی...|\n",
            "|هشدار اوباما و مر...|[هشدار, اوباما, و...|[هشدار, اوباما, و...|\n",
            "|رونمایی از 3 تواف...|[رونمایی, از, 3, ...|[رونمایی, از, 3, ...|\n",
            "|نخست‌وزیر استرالی...|[نخست‌وزیر, استرا...|[نخست‌وزیر, استرا...|\n",
            "|بشار اسد: مبارزه ...|[بشار, اسد:, مبار...|[بشار, اسد:, مبار...|\n",
            "|جلسه 'الجولانی' ب...|[جلسه, 'الجولانی'...|[جلسه, 'الجولانی'...|\n",
            "|جاسوسی مرغ دریایی...|[جاسوسی, مرغ, دری...|[جاسوسی, مرغ, دری...|\n",
            "|واشنگتن: کری راهی...|[واشنگتن:, کری, ر...|[واشنگتن:, کری, ر...|\n",
            "|در دیدار مقامات ش...|[در, دیدار, مقاما...|[در, دیدار, مقاما...|\n",
            "|اسرائیل در آستانه...|[اسرائیل, در, آست...|[اسرائیل, در, آست...|\n",
            "|معاون وزیر کشور: ...|[معاون, وزیر, کشو...|[معاون, وزیر, کشو...|\n",
            "|نیویورک‌تایمز: عر...|[نیویورک‌تایمز:, ...|[نیویورک‌تایمز:, ...|\n",
            "|در دیدار با رئیس ...|[در, دیدار, با, ر...|[در, دیدار, با, ر...|\n",
            "+--------------------+--------------------+--------------------+\n",
            "only showing top 20 rows\n",
            "\n"
          ]
        }
      ]
    },
    {
      "cell_type": "code",
      "source": [
        "!pip install swifter"
      ],
      "metadata": {
        "id": "fwVt6QdD_qx0",
        "colab": {
          "base_uri": "https://localhost:8080/",
          "height": 207
        },
        "outputId": "fbc28e12-d464-4dad-d41c-cf811fa5b27a"
      },
      "execution_count": 48,
      "outputs": [
        {
          "output_type": "stream",
          "name": "stdout",
          "text": [
            "Installing collected packages: jedi, psutil, swifter\n",
            "  Attempting uninstall: psutil\n",
            "    Found existing installation: psutil 5.4.8\n",
            "    Uninstalling psutil-5.4.8:\n",
            "      Successfully uninstalled psutil-5.4.8\n",
            "Successfully installed jedi-0.18.1 psutil-5.9.4 swifter-1.3.4\n"
          ]
        },
        {
          "output_type": "display_data",
          "data": {
            "application/vnd.colab-display-data+json": {
              "pip_warning": {
                "packages": [
                  "psutil"
                ]
              }
            }
          },
          "metadata": {}
        }
      ]
    },
    {
      "cell_type": "code",
      "source": [
        "import swifter"
      ],
      "metadata": {
        "id": "HNqh2T8m_1_Z"
      },
      "execution_count": 49,
      "outputs": []
    },
    {
      "cell_type": "code",
      "source": [
        "from pyspark.sql.functions import col"
      ],
      "metadata": {
        "id": "o_cN1wVB6-vQ"
      },
      "execution_count": 69,
      "outputs": []
    },
    {
      "cell_type": "code",
      "source": [
        "from parsivar import POSTagger\n",
        "my_tagger = POSTagger(tagging_model=\"wapiti\")"
      ],
      "metadata": {
        "id": "ceuQbK6s889y"
      },
      "execution_count": 72,
      "outputs": []
    },
    {
      "cell_type": "code",
      "source": [
        "parsivar_udf = udf(\n",
        "    lambda tokens: my_tagger.parse(tokens),\n",
        "    StringType()) "
      ],
      "metadata": {
        "id": "lyY8hMDf9YsA"
      },
      "execution_count": 73,
      "outputs": []
    },
    {
      "cell_type": "code",
      "source": [
        "nlp(\"پنتاگون بودجه 5 میلیاردی\")"
      ],
      "metadata": {
        "id": "Vp9_Qs-a0JTq",
        "colab": {
          "base_uri": "https://localhost:8080/"
        },
        "outputId": "dd338932-1a1b-4f9b-d34d-49186642a4a0"
      },
      "execution_count": 107,
      "outputs": [
        {
          "output_type": "execute_result",
          "data": {
            "text/plain": [
              "[\n",
              "  [\n",
              "    {\n",
              "      \"id\": 1,\n",
              "      \"text\": \"پنتاگون\",\n",
              "      \"upos\": \"PROPN\",\n",
              "      \"xpos\": \"N_IANM\",\n",
              "      \"feats\": \"Number=Sing\",\n",
              "      \"start_char\": 0,\n",
              "      \"end_char\": 7\n",
              "    },\n",
              "    {\n",
              "      \"id\": 2,\n",
              "      \"text\": \"بودجه\",\n",
              "      \"upos\": \"NOUN\",\n",
              "      \"xpos\": \"N_IANM\",\n",
              "      \"feats\": \"Number=Sing\",\n",
              "      \"start_char\": 8,\n",
              "      \"end_char\": 13\n",
              "    },\n",
              "    {\n",
              "      \"id\": 3,\n",
              "      \"text\": \"5\",\n",
              "      \"upos\": \"NUM\",\n",
              "      \"xpos\": \"PRENUM\",\n",
              "      \"start_char\": 14,\n",
              "      \"end_char\": 15\n",
              "    },\n",
              "    {\n",
              "      \"id\": 4,\n",
              "      \"text\": \"میلیاردی\",\n",
              "      \"upos\": \"ADJ\",\n",
              "      \"xpos\": \"ADJ_AJP\",\n",
              "      \"start_char\": 16,\n",
              "      \"end_char\": 24\n",
              "    }\n",
              "  ]\n",
              "]"
            ]
          },
          "metadata": {},
          "execution_count": 107
        }
      ]
    },
    {
      "cell_type": "code",
      "source": [
        "#unfortunately in does not work with niether stanza nor parsivar\n",
        "#pos_tags_without_cleaning = dataset_pdf.rdd.mapPartitions(parsivar_udf).toDF()"
      ],
      "metadata": {
        "id": "QnP3XXqSyGqo"
      },
      "execution_count": 75,
      "outputs": []
    },
    {
      "cell_type": "code",
      "source": [
        "#reduce data set to half for now "
      ],
      "metadata": {
        "id": "hZRkp_RXFXGP"
      },
      "execution_count": null,
      "outputs": []
    },
    {
      "cell_type": "code",
      "source": [
        "dataset_pd2 = dataset_pd[0:400]"
      ],
      "metadata": {
        "id": "bkXJg_PdFxmz"
      },
      "execution_count": 110,
      "outputs": []
    },
    {
      "cell_type": "code",
      "source": [
        "dataset_pd2.count"
      ],
      "metadata": {
        "id": "6oRREhdSG8Zu"
      },
      "execution_count": null,
      "outputs": []
    },
    {
      "cell_type": "code",
      "source": [
        "from tqdm import tqdm\n",
        "tqdm.pandas()\n",
        "pos_tags_without_cleaning = dataset_pd2['text'].progress_apply(lambda x: nlp(str(x)))"
      ],
      "metadata": {
        "colab": {
          "base_uri": "https://localhost:8080/"
        },
        "id": "VRxPNkMxD-Ow",
        "outputId": "0adc2bab-c528-44b5-8125-9b46c62db322"
      },
      "execution_count": 112,
      "outputs": [
        {
          "output_type": "stream",
          "name": "stderr",
          "text": [
            "100%|██████████| 400/400 [23:35<00:00,  3.54s/it]\n"
          ]
        }
      ]
    },
    {
      "cell_type": "markdown",
      "source": [
        "**Extract Pos tags with custom cleaning**\n",
        "\n",
        "> "
      ],
      "metadata": {
        "id": "n6oppyX2Lq56"
      }
    },
    {
      "cell_type": "code",
      "source": [
        "pos_tags_with_cleaning = dataset_pd2['text'].progress_apply(lambda x: nlp(clean_text(str(x))))"
      ],
      "metadata": {
        "colab": {
          "base_uri": "https://localhost:8080/"
        },
        "id": "m6NibhpTLyef",
        "outputId": "d1fb447c-d55f-4584-f9bd-839898951780"
      },
      "execution_count": 113,
      "outputs": [
        {
          "output_type": "stream",
          "name": "stderr",
          "text": [
            "100%|██████████| 400/400 [23:23<00:00,  3.51s/it]\n"
          ]
        }
      ]
    },
    {
      "cell_type": "markdown",
      "source": [
        "**Number of pos sentences**"
      ],
      "metadata": {
        "id": "WnZeB85EMZ3S"
      }
    },
    {
      "cell_type": "code",
      "source": [
        "len(pos_tags_with_cleaning)\n"
      ],
      "metadata": {
        "id": "9KLANKHNMbCl",
        "colab": {
          "base_uri": "https://localhost:8080/"
        },
        "outputId": "25cd5828-84ed-4356-9c19-054c62825d9d"
      },
      "execution_count": 114,
      "outputs": [
        {
          "output_type": "execute_result",
          "data": {
            "text/plain": [
              "400"
            ]
          },
          "metadata": {},
          "execution_count": 114
        }
      ]
    },
    {
      "cell_type": "markdown",
      "source": [
        "**PosTag Class**\n",
        "\n",
        "\n",
        "the following class keeps tags data about each word in corpus\n",
        "\n",
        "\n",
        "\n"
      ],
      "metadata": {
        "id": "zIesKUMkMdQ-"
      }
    },
    {
      "cell_type": "code",
      "source": [
        "class PosTag:\n",
        "  def __init__(self, id, text, upos, xpos, feats, start_char, end_char):\n",
        "    self.id = id\n",
        "    self.text = text\n",
        "    self.upos = upos\n",
        "    self.xpos = xpos\n",
        "    self.feats = {x.split(\"=\")[0]:x.split(\"=\")[1] for x in [x for x in feats.split(\"|\")]} if feats else {}\n",
        "    self.start_char = start_char\n",
        "    self.end_char = end_char\n",
        "\n",
        "  def to_dict(self):\n",
        "    return {\n",
        "        'id': self.id,\n",
        "        'text': self.text,\n",
        "        'upos': self.upos,\n",
        "        'xpos': self.xpos,\n",
        "        'feats': self.feats,\n",
        "        'start_char': self.start_char,\n",
        "        'end_char': self.end_char\n",
        "    }"
      ],
      "metadata": {
        "id": "yQBlgvavODEu"
      },
      "execution_count": 115,
      "outputs": []
    },
    {
      "cell_type": "markdown",
      "source": [
        "**Create News_tags containing PosTag class objects**"
      ],
      "metadata": {
        "id": "wbM90KmQSFZ3"
      }
    },
    {
      "cell_type": "code",
      "source": [
        "class NewsPosBasedAnalyze:\n",
        "  def __init__(self, pos_tags):\n",
        "    self.news_tags = list()\n",
        "    for i, tags in enumerate(pos_tags):\n",
        "      try:\n",
        "        sent = tags.sentences[0]\n",
        "        for word in sent.words:\n",
        "          self.news_tags.append(PosTag(\n",
        "              i,\n",
        "              word.text, \n",
        "              word.upos, \n",
        "              word.xpos, \n",
        "              word.feats, \n",
        "              word.start_char, \n",
        "              word.end_char))\n",
        "      except:\n",
        "        pass\n",
        "    self.news_pos_df = pd.DataFrame.from_records([t.to_dict() for t in self.news_tags])\n",
        "\n",
        "  def common_adjectives(self, count=50):\n",
        "    return nltk.FreqDist(self.news_pos_df[self.news_pos_df[\"upos\"]==\"ADJ\"][\"text\"]).most_common(count)\n",
        "\n",
        "  def common_nouns(self, count=50):\n",
        "    return nltk.FreqDist(self.news_pos_df[self.news_pos_df[\"upos\"]==\"NOUN\"][\"text\"]).most_common(50)\n",
        "\n",
        "  def common_verbs(self, count=50):\n",
        "    return nltk.FreqDist(self.news_pos_df[self.news_pos_df[\"upos\"]==\"VERB\"][\"text\"]).most_common(50)\n",
        "\n",
        "  def common_SUBR(self):\n",
        "    return nltk.FreqDist(uncleaned_analyzer.news_pos_df[uncleaned_analyzer.news_pos_df[\"xpos\"]=='SUBR']['text']).most_common(9)"
      ],
      "metadata": {
        "id": "WW3n18R_SCYO"
      },
      "execution_count": 117,
      "outputs": []
    },
    {
      "cell_type": "code",
      "source": [
        "analyzer = NewsPosBasedAnalyze(pos_tags=pos_tags_with_cleaning)"
      ],
      "metadata": {
        "id": "eKxYh_oaS9X5"
      },
      "execution_count": 118,
      "outputs": []
    },
    {
      "cell_type": "markdown",
      "source": [
        "Most Common Adjectives in our dataset"
      ],
      "metadata": {
        "id": "J24bVyXnTNaX"
      }
    },
    {
      "cell_type": "code",
      "source": [
        "analyzer.common_adjectives()"
      ],
      "metadata": {
        "colab": {
          "base_uri": "https://localhost:8080/"
        },
        "id": "vN5Vu6NHTLao",
        "outputId": "835fe33b-f675-49c7-81cf-e41b461f9064"
      },
      "execution_count": 119,
      "outputs": [
        {
          "output_type": "execute_result",
          "data": {
            "text/plain": [
              "[('نظامی', 434),\n",
              " ('سیاسی', 219),\n",
              " ('اقتصادی', 177),\n",
              " ('آمریکایی', 165),\n",
              " ('امنیتی', 136),\n",
              " ('خارجی', 120),\n",
              " ('هسته', 119),\n",
              " ('هوایی', 110),\n",
              " ('اصلی', 107),\n",
              " ('وارد', 104),\n",
              " ('ایرانی', 100),\n",
              " ('خواستار', 98),\n",
              " ('مشترک', 89),\n",
              " ('برگزار', 87),\n",
              " ('شبه', 85),\n",
              " ('گسترده', 80),\n",
              " ('مهم', 74),\n",
              " ('مطرح', 73),\n",
              " ('خارج', 71),\n",
              " ('جهانی', 67),\n",
              " ('داخلی', 66),\n",
              " ('جاری', 65),\n",
              " ('مالی', 65),\n",
              " ('کشته', 64),\n",
              " ('اروپایی', 62),\n",
              " ('تسلیحاتی', 61),\n",
              " ('شامل', 60),\n",
              " ('احتمالی', 58),\n",
              " ('زیادی', 58),\n",
              " ('جدی', 57),\n",
              " ('موجب', 56),\n",
              " ('مربوط', 55),\n",
              " ('فرهنگی', 55),\n",
              " ('منتشر', 55),\n",
              " ('ارشد', 52),\n",
              " ('میلادی', 51),\n",
              " ('مبنی', 51),\n",
              " ('رسمی', 50),\n",
              " ('مخدر', 50),\n",
              " ('خبری', 49),\n",
              " ('آمیز', 49),\n",
              " ('مسلح', 49),\n",
              " ('غربی', 49),\n",
              " ('غنی', 49),\n",
              " ('جاسوسی', 48),\n",
              " ('فراهم', 48),\n",
              " ('جنگی', 47),\n",
              " ('آماده', 47),\n",
              " ('روسی', 47),\n",
              " ('دولتی', 46)]"
            ]
          },
          "metadata": {},
          "execution_count": 119
        }
      ]
    },
    {
      "cell_type": "markdown",
      "source": [
        "**Most Common Nouns in our dataset**"
      ],
      "metadata": {
        "id": "ZjXYkbNvT1gy"
      }
    },
    {
      "cell_type": "code",
      "source": [
        "analyzer.common_nouns()"
      ],
      "metadata": {
        "colab": {
          "base_uri": "https://localhost:8080/"
        },
        "id": "SR8sjROST5QG",
        "outputId": "33205fb4-3d02-42e2-ea4c-a0fe85e8ec72"
      },
      "execution_count": 120,
      "outputs": [
        {
          "output_type": "execute_result",
          "data": {
            "text/plain": [
              "[('رییس', 615),\n",
              " ('کشور', 572),\n",
              " ('گزارش', 508),\n",
              " ('منطقه', 460),\n",
              " ('وزیر', 443),\n",
              " ('قرار', 399),\n",
              " ('ادامه', 301),\n",
              " ('نیروهای', 298),\n",
              " ('جمهور', 272),\n",
              " ('تاکید', 271),\n",
              " ('دیدار', 261),\n",
              " ('دست', 250),\n",
              " ('اشاره', 250),\n",
              " ('کشورهای', 246),\n",
              " ('کمک', 232),\n",
              " ('همکاری', 231),\n",
              " ('جمهوری', 229),\n",
              " ('تحریم', 222),\n",
              " ('طرح', 220),\n",
              " ('توافق', 219),\n",
              " ('سفر', 212),\n",
              " ('برنامه', 211),\n",
              " ('حمله', 211),\n",
              " ('روابط', 206),\n",
              " ('حضور', 204),\n",
              " ('افزایش', 201),\n",
              " ('جنگ', 196),\n",
              " ('نظر', 192),\n",
              " ('مقامات', 182),\n",
              " ('حمایت', 182),\n",
              " ('مذاکرات', 178),\n",
              " ('سلاح', 174),\n",
              " ('اقدام', 171),\n",
              " ('نشست', 164),\n",
              " ('دولت', 158),\n",
              " ('هدف', 157),\n",
              " ('قدرت', 155),\n",
              " ('خصوص', 154),\n",
              " ('نقل', 150),\n",
              " ('ایجاد', 147),\n",
              " ('تلاش', 145),\n",
              " ('دلیل', 139),\n",
              " ('آغاز', 137),\n",
              " ('بحران', 135),\n",
              " ('پایان', 133),\n",
              " ('موضوع', 133),\n",
              " ('گروه', 131),\n",
              " ('کار', 128),\n",
              " ('مبارزه', 124),\n",
              " ('سیاست', 124)]"
            ]
          },
          "metadata": {},
          "execution_count": 120
        }
      ]
    },
    {
      "cell_type": "markdown",
      "source": [
        "**Most Common Verbs in our data**"
      ],
      "metadata": {
        "id": "sTfhxu6LUREK"
      }
    },
    {
      "cell_type": "code",
      "source": [
        "analyzer.common_verbs()"
      ],
      "metadata": {
        "colab": {
          "base_uri": "https://localhost:8080/"
        },
        "id": "VDcFgMjNUUJw",
        "outputId": "0a03049b-dc92-4c84-8582-ec776845aa79"
      },
      "execution_count": 121,
      "outputs": [
        {
          "output_type": "execute_result",
          "data": {
            "text/plain": [
              "[('نوشت', 82),\n",
              " ('رسد', 51),\n",
              " ('خواند', 37),\n",
              " ('داند', 26),\n",
              " ('نوشته', 25),\n",
              " ('بدهد', 22),\n",
              " ('نویسد', 21),\n",
              " ('افتاد', 20),\n",
              " ('بتوانند', 20),\n",
              " ('نکرد', 20),\n",
              " ('نمود', 20),\n",
              " ('کشته', 19),\n",
              " ('نشود', 19),\n",
              " ('گذاشت', 17),\n",
              " ('سازد', 16),\n",
              " ('زده', 13),\n",
              " ('پرداخته', 13),\n",
              " ('افزاید', 13),\n",
              " ('نداده', 13),\n",
              " ('رسیدند', 12),\n",
              " ('برسد', 11),\n",
              " ('خورد', 11),\n",
              " ('بگذارد', 11),\n",
              " ('آورند', 11),\n",
              " ('بزند', 10),\n",
              " ('دانیم', 10),\n",
              " ('ببرد', 10),\n",
              " ('رساند', 10),\n",
              " ('فرستاد', 9),\n",
              " ('نکردند', 9),\n",
              " ('افتاده', 9),\n",
              " ('انجامید', 9),\n",
              " ('خورده', 9),\n",
              " ('کشید', 8),\n",
              " ('گردید', 8),\n",
              " ('بپردازد', 8),\n",
              " ('نگرفته', 8),\n",
              " ('افتد', 7),\n",
              " ('پرداختند', 7),\n",
              " ('دانستند', 7),\n",
              " ('بخشد', 7),\n",
              " ('بزنند', 7),\n",
              " ('نمایند', 7),\n",
              " ('نرسید', 7),\n",
              " ('درآورده', 7),\n",
              " ('نداد', 7),\n",
              " ('پذیرفت', 7),\n",
              " ('میتواند', 7),\n",
              " ('بدهند', 6),\n",
              " ('پذیرد', 6)]"
            ]
          },
          "metadata": {},
          "execution_count": 121
        }
      ]
    },
    {
      "cell_type": "markdown",
      "source": [
        "**Initial class with uncleaned pos tagging**"
      ],
      "metadata": {
        "id": "-g_tBix1UvZP"
      }
    },
    {
      "cell_type": "code",
      "source": [
        "uncleaned_analyzer = NewsPosBasedAnalyze(pos_tags=pos_tags_without_cleaning)"
      ],
      "metadata": {
        "id": "FMeqGUW7Uxeu"
      },
      "execution_count": 122,
      "outputs": []
    },
    {
      "cell_type": "markdown",
      "source": [
        "**Get common SUBR**"
      ],
      "metadata": {
        "id": "jVfzJuQYVD4G"
      }
    },
    {
      "cell_type": "code",
      "source": [
        "uncleaned_analyzer.common_SUBR()\n"
      ],
      "metadata": {
        "colab": {
          "base_uri": "https://localhost:8080/"
        },
        "id": "4q5r5GD1VBnW",
        "outputId": "d4786ff8-2c5a-4b90-fea2-34b8d7ee94f5"
      },
      "execution_count": 123,
      "outputs": [
        {
          "output_type": "execute_result",
          "data": {
            "text/plain": [
              "[('كه', 246),\n",
              " ('که', 143),\n",
              " ('تا', 34),\n",
              " ('اگر', 21),\n",
              " ('زيرا', 7),\n",
              " ('چرا', 4),\n",
              " ('هرچند', 4),\n",
              " ('يعني', 3),\n",
              " ('زیرا', 1)]"
            ]
          },
          "metadata": {},
          "execution_count": 123
        }
      ]
    },
    {
      "cell_type": "markdown",
      "source": [
        "**Frequency Analysis**"
      ],
      "metadata": {
        "id": "jJPIkbQi7jJN"
      }
    },
    {
      "cell_type": "code",
      "source": [
        "from itertools import chain\n",
        "from collections import Counter"
      ],
      "metadata": {
        "id": "tTjNWR0h7krT"
      },
      "execution_count": 79,
      "outputs": []
    },
    {
      "cell_type": "markdown",
      "source": [
        "**Extract all words from first tokenizer**"
      ],
      "metadata": {
        "id": "_G30jqcb7vjH"
      }
    },
    {
      "cell_type": "code",
      "source": [
        "all_words = list(chain.from_iterable(dataset_pd.tokens))\n",
        "words_frequencies = nltk.FreqDist(all_words).most_common(100)\n"
      ],
      "metadata": {
        "id": "ZDiYGLV37xDj"
      },
      "execution_count": 80,
      "outputs": []
    },
    {
      "cell_type": "code",
      "source": [
        "all_words[0:10]"
      ],
      "metadata": {
        "id": "U6hKoVDu9N_E",
        "colab": {
          "base_uri": "https://localhost:8080/"
        },
        "outputId": "5eeca121-db5e-4bc4-954e-36c454ffce87"
      },
      "execution_count": 81,
      "outputs": [
        {
          "output_type": "execute_result",
          "data": {
            "text/plain": [
              "['پنتاگون',\n",
              " 'در',\n",
              " 'آستانه',\n",
              " 'تعطیل',\n",
              " 'دولت،',\n",
              " '۵',\n",
              " 'میلیارد',\n",
              " 'دلار',\n",
              " 'تجهیزات',\n",
              " 'نظامی']"
            ]
          },
          "metadata": {},
          "execution_count": 81
        }
      ]
    },
    {
      "cell_type": "code",
      "source": [
        "words_frequencies[0:10]"
      ],
      "metadata": {
        "colab": {
          "base_uri": "https://localhost:8080/"
        },
        "id": "5CSgHoZp9tmy",
        "outputId": "e0c327db-0ac4-4953-9ca0-736463fbf48e"
      },
      "execution_count": 82,
      "outputs": [
        {
          "output_type": "execute_result",
          "data": {
            "text/plain": [
              "[('و', 19091),\n",
              " ('در', 18471),\n",
              " ('به', 16171),\n",
              " ('از', 11718),\n",
              " ('را', 7660),\n",
              " ('با', 7321),\n",
              " ('است', 6005),\n",
              " ('اين', 5924),\n",
              " ('كه', 5816),\n",
              " ('ايران', 5706)]"
            ]
          },
          "metadata": {},
          "execution_count": 82
        }
      ]
    },
    {
      "cell_type": "code",
      "source": [
        "print ('%-16s' % 'Number of words', '%-16s' % len(all_words))\n",
        "print ('%-16s' % 'Number of unique words', '%-16s' % len(set(all_words)))\n",
        "avg=np.sum([len(word) for word in all_words])/len(all_words)\n",
        "print ('%-16s' % 'Average word length', '%-16s' % avg)\n",
        "print ('%-16s' % 'Longest word', '%-16s' % all_words[np.argmax([len(word) for word in all_words])])"
      ],
      "metadata": {
        "colab": {
          "base_uri": "https://localhost:8080/"
        },
        "id": "hHZS57888ZnM",
        "outputId": "ee337744-644c-48f3-8e5f-53ba48f23e7d"
      },
      "execution_count": 83,
      "outputs": [
        {
          "output_type": "stream",
          "name": "stdout",
          "text": [
            "Number of words  521109          \n",
            "Number of unique words 33230           \n",
            "Average word length 4.057452471555855\n",
            "Longest word     (آمریکا،انگلیس،فرانسه،روسیه،چین\n"
          ]
        }
      ]
    },
    {
      "cell_type": "markdown",
      "source": [
        "\n",
        "\n",
        "**Extract all words from Stanza tokenized pipeline**\n",
        "\n"
      ],
      "metadata": {
        "id": "iQ0bzVyc8fXx"
      }
    },
    {
      "cell_type": "code",
      "source": [
        "stanza_words = list(analyzer.news_pos_df[analyzer.news_pos_df['upos']=='NOUN']['text'])\n"
      ],
      "metadata": {
        "id": "KVsWePrE8j9G"
      },
      "execution_count": 124,
      "outputs": []
    },
    {
      "cell_type": "code",
      "source": [
        "stanza_words_frequencies = nltk.FreqDist(stanza_words).most_common(100)"
      ],
      "metadata": {
        "id": "tVqUeWW4VU_Z"
      },
      "execution_count": 125,
      "outputs": []
    },
    {
      "cell_type": "code",
      "source": [
        "stanza_words_frequencies[:10]"
      ],
      "metadata": {
        "colab": {
          "base_uri": "https://localhost:8080/"
        },
        "id": "O4wzFa5HVUxn",
        "outputId": "dddc1e41-0e28-4edb-992c-8b8f55b29c16"
      },
      "execution_count": 126,
      "outputs": [
        {
          "output_type": "execute_result",
          "data": {
            "text/plain": [
              "[('رییس', 615),\n",
              " ('کشور', 572),\n",
              " ('گزارش', 508),\n",
              " ('منطقه', 460),\n",
              " ('وزیر', 443),\n",
              " ('قرار', 399),\n",
              " ('ادامه', 301),\n",
              " ('نیروهای', 298),\n",
              " ('جمهور', 272),\n",
              " ('تاکید', 271)]"
            ]
          },
          "metadata": {},
          "execution_count": 126
        }
      ]
    },
    {
      "cell_type": "code",
      "source": [
        "print ('%-16s' % 'Number of words', '%-16s' % len(stanza_words))\n",
        "print ('%-16s' % 'Number of unique words', '%-16s' % len(set(stanza_words)))\n",
        "avg=np.sum([len(word) for word in stanza_words])/len(stanza_words)\n",
        "print ('%-16s' % 'Average word length', '%-16s' % avg)\n",
        "print ('%-16s' % 'Longest word', '%-16s' % stanza_words[np.argmax([len(word) for word in stanza_words])])"
      ],
      "metadata": {
        "colab": {
          "base_uri": "https://localhost:8080/"
        },
        "id": "pc4dubCXVboW",
        "outputId": "cae6fb9a-0e0b-4418-8ec8-4a7b8af6d45d"
      },
      "execution_count": 127,
      "outputs": [
        {
          "output_type": "stream",
          "name": "stdout",
          "text": [
            "Number of words  44716           \n",
            "Number of unique words 4693            \n",
            "Average word length 4.99680203953842\n",
            "Longest word     تهرانایرناوزیر  \n"
          ]
        }
      ]
    },
    {
      "cell_type": "markdown",
      "source": [
        "**TF/IDF Analysis Using First Tokenization Approach**"
      ],
      "metadata": {
        "id": "yXLUwIuA7FSn"
      }
    },
    {
      "cell_type": "code",
      "source": [
        "from sklearn.feature_extraction.text import TfidfVectorizer, CountVectorizer\n",
        "from sklearn.decomposition import NMF, LatentDirichletAllocation"
      ],
      "metadata": {
        "id": "9EvIyhC57IvP"
      },
      "execution_count": 84,
      "outputs": []
    },
    {
      "cell_type": "code",
      "source": [
        "tfidf_vectorizer = TfidfVectorizer(\n",
        "    max_df=0.95, min_df=2, max_features=10000\n",
        ")"
      ],
      "metadata": {
        "id": "ECn2SS-698ZZ"
      },
      "execution_count": 85,
      "outputs": []
    },
    {
      "cell_type": "code",
      "source": [
        "tfidf = tfidf_vectorizer.fit_transform(all_words)\n"
      ],
      "metadata": {
        "id": "juyJbR469_Q1"
      },
      "execution_count": 86,
      "outputs": []
    },
    {
      "cell_type": "code",
      "source": [
        "tf_vectorizer = CountVectorizer(\n",
        "    max_df=0.95, min_df=2, max_features=10000\n",
        ")"
      ],
      "metadata": {
        "id": "H-70eOs9-CmH"
      },
      "execution_count": 87,
      "outputs": []
    },
    {
      "cell_type": "code",
      "source": [
        "tf = tf_vectorizer.fit_transform(all_words)\n"
      ],
      "metadata": {
        "id": "4Flixd_y-FXT"
      },
      "execution_count": 88,
      "outputs": []
    },
    {
      "cell_type": "code",
      "source": [
        "nmf = NMF(\n",
        "    n_components=10,\n",
        "    random_state=1,\n",
        "    beta_loss=\"kullback-leibler\",\n",
        "    solver=\"mu\",\n",
        "    max_iter=1000,\n",
        "    alpha_W=0.1,\n",
        "    alpha_H=0.1,\n",
        "    l1_ratio=0.5,\n",
        ")"
      ],
      "metadata": {
        "id": "WE11BDiI-Qm1"
      },
      "execution_count": 89,
      "outputs": []
    },
    {
      "cell_type": "code",
      "source": [
        "W = nmf.fit_transform(tfidf)"
      ],
      "metadata": {
        "id": "hN8qV_dQ-Uv5"
      },
      "execution_count": 90,
      "outputs": []
    },
    {
      "cell_type": "code",
      "source": [
        "H = nmf.components_\n"
      ],
      "metadata": {
        "id": "ctPsxnhQFiTY"
      },
      "execution_count": 91,
      "outputs": []
    },
    {
      "cell_type": "code",
      "source": [
        "H.shape\n"
      ],
      "metadata": {
        "colab": {
          "base_uri": "https://localhost:8080/"
        },
        "id": "7ReOtgNRFoB4",
        "outputId": "86d25995-32f8-4c23-9c0e-c24709bb7cce"
      },
      "execution_count": 92,
      "outputs": [
        {
          "output_type": "execute_result",
          "data": {
            "text/plain": [
              "(10, 10000)"
            ]
          },
          "metadata": {},
          "execution_count": 92
        }
      ]
    },
    {
      "cell_type": "code",
      "source": [
        "tfidf_feature_names = tfidf_vectorizer.get_feature_names_out()\n"
      ],
      "metadata": {
        "id": "SGRBoajhFpmJ"
      },
      "execution_count": 93,
      "outputs": []
    },
    {
      "cell_type": "code",
      "source": [
        "tfidf_feature_names = [make_farsi_text(t) for t in tfidf_feature_names]\n"
      ],
      "metadata": {
        "id": "PA_gxY8lFw8K"
      },
      "execution_count": 94,
      "outputs": []
    },
    {
      "cell_type": "code",
      "source": [
        "plot_top_words(\n",
        "    nmf,\n",
        "    tfidf_feature_names,\n",
        "    10,\n",
        "    \"Topics in NMF model\",\n",
        ")"
      ],
      "metadata": {
        "colab": {
          "base_uri": "https://localhost:8080/",
          "height": 683
        },
        "id": "OHoHRmB1Fxac",
        "outputId": "6970e6be-305e-488f-dcdc-989d55f44ba9"
      },
      "execution_count": 95,
      "outputs": [
        {
          "output_type": "display_data",
          "data": {
            "text/plain": [
              "<Figure size 2160x1080 with 10 Axes>"
            ],
            "image/png": "[encoded data removed]"
          },
          "metadata": {
            "needs_background": "light"
          }
        }
      ]
    },
    {
      "cell_type": "code",
      "source": [
        "lda = LatentDirichletAllocation(\n",
        "    n_components=10,\n",
        "    max_iter=5,\n",
        "    learning_method=\"online\",\n",
        "    learning_offset=50.0,\n",
        "    random_state=0\n",
        ")"
      ],
      "metadata": {
        "id": "lO_9k2QtGEGq"
      },
      "execution_count": 96,
      "outputs": []
    },
    {
      "cell_type": "code",
      "source": [
        "lda.fit(tf)\n"
      ],
      "metadata": {
        "colab": {
          "base_uri": "https://localhost:8080/"
        },
        "id": "RCVnMk5lGFKN",
        "outputId": "d6112add-506e-4243-f889-03392c3b2130"
      },
      "execution_count": 97,
      "outputs": [
        {
          "output_type": "execute_result",
          "data": {
            "text/plain": [
              "LatentDirichletAllocation(learning_method='online', learning_offset=50.0,\n",
              "                          max_iter=5, random_state=0)"
            ]
          },
          "metadata": {},
          "execution_count": 97
        }
      ]
    },
    {
      "cell_type": "code",
      "source": [
        "tf_feature_names = tf_vectorizer.get_feature_names_out()"
      ],
      "metadata": {
        "id": "-mA9nJVNGHQZ"
      },
      "execution_count": 98,
      "outputs": []
    },
    {
      "cell_type": "code",
      "source": [
        "tf_feature_names[:10]"
      ],
      "metadata": {
        "colab": {
          "base_uri": "https://localhost:8080/"
        },
        "id": "SQ1G3pTV_sEN",
        "outputId": "8c2ffceb-f7c4-4e00-f8a6-ff097aff8237"
      },
      "execution_count": 99,
      "outputs": [
        {
          "output_type": "execute_result",
          "data": {
            "text/plain": [
              "array(['10', '100', '1000', '10درصد', '11', '110', '11ماهه', '12', '120',\n",
              "       '12000'], dtype=object)"
            ]
          },
          "metadata": {},
          "execution_count": 99
        }
      ]
    },
    {
      "cell_type": "code",
      "source": [
        "tf_feature_names2 = [make_farsi_text(t) for t in tf_feature_names]\n"
      ],
      "metadata": {
        "id": "GCn_uto8HhJY"
      },
      "execution_count": 103,
      "outputs": []
    },
    {
      "cell_type": "code",
      "source": [
        "top_words = 10\n"
      ],
      "metadata": {
        "id": "4PGw0hIAHixY"
      },
      "execution_count": 101,
      "outputs": []
    },
    {
      "cell_type": "code",
      "source": [
        "plot_top_words(lda, tf_feature_names2, top_words, \"Topics in LDA model\")\n"
      ],
      "metadata": {
        "colab": {
          "base_uri": "https://localhost:8080/",
          "height": 675
        },
        "id": "67K1_NGAHj75",
        "outputId": "88f1001a-129b-4ea4-aa94-6b6f06808724"
      },
      "execution_count": 104,
      "outputs": [
        {
          "output_type": "display_data",
          "data": {
            "text/plain": [
              "<Figure size 2160x1080 with 10 Axes>"
            ],
            "image/png": "[encoded data removed]"
          },
          "metadata": {
            "needs_background": "light"
          }
        }
      ]
    },
    {
      "cell_type": "markdown",
      "source": [
        "**TF/IDF Analysis Using Stanza Approach**"
      ],
      "metadata": {
        "id": "uB_IlxaXH9Xp"
      }
    },
    {
      "cell_type": "code",
      "source": [
        "from sklearn.feature_extraction.text import TfidfVectorizer, CountVectorizer\n",
        "from sklearn.decomposition import NMF, LatentDirichletAllocation\n",
        "import matplotlib.pyplot as plt\n",
        "tfidf_vectorizer = TfidfVectorizer(max_df=0.95, min_df=2, max_features=10000)\n",
        "tfidf = tfidf_vectorizer.fit_transform(stanza_words)\n",
        "tf_vectorizer = CountVectorizer(max_df=0.95, min_df=2, max_features=10000)\n",
        "tf = tf_vectorizer.fit_transform(stanza_words)\n",
        "nmf = NMF(\n",
        "    n_components=10,\n",
        "    random_state=1,\n",
        "    beta_loss=\"kullback-leibler\",\n",
        "    solver=\"mu\",\n",
        "    max_iter=1000,\n",
        "    alpha_W=0.1,\n",
        "    alpha_H=0.1,\n",
        "    l1_ratio=0.5,\n",
        ")"
      ],
      "metadata": {
        "id": "W9m8LyKrHlb2"
      },
      "execution_count": 128,
      "outputs": []
    },
    {
      "cell_type": "code",
      "source": [
        "W = nmf.fit_transform(tfidf)\n"
      ],
      "metadata": {
        "id": "iHaPB4JrWUhG"
      },
      "execution_count": 129,
      "outputs": []
    },
    {
      "cell_type": "code",
      "source": [
        "H = nmf.components_\n"
      ],
      "metadata": {
        "id": "3g8b_Yn9WXDM"
      },
      "execution_count": 130,
      "outputs": []
    },
    {
      "cell_type": "code",
      "source": [
        "H.shape\n"
      ],
      "metadata": {
        "colab": {
          "base_uri": "https://localhost:8080/"
        },
        "id": "TDj-uksGWZLz",
        "outputId": "b996af02-e1d2-4b30-cd30-7b8efc95a1fb"
      },
      "execution_count": 131,
      "outputs": [
        {
          "output_type": "execute_result",
          "data": {
            "text/plain": [
              "(10, 2636)"
            ]
          },
          "metadata": {},
          "execution_count": 131
        }
      ]
    },
    {
      "cell_type": "code",
      "source": [
        "tfidf_feature_names = tfidf_vectorizer.get_feature_names_out()\n"
      ],
      "metadata": {
        "id": "G4n-we0PWbpH"
      },
      "execution_count": 132,
      "outputs": []
    },
    {
      "cell_type": "code",
      "source": [
        "tfidf_feature_names = [make_farsi_text(t) for t in tfidf_feature_names]\n"
      ],
      "metadata": {
        "id": "dbnVqaZLWdTT"
      },
      "execution_count": 133,
      "outputs": []
    },
    {
      "cell_type": "code",
      "source": [
        "plot_top_words(\n",
        "    nmf,\n",
        "    tfidf_feature_names,\n",
        "    10,\n",
        "    \"Topics with NFM Using Stanza Model\",\n",
        ")\n"
      ],
      "metadata": {
        "colab": {
          "base_uri": "https://localhost:8080/",
          "height": 676
        },
        "id": "bI9zV5RRWhPd",
        "outputId": "860b4944-aedc-44c2-9857-e41ae17243f3"
      },
      "execution_count": 134,
      "outputs": [
        {
          "output_type": "display_data",
          "data": {
            "text/plain": [
              "<Figure size 2160x1080 with 10 Axes>"
            ],
            "image/png": "[encoded data removed]"
          },
          "metadata": {
            "needs_background": "light"
          }
        }
      ]
    },
    {
      "cell_type": "code",
      "source": [
        "lda = LatentDirichletAllocation(\n",
        "    n_components=10,\n",
        "    max_iter=5,\n",
        "    learning_method=\"online\",\n",
        "    learning_offset=50.0,\n",
        "    random_state=0\n",
        ")"
      ],
      "metadata": {
        "id": "GnJjEdE9Wk0y"
      },
      "execution_count": 135,
      "outputs": []
    },
    {
      "cell_type": "code",
      "source": [
        "lda.fit(tf)\n"
      ],
      "metadata": {
        "colab": {
          "base_uri": "https://localhost:8080/"
        },
        "id": "BJgUHzwNW5vl",
        "outputId": "f746d5a4-c751-43b8-9b95-4c56a6909517"
      },
      "execution_count": 136,
      "outputs": [
        {
          "output_type": "execute_result",
          "data": {
            "text/plain": [
              "LatentDirichletAllocation(learning_method='online', learning_offset=50.0,\n",
              "                          max_iter=5, random_state=0)"
            ]
          },
          "metadata": {},
          "execution_count": 136
        }
      ]
    },
    {
      "cell_type": "code",
      "source": [
        "tf_feature_names = tf_vectorizer.get_feature_names_out()\n"
      ],
      "metadata": {
        "id": "tYNaZuRsW63h"
      },
      "execution_count": 137,
      "outputs": []
    },
    {
      "cell_type": "code",
      "source": [
        "tf_feature_names = [make_farsi_text(t) for t in tf_feature_names]\n"
      ],
      "metadata": {
        "id": "ymPU-qSIW9Nw"
      },
      "execution_count": 138,
      "outputs": []
    },
    {
      "cell_type": "code",
      "source": [
        "top_words = 10\n"
      ],
      "metadata": {
        "id": "laB72yBzW_hh"
      },
      "execution_count": 139,
      "outputs": []
    },
    {
      "cell_type": "code",
      "source": [
        "plot_top_words(lda, tf_feature_names, top_words, \"Topics with LDA algorithm Using Stanza Model\")\n"
      ],
      "metadata": {
        "colab": {
          "base_uri": "https://localhost:8080/",
          "height": 676
        },
        "id": "506vaoR3XBO_",
        "outputId": "db44a523-f4ef-4fe7-f05d-ed3fc4dd0d95"
      },
      "execution_count": 140,
      "outputs": [
        {
          "output_type": "display_data",
          "data": {
            "text/plain": [
              "<Figure size 2160x1080 with 10 Axes>"
            ],
            "image/png": "[encoded data removed]"
          },
          "metadata": {
            "needs_background": "light"
          }
        }
      ]
    },
    {
      "cell_type": "code",
      "source": [],
      "metadata": {
        "id": "ca-x2PGLXFwy"
      },
      "execution_count": null,
      "outputs": []
    }
  ],
  "metadata": {
    "colab": {
      "collapsed_sections": [],
      "provenance": []
    },
    "kernelspec": {
      "display_name": "Python 3",
      "name": "python3"
    },
    "language_info": {
      "name": "python"
    },
    "widgets": {
      "application/vnd.jupyter.widget-state+json": {
        "87bcc5155c53467a85abfcaee5c2fc16": {
          "model_module": "@jupyter-widgets/controls",
          "model_name": "HBoxModel",
          "model_module_version": "1.5.0",
          "state": {
            "_dom_classes": [],
            "_model_module": "@jupyter-widgets/controls",
            "_model_module_version": "1.5.0",
            "_model_name": "HBoxModel",
            "_view_count": null,
            "_view_module": "@jupyter-widgets/controls",
            "_view_module_version": "1.5.0",
            "_view_name": "HBoxView",
            "box_style": "",
            "children": [
              "IPY_MODEL_00f27a3339c5488ab822382e3a17586f",
              "IPY_MODEL_8af30c16d02541f98f2c83774f81f9bc",
              "IPY_MODEL_8f31fd308832463f894e54ab436621a0"
            ],
            "layout": "IPY_MODEL_0ac1b8d1f5e14ab09cf22493508de022"
          }
        },
        "00f27a3339c5488ab822382e3a17586f": {
          "model_module": "@jupyter-widgets/controls",
          "model_name": "HTMLModel",
          "model_module_version": "1.5.0",
          "state": {
            "_dom_classes": [],
            "_model_module": "@jupyter-widgets/controls",
            "_model_module_version": "1.5.0",
            "_model_name": "HTMLModel",
            "_view_count": null,
            "_view_module": "@jupyter-widgets/controls",
            "_view_module_version": "1.5.0",
            "_view_name": "HTMLView",
            "description": "",
            "description_tooltip": null,
            "layout": "IPY_MODEL_b6bbf4ec8ffb471aac4577dcc4d7beac",
            "placeholder": "​",
            "style": "IPY_MODEL_1dd6000adcfd4dd593517f7806bb5688",
            "value": "Downloading https://raw.githubusercontent.com/stanfordnlp/stanza-resources/main/resources_1.4.1.json: "
          }
        },
        "8af30c16d02541f98f2c83774f81f9bc": {
          "model_module": "@jupyter-widgets/controls",
          "model_name": "FloatProgressModel",
          "model_module_version": "1.5.0",
          "state": {
            "_dom_classes": [],
            "_model_module": "@jupyter-widgets/controls",
            "_model_module_version": "1.5.0",
            "_model_name": "FloatProgressModel",
            "_view_count": null,
            "_view_module": "@jupyter-widgets/controls",
            "_view_module_version": "1.5.0",
            "_view_name": "ProgressView",
            "bar_style": "success",
            "description": "",
            "description_tooltip": null,
            "layout": "IPY_MODEL_e070a28e4ddb47c6926684d84eb3ac69",
            "max": 28918,
            "min": 0,
            "orientation": "horizontal",
            "style": "IPY_MODEL_cc73f369d5974689bbde64b03595bcae",
            "value": 28918
          }
        },
        "8f31fd308832463f894e54ab436621a0": {
          "model_module": "@jupyter-widgets/controls",
          "model_name": "HTMLModel",
          "model_module_version": "1.5.0",
          "state": {
            "_dom_classes": [],
            "_model_module": "@jupyter-widgets/controls",
            "_model_module_version": "1.5.0",
            "_model_name": "HTMLModel",
            "_view_count": null,
            "_view_module": "@jupyter-widgets/controls",
            "_view_module_version": "1.5.0",
            "_view_name": "HTMLView",
            "description": "",
            "description_tooltip": null,
            "layout": "IPY_MODEL_9498f336dc1945758d3ee0af4345c1e1",
            "placeholder": "​",
            "style": "IPY_MODEL_607ca507e7014648bc7070d849cc92fc",
            "value": " 193k/? [00:00&lt;00:00, 867kB/s]"
          }
        },
        "0ac1b8d1f5e14ab09cf22493508de022": {
          "model_module": "@jupyter-widgets/base",
          "model_name": "LayoutModel",
          "model_module_version": "1.2.0",
          "state": {
            "_model_module": "@jupyter-widgets/base",
            "_model_module_version": "1.2.0",
            "_model_name": "LayoutModel",
            "_view_count": null,
            "_view_module": "@jupyter-widgets/base",
            "_view_module_version": "1.2.0",
            "_view_name": "LayoutView",
            "align_content": null,
            "align_items": null,
            "align_self": null,
            "border": null,
            "bottom": null,
            "display": null,
            "flex": null,
            "flex_flow": null,
            "grid_area": null,
            "grid_auto_columns": null,
            "grid_auto_flow": null,
            "grid_auto_rows": null,
            "grid_column": null,
            "grid_gap": null,
            "grid_row": null,
            "grid_template_areas": null,
            "grid_template_columns": null,
            "grid_template_rows": null,
            "height": null,
            "justify_content": null,
            "justify_items": null,
            "left": null,
            "margin": null,
            "max_height": null,
            "max_width": null,
            "min_height": null,
            "min_width": null,
            "object_fit": null,
            "object_position": null,
            "order": null,
            "overflow": null,
            "overflow_x": null,
            "overflow_y": null,
            "padding": null,
            "right": null,
            "top": null,
            "visibility": null,
            "width": null
          }
        },
        "b6bbf4ec8ffb471aac4577dcc4d7beac": {
          "model_module": "@jupyter-widgets/base",
          "model_name": "LayoutModel",
          "model_module_version": "1.2.0",
          "state": {
            "_model_module": "@jupyter-widgets/base",
            "_model_module_version": "1.2.0",
            "_model_name": "LayoutModel",
            "_view_count": null,
            "_view_module": "@jupyter-widgets/base",
            "_view_module_version": "1.2.0",
            "_view_name": "LayoutView",
            "align_content": null,
            "align_items": null,
            "align_self": null,
            "border": null,
            "bottom": null,
            "display": null,
            "flex": null,
            "flex_flow": null,
            "grid_area": null,
            "grid_auto_columns": null,
            "grid_auto_flow": null,
            "grid_auto_rows": null,
            "grid_column": null,
            "grid_gap": null,
            "grid_row": null,
            "grid_template_areas": null,
            "grid_template_columns": null,
            "grid_template_rows": null,
            "height": null,
            "justify_content": null,
            "justify_items": null,
            "left": null,
            "margin": null,
            "max_height": null,
            "max_width": null,
            "min_height": null,
            "min_width": null,
            "object_fit": null,
            "object_position": null,
            "order": null,
            "overflow": null,
            "overflow_x": null,
            "overflow_y": null,
            "padding": null,
            "right": null,
            "top": null,
            "visibility": null,
            "width": null
          }
        },
        "1dd6000adcfd4dd593517f7806bb5688": {
          "model_module": "@jupyter-widgets/controls",
          "model_name": "DescriptionStyleModel",
          "model_module_version": "1.5.0",
          "state": {
            "_model_module": "@jupyter-widgets/controls",
            "_model_module_version": "1.5.0",
            "_model_name": "DescriptionStyleModel",
            "_view_count": null,
            "_view_module": "@jupyter-widgets/base",
            "_view_module_version": "1.2.0",
            "_view_name": "StyleView",
            "description_width": ""
          }
        },
        "e070a28e4ddb47c6926684d84eb3ac69": {
          "model_module": "@jupyter-widgets/base",
          "model_name": "LayoutModel",
          "model_module_version": "1.2.0",
          "state": {
            "_model_module": "@jupyter-widgets/base",
            "_model_module_version": "1.2.0",
            "_model_name": "LayoutModel",
            "_view_count": null,
            "_view_module": "@jupyter-widgets/base",
            "_view_module_version": "1.2.0",
            "_view_name": "LayoutView",
            "align_content": null,
            "align_items": null,
            "align_self": null,
            "border": null,
            "bottom": null,
            "display": null,
            "flex": null,
            "flex_flow": null,
            "grid_area": null,
            "grid_auto_columns": null,
            "grid_auto_flow": null,
            "grid_auto_rows": null,
            "grid_column": null,
            "grid_gap": null,
            "grid_row": null,
            "grid_template_areas": null,
            "grid_template_columns": null,
            "grid_template_rows": null,
            "height": null,
            "justify_content": null,
            "justify_items": null,
            "left": null,
            "margin": null,
            "max_height": null,
            "max_width": null,
            "min_height": null,
            "min_width": null,
            "object_fit": null,
            "object_position": null,
            "order": null,
            "overflow": null,
            "overflow_x": null,
            "overflow_y": null,
            "padding": null,
            "right": null,
            "top": null,
            "visibility": null,
            "width": null
          }
        },
        "cc73f369d5974689bbde64b03595bcae": {
          "model_module": "@jupyter-widgets/controls",
          "model_name": "ProgressStyleModel",
          "model_module_version": "1.5.0",
          "state": {
            "_model_module": "@jupyter-widgets/controls",
            "_model_module_version": "1.5.0",
            "_model_name": "ProgressStyleModel",
            "_view_count": null,
            "_view_module": "@jupyter-widgets/base",
            "_view_module_version": "1.2.0",
            "_view_name": "StyleView",
            "bar_color": null,
            "description_width": ""
          }
        },
        "9498f336dc1945758d3ee0af4345c1e1": {
          "model_module": "@jupyter-widgets/base",
          "model_name": "LayoutModel",
          "model_module_version": "1.2.0",
          "state": {
            "_model_module": "@jupyter-widgets/base",
            "_model_module_version": "1.2.0",
            "_model_name": "LayoutModel",
            "_view_count": null,
            "_view_module": "@jupyter-widgets/base",
            "_view_module_version": "1.2.0",
            "_view_name": "LayoutView",
            "align_content": null,
            "align_items": null,
            "align_self": null,
            "border": null,
            "bottom": null,
            "display": null,
            "flex": null,
            "flex_flow": null,
            "grid_area": null,
            "grid_auto_columns": null,
            "grid_auto_flow": null,
            "grid_auto_rows": null,
            "grid_column": null,
            "grid_gap": null,
            "grid_row": null,
            "grid_template_areas": null,
            "grid_template_columns": null,
            "grid_template_rows": null,
            "height": null,
            "justify_content": null,
            "justify_items": null,
            "left": null,
            "margin": null,
            "max_height": null,
            "max_width": null,
            "min_height": null,
            "min_width": null,
            "object_fit": null,
            "object_position": null,
            "order": null,
            "overflow": null,
            "overflow_x": null,
            "overflow_y": null,
            "padding": null,
            "right": null,
            "top": null,
            "visibility": null,
            "width": null
          }
        },
        "607ca507e7014648bc7070d849cc92fc": {
          "model_module": "@jupyter-widgets/controls",
          "model_name": "DescriptionStyleModel",
          "model_module_version": "1.5.0",
          "state": {
            "_model_module": "@jupyter-widgets/controls",
            "_model_module_version": "1.5.0",
            "_model_name": "DescriptionStyleModel",
            "_view_count": null,
            "_view_module": "@jupyter-widgets/base",
            "_view_module_version": "1.2.0",
            "_view_name": "StyleView",
            "description_width": ""
          }
        },
        "18871cc6f2e6479a90b5b77b627a7b59": {
          "model_module": "@jupyter-widgets/controls",
          "model_name": "HBoxModel",
          "model_module_version": "1.5.0",
          "state": {
            "_dom_classes": [],
            "_model_module": "@jupyter-widgets/controls",
            "_model_module_version": "1.5.0",
            "_model_name": "HBoxModel",
            "_view_count": null,
            "_view_module": "@jupyter-widgets/controls",
            "_view_module_version": "1.5.0",
            "_view_name": "HBoxView",
            "box_style": "",
            "children": [
              "IPY_MODEL_63f83956510145ae95fba357e1628d88",
              "IPY_MODEL_37c9de9521424288bea31e462a51a590",
              "IPY_MODEL_efe8593d4a474950aec80c613b960d59"
            ],
            "layout": "IPY_MODEL_f780614f068e49f9bbed56ddee101311"
          }
        },
        "63f83956510145ae95fba357e1628d88": {
          "model_module": "@jupyter-widgets/controls",
          "model_name": "HTMLModel",
          "model_module_version": "1.5.0",
          "state": {
            "_dom_classes": [],
            "_model_module": "@jupyter-widgets/controls",
            "_model_module_version": "1.5.0",
            "_model_name": "HTMLModel",
            "_view_count": null,
            "_view_module": "@jupyter-widgets/controls",
            "_view_module_version": "1.5.0",
            "_view_name": "HTMLView",
            "description": "",
            "description_tooltip": null,
            "layout": "IPY_MODEL_71f579a59cda46dbad2e712f253de31b",
            "placeholder": "​",
            "style": "IPY_MODEL_91777cada497441783263897b0713824",
            "value": "Downloading https://huggingface.co/stanfordnlp/stanza-fa/resolve/v1.4.1/models/default.zip: 100%"
          }
        },
        "37c9de9521424288bea31e462a51a590": {
          "model_module": "@jupyter-widgets/controls",
          "model_name": "FloatProgressModel",
          "model_module_version": "1.5.0",
          "state": {
            "_dom_classes": [],
            "_model_module": "@jupyter-widgets/controls",
            "_model_module_version": "1.5.0",
            "_model_name": "FloatProgressModel",
            "_view_count": null,
            "_view_module": "@jupyter-widgets/controls",
            "_view_module_version": "1.5.0",
            "_view_name": "ProgressView",
            "bar_style": "success",
            "description": "",
            "description_tooltip": null,
            "layout": "IPY_MODEL_9e558c831da84446a9e1d5fd5e3345bf",
            "max": 304880281,
            "min": 0,
            "orientation": "horizontal",
            "style": "IPY_MODEL_abdbca11624f46d7bffcc0d854e65fcc",
            "value": 304880281
          }
        },
        "efe8593d4a474950aec80c613b960d59": {
          "model_module": "@jupyter-widgets/controls",
          "model_name": "HTMLModel",
          "model_module_version": "1.5.0",
          "state": {
            "_dom_classes": [],
            "_model_module": "@jupyter-widgets/controls",
            "_model_module_version": "1.5.0",
            "_model_name": "HTMLModel",
            "_view_count": null,
            "_view_module": "@jupyter-widgets/controls",
            "_view_module_version": "1.5.0",
            "_view_name": "HTMLView",
            "description": "",
            "description_tooltip": null,
            "layout": "IPY_MODEL_80c8d343e7dc494e8252bc675ea4783b",
            "placeholder": "​",
            "style": "IPY_MODEL_e7011e648d7a46bd8e5532a78c96242d",
            "value": " 305M/305M [00:16&lt;00:00, 19.9MB/s]"
          }
        },
        "f780614f068e49f9bbed56ddee101311": {
          "model_module": "@jupyter-widgets/base",
          "model_name": "LayoutModel",
          "model_module_version": "1.2.0",
          "state": {
            "_model_module": "@jupyter-widgets/base",
            "_model_module_version": "1.2.0",
            "_model_name": "LayoutModel",
            "_view_count": null,
            "_view_module": "@jupyter-widgets/base",
            "_view_module_version": "1.2.0",
            "_view_name": "LayoutView",
            "align_content": null,
            "align_items": null,
            "align_self": null,
            "border": null,
            "bottom": null,
            "display": null,
            "flex": null,
            "flex_flow": null,
            "grid_area": null,
            "grid_auto_columns": null,
            "grid_auto_flow": null,
            "grid_auto_rows": null,
            "grid_column": null,
            "grid_gap": null,
            "grid_row": null,
            "grid_template_areas": null,
            "grid_template_columns": null,
            "grid_template_rows": null,
            "height": null,
            "justify_content": null,
            "justify_items": null,
            "left": null,
            "margin": null,
            "max_height": null,
            "max_width": null,
            "min_height": null,
            "min_width": null,
            "object_fit": null,
            "object_position": null,
            "order": null,
            "overflow": null,
            "overflow_x": null,
            "overflow_y": null,
            "padding": null,
            "right": null,
            "top": null,
            "visibility": null,
            "width": null
          }
        },
        "71f579a59cda46dbad2e712f253de31b": {
          "model_module": "@jupyter-widgets/base",
          "model_name": "LayoutModel",
          "model_module_version": "1.2.0",
          "state": {
            "_model_module": "@jupyter-widgets/base",
            "_model_module_version": "1.2.0",
            "_model_name": "LayoutModel",
            "_view_count": null,
            "_view_module": "@jupyter-widgets/base",
            "_view_module_version": "1.2.0",
            "_view_name": "LayoutView",
            "align_content": null,
            "align_items": null,
            "align_self": null,
            "border": null,
            "bottom": null,
            "display": null,
            "flex": null,
            "flex_flow": null,
            "grid_area": null,
            "grid_auto_columns": null,
            "grid_auto_flow": null,
            "grid_auto_rows": null,
            "grid_column": null,
            "grid_gap": null,
            "grid_row": null,
            "grid_template_areas": null,
            "grid_template_columns": null,
            "grid_template_rows": null,
            "height": null,
            "justify_content": null,
            "justify_items": null,
            "left": null,
            "margin": null,
            "max_height": null,
            "max_width": null,
            "min_height": null,
            "min_width": null,
            "object_fit": null,
            "object_position": null,
            "order": null,
            "overflow": null,
            "overflow_x": null,
            "overflow_y": null,
            "padding": null,
            "right": null,
            "top": null,
            "visibility": null,
            "width": null
          }
        },
        "91777cada497441783263897b0713824": {
          "model_module": "@jupyter-widgets/controls",
          "model_name": "DescriptionStyleModel",
          "model_module_version": "1.5.0",
          "state": {
            "_model_module": "@jupyter-widgets/controls",
            "_model_module_version": "1.5.0",
            "_model_name": "DescriptionStyleModel",
            "_view_count": null,
            "_view_module": "@jupyter-widgets/base",
            "_view_module_version": "1.2.0",
            "_view_name": "StyleView",
            "description_width": ""
          }
        },
        "9e558c831da84446a9e1d5fd5e3345bf": {
          "model_module": "@jupyter-widgets/base",
          "model_name": "LayoutModel",
          "model_module_version": "1.2.0",
          "state": {
            "_model_module": "@jupyter-widgets/base",
            "_model_module_version": "1.2.0",
            "_model_name": "LayoutModel",
            "_view_count": null,
            "_view_module": "@jupyter-widgets/base",
            "_view_module_version": "1.2.0",
            "_view_name": "LayoutView",
            "align_content": null,
            "align_items": null,
            "align_self": null,
            "border": null,
            "bottom": null,
            "display": null,
            "flex": null,
            "flex_flow": null,
            "grid_area": null,
            "grid_auto_columns": null,
            "grid_auto_flow": null,
            "grid_auto_rows": null,
            "grid_column": null,
            "grid_gap": null,
            "grid_row": null,
            "grid_template_areas": null,
            "grid_template_columns": null,
            "grid_template_rows": null,
            "height": null,
            "justify_content": null,
            "justify_items": null,
            "left": null,
            "margin": null,
            "max_height": null,
            "max_width": null,
            "min_height": null,
            "min_width": null,
            "object_fit": null,
            "object_position": null,
            "order": null,
            "overflow": null,
            "overflow_x": null,
            "overflow_y": null,
            "padding": null,
            "right": null,
            "top": null,
            "visibility": null,
            "width": null
          }
        },
        "abdbca11624f46d7bffcc0d854e65fcc": {
          "model_module": "@jupyter-widgets/controls",
          "model_name": "ProgressStyleModel",
          "model_module_version": "1.5.0",
          "state": {
            "_model_module": "@jupyter-widgets/controls",
            "_model_module_version": "1.5.0",
            "_model_name": "ProgressStyleModel",
            "_view_count": null,
            "_view_module": "@jupyter-widgets/base",
            "_view_module_version": "1.2.0",
            "_view_name": "StyleView",
            "bar_color": null,
            "description_width": ""
          }
        },
        "80c8d343e7dc494e8252bc675ea4783b": {
          "model_module": "@jupyter-widgets/base",
          "model_name": "LayoutModel",
          "model_module_version": "1.2.0",
          "state": {
            "_model_module": "@jupyter-widgets/base",
            "_model_module_version": "1.2.0",
            "_model_name": "LayoutModel",
            "_view_count": null,
            "_view_module": "@jupyter-widgets/base",
            "_view_module_version": "1.2.0",
            "_view_name": "LayoutView",
            "align_content": null,
            "align_items": null,
            "align_self": null,
            "border": null,
            "bottom": null,
            "display": null,
            "flex": null,
            "flex_flow": null,
            "grid_area": null,
            "grid_auto_columns": null,
            "grid_auto_flow": null,
            "grid_auto_rows": null,
            "grid_column": null,
            "grid_gap": null,
            "grid_row": null,
            "grid_template_areas": null,
            "grid_template_columns": null,
            "grid_template_rows": null,
            "height": null,
            "justify_content": null,
            "justify_items": null,
            "left": null,
            "margin": null,
            "max_height": null,
            "max_width": null,
            "min_height": null,
            "min_width": null,
            "object_fit": null,
            "object_position": null,
            "order": null,
            "overflow": null,
            "overflow_x": null,
            "overflow_y": null,
            "padding": null,
            "right": null,
            "top": null,
            "visibility": null,
            "width": null
          }
        },
        "e7011e648d7a46bd8e5532a78c96242d": {
          "model_module": "@jupyter-widgets/controls",
          "model_name": "DescriptionStyleModel",
          "model_module_version": "1.5.0",
          "state": {
            "_model_module": "@jupyter-widgets/controls",
            "_model_module_version": "1.5.0",
            "_model_name": "DescriptionStyleModel",
            "_view_count": null,
            "_view_module": "@jupyter-widgets/base",
            "_view_module_version": "1.2.0",
            "_view_name": "StyleView",
            "description_width": ""
          }
        },
        "bc40d6ec06d643cc9c2d2bad0742db0c": {
          "model_module": "@jupyter-widgets/controls",
          "model_name": "HBoxModel",
          "model_module_version": "1.5.0",
          "state": {
            "_dom_classes": [],
            "_model_module": "@jupyter-widgets/controls",
            "_model_module_version": "1.5.0",
            "_model_name": "HBoxModel",
            "_view_count": null,
            "_view_module": "@jupyter-widgets/controls",
            "_view_module_version": "1.5.0",
            "_view_name": "HBoxView",
            "box_style": "",
            "children": [
              "IPY_MODEL_b4302b1e6ea3467bbd3de5c846a4a615",
              "IPY_MODEL_6188fdb47cc942c0bca8b0c2969b99a2",
              "IPY_MODEL_9f497f01370140b4b7e7ac83f5f531e6"
            ],
            "layout": "IPY_MODEL_fc7374a1afbe4058864ec5efe51d39f4"
          }
        },
        "b4302b1e6ea3467bbd3de5c846a4a615": {
          "model_module": "@jupyter-widgets/controls",
          "model_name": "HTMLModel",
          "model_module_version": "1.5.0",
          "state": {
            "_dom_classes": [],
            "_model_module": "@jupyter-widgets/controls",
            "_model_module_version": "1.5.0",
            "_model_name": "HTMLModel",
            "_view_count": null,
            "_view_module": "@jupyter-widgets/controls",
            "_view_module_version": "1.5.0",
            "_view_name": "HTMLView",
            "description": "",
            "description_tooltip": null,
            "layout": "IPY_MODEL_caf13ad172364f1abd8dc24ffaa75e41",
            "placeholder": "​",
            "style": "IPY_MODEL_431c783d60874d2db898aab0ad43b172",
            "value": "Downloading https://raw.githubusercontent.com/stanfordnlp/stanza-resources/main/resources_1.4.1.json: "
          }
        },
        "6188fdb47cc942c0bca8b0c2969b99a2": {
          "model_module": "@jupyter-widgets/controls",
          "model_name": "FloatProgressModel",
          "model_module_version": "1.5.0",
          "state": {
            "_dom_classes": [],
            "_model_module": "@jupyter-widgets/controls",
            "_model_module_version": "1.5.0",
            "_model_name": "FloatProgressModel",
            "_view_count": null,
            "_view_module": "@jupyter-widgets/controls",
            "_view_module_version": "1.5.0",
            "_view_name": "ProgressView",
            "bar_style": "success",
            "description": "",
            "description_tooltip": null,
            "layout": "IPY_MODEL_538468e647404a2fa2afcb8c819c92c0",
            "max": 28918,
            "min": 0,
            "orientation": "horizontal",
            "style": "IPY_MODEL_4d79e008c618470d8a8719fa91c0a773",
            "value": 28918
          }
        },
        "9f497f01370140b4b7e7ac83f5f531e6": {
          "model_module": "@jupyter-widgets/controls",
          "model_name": "HTMLModel",
          "model_module_version": "1.5.0",
          "state": {
            "_dom_classes": [],
            "_model_module": "@jupyter-widgets/controls",
            "_model_module_version": "1.5.0",
            "_model_name": "HTMLModel",
            "_view_count": null,
            "_view_module": "@jupyter-widgets/controls",
            "_view_module_version": "1.5.0",
            "_view_name": "HTMLView",
            "description": "",
            "description_tooltip": null,
            "layout": "IPY_MODEL_5c26ead50ca24b17b0befe5bfca97cb6",
            "placeholder": "​",
            "style": "IPY_MODEL_c6c8201a713c4bc08fda75841f1fa8b8",
            "value": " 193k/? [00:00&lt;00:00, 3.77MB/s]"
          }
        },
        "fc7374a1afbe4058864ec5efe51d39f4": {
          "model_module": "@jupyter-widgets/base",
          "model_name": "LayoutModel",
          "model_module_version": "1.2.0",
          "state": {
            "_model_module": "@jupyter-widgets/base",
            "_model_module_version": "1.2.0",
            "_model_name": "LayoutModel",
            "_view_count": null,
            "_view_module": "@jupyter-widgets/base",
            "_view_module_version": "1.2.0",
            "_view_name": "LayoutView",
            "align_content": null,
            "align_items": null,
            "align_self": null,
            "border": null,
            "bottom": null,
            "display": null,
            "flex": null,
            "flex_flow": null,
            "grid_area": null,
            "grid_auto_columns": null,
            "grid_auto_flow": null,
            "grid_auto_rows": null,
            "grid_column": null,
            "grid_gap": null,
            "grid_row": null,
            "grid_template_areas": null,
            "grid_template_columns": null,
            "grid_template_rows": null,
            "height": null,
            "justify_content": null,
            "justify_items": null,
            "left": null,
            "margin": null,
            "max_height": null,
            "max_width": null,
            "min_height": null,
            "min_width": null,
            "object_fit": null,
            "object_position": null,
            "order": null,
            "overflow": null,
            "overflow_x": null,
            "overflow_y": null,
            "padding": null,
            "right": null,
            "top": null,
            "visibility": null,
            "width": null
          }
        },
        "caf13ad172364f1abd8dc24ffaa75e41": {
          "model_module": "@jupyter-widgets/base",
          "model_name": "LayoutModel",
          "model_module_version": "1.2.0",
          "state": {
            "_model_module": "@jupyter-widgets/base",
            "_model_module_version": "1.2.0",
            "_model_name": "LayoutModel",
            "_view_count": null,
            "_view_module": "@jupyter-widgets/base",
            "_view_module_version": "1.2.0",
            "_view_name": "LayoutView",
            "align_content": null,
            "align_items": null,
            "align_self": null,
            "border": null,
            "bottom": null,
            "display": null,
            "flex": null,
            "flex_flow": null,
            "grid_area": null,
            "grid_auto_columns": null,
            "grid_auto_flow": null,
            "grid_auto_rows": null,
            "grid_column": null,
            "grid_gap": null,
            "grid_row": null,
            "grid_template_areas": null,
            "grid_template_columns": null,
            "grid_template_rows": null,
            "height": null,
            "justify_content": null,
            "justify_items": null,
            "left": null,
            "margin": null,
            "max_height": null,
            "max_width": null,
            "min_height": null,
            "min_width": null,
            "object_fit": null,
            "object_position": null,
            "order": null,
            "overflow": null,
            "overflow_x": null,
            "overflow_y": null,
            "padding": null,
            "right": null,
            "top": null,
            "visibility": null,
            "width": null
          }
        },
        "431c783d60874d2db898aab0ad43b172": {
          "model_module": "@jupyter-widgets/controls",
          "model_name": "DescriptionStyleModel",
          "model_module_version": "1.5.0",
          "state": {
            "_model_module": "@jupyter-widgets/controls",
            "_model_module_version": "1.5.0",
            "_model_name": "DescriptionStyleModel",
            "_view_count": null,
            "_view_module": "@jupyter-widgets/base",
            "_view_module_version": "1.2.0",
            "_view_name": "StyleView",
            "description_width": ""
          }
        },
        "538468e647404a2fa2afcb8c819c92c0": {
          "model_module": "@jupyter-widgets/base",
          "model_name": "LayoutModel",
          "model_module_version": "1.2.0",
          "state": {
            "_model_module": "@jupyter-widgets/base",
            "_model_module_version": "1.2.0",
            "_model_name": "LayoutModel",
            "_view_count": null,
            "_view_module": "@jupyter-widgets/base",
            "_view_module_version": "1.2.0",
            "_view_name": "LayoutView",
            "align_content": null,
            "align_items": null,
            "align_self": null,
            "border": null,
            "bottom": null,
            "display": null,
            "flex": null,
            "flex_flow": null,
            "grid_area": null,
            "grid_auto_columns": null,
            "grid_auto_flow": null,
            "grid_auto_rows": null,
            "grid_column": null,
            "grid_gap": null,
            "grid_row": null,
            "grid_template_areas": null,
            "grid_template_columns": null,
            "grid_template_rows": null,
            "height": null,
            "justify_content": null,
            "justify_items": null,
            "left": null,
            "margin": null,
            "max_height": null,
            "max_width": null,
            "min_height": null,
            "min_width": null,
            "object_fit": null,
            "object_position": null,
            "order": null,
            "overflow": null,
            "overflow_x": null,
            "overflow_y": null,
            "padding": null,
            "right": null,
            "top": null,
            "visibility": null,
            "width": null
          }
        },
        "4d79e008c618470d8a8719fa91c0a773": {
          "model_module": "@jupyter-widgets/controls",
          "model_name": "ProgressStyleModel",
          "model_module_version": "1.5.0",
          "state": {
            "_model_module": "@jupyter-widgets/controls",
            "_model_module_version": "1.5.0",
            "_model_name": "ProgressStyleModel",
            "_view_count": null,
            "_view_module": "@jupyter-widgets/base",
            "_view_module_version": "1.2.0",
            "_view_name": "StyleView",
            "bar_color": null,
            "description_width": ""
          }
        },
        "5c26ead50ca24b17b0befe5bfca97cb6": {
          "model_module": "@jupyter-widgets/base",
          "model_name": "LayoutModel",
          "model_module_version": "1.2.0",
          "state": {
            "_model_module": "@jupyter-widgets/base",
            "_model_module_version": "1.2.0",
            "_model_name": "LayoutModel",
            "_view_count": null,
            "_view_module": "@jupyter-widgets/base",
            "_view_module_version": "1.2.0",
            "_view_name": "LayoutView",
            "align_content": null,
            "align_items": null,
            "align_self": null,
            "border": null,
            "bottom": null,
            "display": null,
            "flex": null,
            "flex_flow": null,
            "grid_area": null,
            "grid_auto_columns": null,
            "grid_auto_flow": null,
            "grid_auto_rows": null,
            "grid_column": null,
            "grid_gap": null,
            "grid_row": null,
            "grid_template_areas": null,
            "grid_template_columns": null,
            "grid_template_rows": null,
            "height": null,
            "justify_content": null,
            "justify_items": null,
            "left": null,
            "margin": null,
            "max_height": null,
            "max_width": null,
            "min_height": null,
            "min_width": null,
            "object_fit": null,
            "object_position": null,
            "order": null,
            "overflow": null,
            "overflow_x": null,
            "overflow_y": null,
            "padding": null,
            "right": null,
            "top": null,
            "visibility": null,
            "width": null
          }
        },
        "c6c8201a713c4bc08fda75841f1fa8b8": {
          "model_module": "@jupyter-widgets/controls",
          "model_name": "DescriptionStyleModel",
          "model_module_version": "1.5.0",
          "state": {
            "_model_module": "@jupyter-widgets/controls",
            "_model_module_version": "1.5.0",
            "_model_name": "DescriptionStyleModel",
            "_view_count": null,
            "_view_module": "@jupyter-widgets/base",
            "_view_module_version": "1.2.0",
            "_view_name": "StyleView",
            "description_width": ""
          }
        }
      }
    }
  },
  "nbformat": 4,
  "nbformat_minor": 0
}